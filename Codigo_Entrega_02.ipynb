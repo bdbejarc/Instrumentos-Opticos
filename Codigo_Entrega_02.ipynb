{
  "nbformat": 4,
  "nbformat_minor": 0,
  "metadata": {
    "colab": {
      "name": "Codigo_Entrega_02.ipynb",
      "provenance": [],
      "authorship_tag": "ABX9TyPQv8oOI9iLd3P2fj7OXzQn",
      "include_colab_link": true
    },
    "kernelspec": {
      "name": "python3",
      "display_name": "Python 3"
    },
    "language_info": {
      "name": "python"
    }
  },
  "cells": [
    {
      "cell_type": "markdown",
      "metadata": {
        "id": "view-in-github",
        "colab_type": "text"
      },
      "source": [
        "<a href=\"https://colab.research.google.com/github/bdbejarc/Instrumentos-Opticos/blob/main/Codigo_Entrega_02.ipynb\" target=\"_parent\"><img src=\"https://colab.research.google.com/assets/colab-badge.svg\" alt=\"Open In Colab\"/></a>"
      ]
    },
    {
      "cell_type": "code",
      "metadata": {
        "id": "WE2tW8lxcKrm"
      },
      "source": [
        "# Importar librerías\n",
        "\n",
        "import pandas as pd\n",
        "import matplotlib as mlt\n",
        "import numpy as np\n",
        "import matplotlib.pyplot as plt\n",
        "import cv2"
      ],
      "execution_count": 2,
      "outputs": []
    },
    {
      "cell_type": "code",
      "metadata": {
        "id": "E87LqT57ck-v"
      },
      "source": [
        "# Coordenadas de mundo\n",
        "nm = 1e-9\n",
        "um = 1e-6\n",
        "mm = 1e-3\n",
        "cm = 1e-2\n",
        "\n",
        "# Longitud de onda\n",
        "w_length = 650*nm\n",
        "\n",
        "\n",
        "# # Solo por operación definimos N y M de una imagen 2048 x 2048\n",
        "# N = 2048 # coordenada X\n",
        "# M = 2048 # coordenada Y\n",
        "\n",
        "\n",
        "# Diferenciales, como N y M pendientes por definir para una imagen\n",
        "dx = dy = 1*um # los diferenciales (tamaño de pixel)"
      ],
      "execution_count": 4,
      "outputs": []
    },
    {
      "cell_type": "code",
      "metadata": {
        "id": "N84kBcmLcvpT"
      },
      "source": [
        "# Función para graficar complejos\n",
        "def fun_ploteo_complejo(mat, indicador, escala):\n",
        "    '''\n",
        "    mat  es una matriz compleja a plotear\n",
        "    indicador = I para intensidad, A para amplitud, P para fase\n",
        "    escala = 1 para nada, 0 para logarítmica\n",
        "    '''\n",
        "    if(indicador ==\"I\"):\n",
        "        mat = np.abs(mat)**2\n",
        "    elif(indicador == \"A\"):\n",
        "        mat = np.abs(mat)\n",
        "    elif(indicador == \"P\"):\n",
        "        mat = np.angle(mat)\n",
        "\n",
        "    if (escala == 1):\n",
        "        plt.figure()\n",
        "        plt.imshow(mat)\n",
        "        plt.colorbar()\n",
        "        plt.show()\n",
        "    else:    \n",
        "        plt.figure()\n",
        "        plt.imshow( np.log( mat + 0.0001))\n",
        "        plt.colorbar()\n",
        "        plt.show()\n"
      ],
      "execution_count": 7,
      "outputs": []
    },
    {
      "cell_type": "code",
      "metadata": {
        "colab": {
          "base_uri": "https://localhost:8080/"
        },
        "id": "wfmCLJlYdkEI",
        "outputId": "b34bbc62-bbe3-4540-a587-677d93dcc200"
      },
      "source": [
        "pera_img = cv2.imread('pera.png', 0)              # Lecutra del .csv como un objeto np.array\n",
        "print(np.shape(pera_img) )"
      ],
      "execution_count": 10,
      "outputs": [
        {
          "output_type": "stream",
          "name": "stdout",
          "text": [
            "(32, 32)\n"
          ]
        }
      ]
    },
    {
      "cell_type": "code",
      "metadata": {
        "colab": {
          "base_uri": "https://localhost:8080/"
        },
        "id": "2JePA7e34Tot",
        "outputId": "cde5046a-f4b1-4c4b-8b13-35a65c3d37a6"
      },
      "source": [
        "gafas_img = cv2.imread('gafas.png', 0)              # Lecutra del .csv como un objeto np.array\n",
        "print(np.shape(gafas_img) )"
      ],
      "execution_count": 96,
      "outputs": [
        {
          "output_type": "stream",
          "name": "stdout",
          "text": [
            "(225, 225)\n"
          ]
        }
      ]
    },
    {
      "cell_type": "code",
      "metadata": {
        "colab": {
          "base_uri": "https://localhost:8080/",
          "height": 286
        },
        "id": "GNyfOJ7mjeb3",
        "outputId": "789ab607-4c37-42ab-c720-464bf1d2aa57"
      },
      "source": [
        "#Abertura circular\n",
        "\n",
        "mask = np.zeros((1024,1024), dtype = \"uint8\")\n",
        "coord_prev = np.shape(mask)\n",
        "coord = int(coord_prev[0]/2)\n",
        "print (coord)\n",
        "cv2.circle(mask, (coord, coord), 5, 10, -1)\n",
        "plt.imshow(mask)\n",
        "plt.colorbar()\n",
        "plt.show()"
      ],
      "execution_count": 93,
      "outputs": [
        {
          "output_type": "stream",
          "name": "stdout",
          "text": [
            "512\n"
          ]
        },
        {
          "output_type": "display_data",
          "data": {
            "image/png": "[encoded data removed]",
            "text/plain": [
              "<Figure size 432x288 with 2 Axes>"
            ]
          },
          "metadata": {
            "needs_background": "light"
          }
        }
      ]
    },
    {
      "cell_type": "code",
      "metadata": {
        "id": "9Vi2wC1yc4rY"
      },
      "source": [
        "def fun_prop_Fresnel(campo, w_length, z, L_x, L_y, dx, dy, fft = True ):\n",
        "    ''' \n",
        "    \n",
        "    '''\n",
        "    # Vector de onda\n",
        "    k_vect = 2*np.pi/w_length\n",
        "\n",
        "    # Número de muestras\n",
        "    N_x = int(L_x/dx)\n",
        "    N_y = int(L_y/dy)\n",
        "\n",
        "    # delta espacio del plano z=0, satisfaciendo el requerimiento para el kernel de DFT\n",
        "    dx_0 = (w_length * z)/(dx * N_x)\n",
        "    dy_0 = (w_length * z)/(dy * N_y)\n",
        "\n",
        "    # 2. Preparar U'\n",
        "    # Preparar U', inicialmente una matriz de ceros\n",
        "    U_prima = np.zeros(np.shape(campo), dtype = np.complex128)\n",
        "\n",
        "\n",
        "    #  Este bloque de código es equivalente al anterior, pero con la diferencia que se reemplazaron los valores de dx_0 y dy_0\n",
        "    # para evitar divisiones por cero cuando z=0\n",
        "    for n_0 in np.arange(N_x):\n",
        "        for m_0 in np.arange(N_y):\n",
        "            U_prima[n_0,m_0] = campo[n_0, m_0] * np.exp( (1j*k_vect/(2*z) ) * ( (n_0*dx_0 )**2 + (m_0*dy_0 )**2) )\n",
        "\n",
        "\n",
        "     # 3. DFT// de U' para obtener U'' en una pisición z\n",
        "    if fft == False:\n",
        "          U_2prima = fun_DFT(U_prima, L_x, L_y, dx, dy)\n",
        "    else:\n",
        "          U_2prima = np.fft.fftshift(np.fft.fftn(U_prima))\n",
        "\n",
        "\n",
        "    # 4. Escalar U\n",
        "    # Inicialmente U como una matriz de ceros\n",
        "    U_z = np.zeros(np.shape(campo), dtype = np.complex128)\n",
        "\n",
        "    # Escalar\n",
        "    for n in np.arange(N_x):\n",
        "        for m in np.arange(N_y):\n",
        "            U_z[n,m] = U_2prima[n,m] * np.exp(1j*k_vect*z)/(1j*w_length*z)  * np.exp( k_vect*1j/(2*z) * ( (n*dx)**2 +(m*dy)**2 ) ) \n",
        "    \n",
        "    return U_z\n"
      ],
      "execution_count": 74,
      "outputs": []
    },
    {
      "cell_type": "code",
      "metadata": {
        "colab": {
          "base_uri": "https://localhost:8080/",
          "height": 276
        },
        "id": "c6SjvG7zdQsg",
        "outputId": "474314b3-a898-4e99-853d-08e660f908f7"
      },
      "source": [
        "propagado = fun_prop_Fresnel(pera_img, w_length, 30*um, 32*um,32*um,1*um,1*um, True)\n",
        "fun_ploteo_complejo(propagado, \"I\", 1)\n"
      ],
      "execution_count": 92,
      "outputs": [
        {
          "output_type": "display_data",
          "data": {
            "image/png": "[encoded data removed]",
            "text/plain": [
              "<Figure size 432x288 with 2 Axes>"
            ]
          },
          "metadata": {
            "needs_background": "light"
          }
        }
      ]
    },
    {
      "cell_type": "code",
      "metadata": {
        "colab": {
          "base_uri": "https://localhost:8080/",
          "height": 276
        },
        "id": "tiiZ6p7RdU28",
        "outputId": "d35233dd-142d-49fa-9ac3-e175585dd036"
      },
      "source": [
        "propagado = fun_prop_Fresnel(mask, w_length, 10*um, 1024*um,1024*um,1*um,1*um, True)\n",
        "fun_ploteo_complejo(propagado, \"I\", 1)"
      ],
      "execution_count": 94,
      "outputs": [
        {
          "output_type": "display_data",
          "data": {
            "image/png": "[encoded data removed]",
            "text/plain": [
              "<Figure size 432x288 with 2 Axes>"
            ]
          },
          "metadata": {
            "needs_background": "light"
          }
        }
      ]
    },
    {
      "cell_type": "code",
      "metadata": {
        "id": "ttGL4m6jm3gB"
      },
      "source": [
        "def Fresnel (campo, w_length, z, dx, dy):\n",
        "    # Vector de onda\n",
        "    k_vect = 2*np.pi/w_length\n",
        "\n",
        "    # Número de muestras\n",
        "    #N_x = int(L_x/dx)\n",
        "    #N_y = int(L_y/dy)\n",
        "\n",
        "    #Definamos el espacio coordenado\n",
        "    N,M = np.shape(campo)\n",
        "    x = np.arange(-int(M/2), int(M/2), 1)\n",
        "    y = np.arange(-int(N/2), int(N/2), 1)\n",
        "    X,Y = np.meshgrid(x,y)\n",
        "\n",
        "    # delta espacio del plano z=0, satisfaciendo el requerimiento para el kernel de DFT\n",
        "    dx_0 = X * (w_length * z)/(dx * N)\n",
        "    dy_0 = Y * (w_length * z)/(dy * M) \n",
        "\n",
        "    C1 = np.exp((1j*k_vect/2*z) * ( dx_0**2 + dy_0**2))\n",
        "    C2 = np.exp((1j*k_vect/z) * (N * dx_0 + M * dy_0))\n",
        "\n",
        "    # 2. Preparar U'\n",
        "    U_p = campo * C1\n",
        "\n",
        "    # 3. DFT// de U' para obtener U'' en una pisición z\n",
        "    U_2p = np.fft.fftshift(np.fft.fftn(U_p))\n",
        "\n",
        "    \n",
        "    # 4. Escalar U\n",
        "    prop = U_2p * C2\n",
        "\n",
        "\n",
        "\n",
        "    return prop\n",
        "\n",
        "\n"
      ],
      "execution_count": 98,
      "outputs": []
    },
    {
      "cell_type": "code",
      "metadata": {
        "colab": {
          "base_uri": "https://localhost:8080/",
          "height": 269
        },
        "id": "zfDZ40-cpa91",
        "outputId": "32b54850-16ed-4945-de24-29b17a049814"
      },
      "source": [
        "propa = Fresnel(mask, w_length, 5*um,1*um,1*um)\n",
        "fun_ploteo_complejo(propa, \"I\", 1)"
      ],
      "execution_count": 95,
      "outputs": [
        {
          "output_type": "display_data",
          "data": {
            "image/png": "[encoded data removed]",
            "text/plain": [
              "<Figure size 432x288 with 2 Axes>"
            ]
          },
          "metadata": {
            "needs_background": "light"
          }
        }
      ]
    },
    {
      "cell_type": "code",
      "metadata": {
        "colab": {
          "base_uri": "https://localhost:8080/",
          "height": 276
        },
        "id": "5NbRBPTr0n1C",
        "outputId": "8976ea92-e285-4a26-add3-fa435d9c6fcc"
      },
      "source": [
        "propag = Fresnel(gafas_img, w_length, 5*um,1*um,1*um)\n",
        "fun_ploteo_complejo(propag, \"I\", 1)"
      ],
      "execution_count": 99,
      "outputs": [
        {
          "output_type": "display_data",
          "data": {
            "image/png": "[encoded data removed]",
            "text/plain": [
              "<Figure size 432x288 with 2 Axes>"
            ]
          },
          "metadata": {
            "needs_background": "light"
          }
        }
      ]
    },
    {
      "cell_type": "code",
      "metadata": {
        "id": "rCRORMQH4yHA"
      },
      "source": [
        ""
      ],
      "execution_count": null,
      "outputs": []
    }
  ]
}