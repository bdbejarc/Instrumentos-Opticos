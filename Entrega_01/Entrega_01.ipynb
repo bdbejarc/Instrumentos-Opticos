{
 "cells": [
  {
   "cell_type": "markdown",
   "metadata": {},
   "source": [
    "# Punto 4"
   ]
  },
  {
   "cell_type": "code",
   "execution_count": 1,
   "metadata": {},
   "outputs": [],
   "source": [
    "import pandas as pd\n",
    "import matplotlib as mlt\n",
    "import numpy as np\n",
    "import matplotlib.pyplot as plt\n",
    "import cv2\n",
    "import PyQt5"
   ]
  },
  {
   "cell_type": "code",
   "execution_count": 2,
   "metadata": {},
   "outputs": [],
   "source": [
    "# Para que las gráficas se impriman no en el notebook, sino en una nueva pestaña\n",
    "%matplotlib qt"
   ]
  },
  {
   "cell_type": "markdown",
   "metadata": {},
   "source": [
    "## Punto 4 a"
   ]
  },
  {
   "cell_type": "code",
   "execution_count": 3,
   "metadata": {},
   "outputs": [],
   "source": [
    "# Lectura de los datos\n",
    "\n",
    "a = pd.read_csv('a.csv', header=None)              # Lecutra del .csv como un objeto np.array\n",
    "\n",
    "# Dado que la información del csv se carga como texto y además los complejos tienen i en vez de j\n",
    "# se convertirán esos textos a números complejos\n",
    "a = a.applymap(lambda s: complex(s.replace('i', 'j'))).values       # Tomado de https://stackoverflow.com/questions/18280489/numpy-read-csv-with-complex-number"
   ]
  },
  {
   "cell_type": "code",
   "execution_count": 10,
   "metadata": {},
   "outputs": [],
   "source": [
    "# Función para plotear complejos\n",
    "\n",
    "def fun_ploteo_complejo(mat, indicador, escala, mapa_color = 'gray'):\n",
    "    '''\n",
    "    mat  es una matriz compleja a plotear\n",
    "    indicador = I para intensidad, A para amplitud, P para fase\n",
    "    escala = 1 para nada, 0 para logarítmica\n",
    "    '''\n",
    "    if(indicador ==\"I\"):\n",
    "        mat = np.abs(mat)**2\n",
    "    elif(indicador == \"A\"):\n",
    "        mat = np.abs(mat)\n",
    "    elif(indicador == \"P\"):\n",
    "        mat = np.angle(mat)\n",
    "\n",
    "    if (escala == 1):\n",
    "        plt.figure()\n",
    "        plt.imshow(mat, cmap = mapa_color)\n",
    "        plt.colorbar()\n",
    "        plt.show()\n",
    "    else:    \n",
    "        plt.figure()\n",
    "        plt.imshow( np.log( mat + 0.001), cmap = mapa_color)\n",
    "        plt.colorbar()\n",
    "        plt.show()\n",
    "\n",
    "\n"
   ]
  },
  {
   "cell_type": "code",
   "execution_count": 9,
   "metadata": {},
   "outputs": [],
   "source": [
    "fun_ploteo_complejo(a,\"A\", 0)\n",
    "\n",
    "# Se puede apreciar que en ese campo no hay una imagen discernible"
   ]
  },
  {
   "cell_type": "code",
   "execution_count": 11,
   "metadata": {},
   "outputs": [],
   "source": [
    "# Por lo que podemos observar como se \n",
    "fun_ploteo_complejo(a,\"P\", 1)\n",
    "\n",
    "# Se puede apreciar un patrón en en el centro como dos semiesferas"
   ]
  },
  {
   "cell_type": "code",
   "execution_count": 102,
   "metadata": {},
   "outputs": [
    {
     "name": "stdout",
     "output_type": "stream",
     "text": [
      "-0.4619989196455577 0.9999999999999996 0.9999999999999996 -0.5436317736040365\n"
     ]
    }
   ],
   "source": [
    "np.imag(a[0][0])\n",
    "print(np.angle(a[0][0]), np.sqrt(np.real(a[0][0])**2 + np.imag(a[0][0])**2), np.abs(a[0][0]), np.tan(np.imag(a[0][0])/np.real(a[0][0]) ) )"
   ]
  },
  {
   "cell_type": "code",
   "execution_count": 12,
   "metadata": {},
   "outputs": [
    {
     "name": "stdout",
     "output_type": "stream",
     "text": [
      "360 360\n"
     ]
    }
   ],
   "source": [
    "#Creación de la máscara\n",
    "\n",
    "mask_4a = np.zeros(np.shape(a), dtype = \"uint8\") # uint8 tipo de la variable de la matriz (enteros de 8 bit)\n",
    "\n",
    "# Como mi imagen no es cuadrada, entonces necesito dos coordenadas\n",
    "# para el centro\n",
    "coord0 = int(np.shape(a)[0]/2)\n",
    "coord1 = int(np.shape(a)[1]/2)\n",
    "\n",
    "print(coord0, coord1)\n",
    "\n",
    "#Graficar la máscara circular \n",
    "cv2.circle(mask_4a, (coord1, coord0), 50, 1, -1)\n",
    "#arg1  #arg2 = posiciones de columnas #arg 3=pixeles dentro de la máscara # arg4 = que me rellene todo\n",
    "plt.figure()\n",
    "plt.imshow(mask_4a)\n",
    "plt.colorbar() # Para mostrar barra de colores\n",
    "plt.show()"
   ]
  },
  {
   "cell_type": "code",
   "execution_count": 20,
   "metadata": {},
   "outputs": [],
   "source": [
    "#Transformada de la matriz a\n",
    "fft_a = np.fft.fftn(a)\n",
    "\n",
    "# Shifteada\n",
    "fft_a_shifted = np.fft.fftshift(fft_a)\n",
    "\n",
    "# Aplicando la máscara (en el espacio de frecuencias)\n",
    "fft_a_filtrada = fft_a_shifted*mask_4a\n",
    "\n",
    "# Regresando al espacio real aplicando la máscara\n",
    "a_filtrada = np.fft.ifftn(fft_a_filtrada)\n",
    "\n",
    "# Gráfica de la máscara\n",
    "fun_ploteo_complejo(mask_4a, \"A\", 0)\n",
    "\n",
    "# Gráfica de la transformada shifteada\n",
    "fun_ploteo_complejo(fft_a_shifted, \"A\", 0)\n",
    "#Grágica de la fase de la transformada\n",
    "fun_ploteo_complejo(fft_a_shifted, \"P\", 1, 'viridis')\n",
    "\n",
    "\n",
    "# Gráfica de la transformada * máscara\n",
    "fun_ploteo_complejo(fft_a_filtrada, \"A\", 0)\n",
    "\n",
    "# Gráfica de la imagen real despues de filtrar la transformada con la máscara\n",
    "fun_ploteo_complejo(a_filtrada, \"A\", 1)\n"
   ]
  },
  {
   "cell_type": "code",
   "execution_count": 28,
   "metadata": {},
   "outputs": [],
   "source": [
    "\n",
    "\n",
    "plt.figure()\n",
    "plt.hist(np.real(a))\n",
    "plt.show()\n",
    "\n",
    "\n",
    "plt.figure()\n",
    "plt.hist(np.imag(a))\n",
    "plt.show()\n",
    "\n",
    "\n",
    "plt.figure()\n",
    "plt.hist(np.abs(a))\n",
    "plt.show()\n",
    "\n",
    "plt.figure()\n",
    "plt.hist(np.angle(a))\n",
    "plt.show()"
   ]
  },
  {
   "cell_type": "code",
   "execution_count": 29,
   "metadata": {},
   "outputs": [
    {
     "data": {
      "text/plain": [
       "(array([[ 16.,   0.,  58., ..., 130., 200.,  82.],\n",
       "        [ 13.,   3.,  61., ..., 131., 198.,  72.],\n",
       "        [ 17.,   0.,  40., ..., 139., 180.,  73.],\n",
       "        ...,\n",
       "        [  9.,   3.,  56., ..., 146., 181.,  82.],\n",
       "        [ 10.,   3.,  54., ..., 140., 191.,  71.],\n",
       "        [  6.,   8.,  46., ..., 141., 193.,  75.]]),\n",
       " array([1., 1., 1., 1., 1., 1., 1., 1., 1., 1., 1.]),\n",
       " <a list of 720 BarContainer objects>)"
      ]
     },
     "execution_count": 29,
     "metadata": {},
     "output_type": "execute_result"
    }
   ],
   "source": [
    "plt.hist(np.abs(a))"
   ]
  },
  {
   "cell_type": "code",
   "execution_count": 26,
   "metadata": {},
   "outputs": [
    {
     "data": {
      "text/plain": [
       "(array([[  5.,  27., 172., ...,   0.,   0.,  13.],\n",
       "        [  6.,  21., 185., ...,   1.,   1.,  11.],\n",
       "        [ 11.,  24., 191., ...,   0.,   0.,  11.],\n",
       "        ...,\n",
       "        [ 16.,  14.,  90., ...,   1.,   0.,   0.],\n",
       "        [ 17.,  15.,  86., ...,   3.,   0.,   0.],\n",
       "        [ 16.,  18.,  96., ...,   3.,   0.,   0.]]),\n",
       " array([-1.57079633, -1.25663706, -0.9424778 , -0.62831853, -0.31415927,\n",
       "         0.        ,  0.31415927,  0.62831853,  0.9424778 ,  1.25663706,\n",
       "         1.57079633]),\n",
       " <a list of 720 BarContainer objects>)"
      ]
     },
     "execution_count": 26,
     "metadata": {},
     "output_type": "execute_result"
    }
   ],
   "source": [
    "plt.hist(np.angle(a))"
   ]
  },
  {
   "cell_type": "markdown",
   "metadata": {},
   "source": [
    "# Punto 4 c"
   ]
  },
  {
   "cell_type": "code",
   "execution_count": null,
   "metadata": {},
   "outputs": [],
   "source": []
  }
 ],
 "metadata": {
  "interpreter": {
   "hash": "ac59ebe37160ed0dfa835113d9b8498d9f09ceb179beaac4002f036b9467c963"
  },
  "kernelspec": {
   "display_name": "Python 3.9.7 64-bit",
   "name": "python3"
  },
  "language_info": {
   "codemirror_mode": {
    "name": "ipython",
    "version": 3
   },
   "file_extension": ".py",
   "mimetype": "text/x-python",
   "name": "python",
   "nbconvert_exporter": "python",
   "pygments_lexer": "ipython3",
   "version": "3.9.7"
  },
  "orig_nbformat": 4
 },
 "nbformat": 4,
 "nbformat_minor": 2
}
