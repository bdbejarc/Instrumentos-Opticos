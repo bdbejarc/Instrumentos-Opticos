{
 "cells": [
  {
   "cell_type": "markdown",
   "metadata": {},
   "source": [
    "# Punto 4"
   ]
  },
  {
   "cell_type": "code",
   "execution_count": 1,
   "metadata": {},
   "outputs": [],
   "source": [
    "import pandas as pd\n",
    "import matplotlib as mlt\n",
    "import numpy as np\n",
    "import matplotlib.pyplot as plt\n",
    "import cv2\n",
    "import PyQt5"
   ]
  },
  {
   "cell_type": "code",
   "execution_count": 2,
   "metadata": {},
   "outputs": [],
   "source": [
    "# Para que las gráficas se impriman no en el notebook, sino en una nueva pestaña\n",
    "%matplotlib qt"
   ]
  },
  {
   "cell_type": "code",
   "execution_count": 3,
   "metadata": {},
   "outputs": [],
   "source": [
    "# Función para plotear complejos\n",
    "\n",
    "def fun_ploteo_complejo(mat, indicador, escala, mapa_color = 'gray'):\n",
    "    '''\n",
    "    mat  es una matriz compleja a plotear\n",
    "    indicador = I para intensidad, A para amplitud, P para fase\n",
    "    escala = 1 para nada, 0 para logarítmica\n",
    "    '''\n",
    "    if(indicador ==\"I\"):\n",
    "        mat = np.abs(mat)**2\n",
    "    elif(indicador == \"A\"):\n",
    "        mat = np.abs(mat)\n",
    "    elif(indicador == \"P\"):\n",
    "        mat = np.angle(mat)\n",
    "\n",
    "    if (escala == 1):\n",
    "        plt.figure()\n",
    "        plt.imshow(mat, cmap = mapa_color)\n",
    "        plt.colorbar()\n",
    "        plt.show()\n",
    "    else:    \n",
    "        plt.figure()\n",
    "        plt.imshow( np.log( mat + 0.001), cmap = mapa_color)\n",
    "        plt.colorbar()\n",
    "        plt.show()\n",
    "\n",
    "\n"
   ]
  },
  {
   "cell_type": "markdown",
   "metadata": {},
   "source": [
    "## Punto 4 a"
   ]
  },
  {
   "cell_type": "code",
   "execution_count": 4,
   "metadata": {},
   "outputs": [
    {
     "data": {
      "text/plain": [
       "(720, 720)"
      ]
     },
     "execution_count": 4,
     "metadata": {},
     "output_type": "execute_result"
    }
   ],
   "source": [
    "# Lectura de los datos\n",
    "\n",
    "a = pd.read_csv('a.csv', header=None)              # Lecutra del .csv como un objeto np.array\n",
    "\n",
    "# Dado que la información del csv se carga como texto y además los complejos tienen i en vez de j\n",
    "# se convertirán esos textos a números complejos\n",
    "a = a.applymap(lambda s: complex(s.replace('i', 'j'))).values       # Tomado de https://stackoverflow.com/questions/18280489/numpy-read-csv-with-complex-number\n",
    "\n",
    "np.shape(a)"
   ]
  },
  {
   "cell_type": "code",
   "execution_count": 5,
   "metadata": {},
   "outputs": [],
   "source": [
    "# Graficar el campo\n",
    "fun_ploteo_complejo(a ,\"I\", 0)\n",
    "\n",
    "# Graficar las fases del campo donde se encuentra la información de la imagen\n",
    "fun_ploteo_complejo(a ,\"P\", 1)\n",
    "\n",
    "# Graficar la transformada de Fourier shifteada\n",
    "fun_ploteo_complejo(np.fft.fftshift(np.fft.fftn(a) ),\"I\", 0)\n"
   ]
  },
  {
   "cell_type": "code",
   "execution_count": 6,
   "metadata": {},
   "outputs": [],
   "source": [
    "# Crear la onda monocromática\n",
    "monocromatica = np.ones(np.shape(a),  dtype=complex)"
   ]
  },
  {
   "cell_type": "code",
   "execution_count": 18,
   "metadata": {},
   "outputs": [],
   "source": [
    "# hacer interferencia\n",
    "holografia = a+monocromática\n",
    "\n",
    "\n",
    "#Aquí obtenemos el gráfico de la intensidad a partir de la interferencia de las ondas (desfasadas y pura)\n",
    "fun_ploteo_complejo(holografia ,\"I\", 0)"
   ]
  },
  {
   "cell_type": "code",
   "execution_count": null,
   "metadata": {},
   "outputs": [],
   "source": [
    "\n",
    "ffts_holografia = np.fft.fftshift(np.fft.fftn(holografia) )\n",
    "fun_ploteo_complejo(ffts_holografia,\"I\", 0)\n",
    "\n",
    "# Se puede apreciar un patrón en en el centro como dos semiesferas\n",
    "\n",
    "ffts_holografia_filtrada = ffts_holografia*mask_4a\n",
    "\n",
    "# Gráfica de la transformada * máscara\n",
    "fun_ploteo_complejo(ffts_holografia_filtrada, \"I\", 0)\n",
    "\n",
    "# Gráfica de la imagen real despues de filtrar la transformada con la máscara\n",
    "fun_ploteo_complejo(np.fft.fftn(ffts_holografia_filtrada), \"I\", 0)"
   ]
  },
  {
   "cell_type": "code",
   "execution_count": 33,
   "metadata": {},
   "outputs": [
    {
     "name": "stdout",
     "output_type": "stream",
     "text": [
      "360 360\n"
     ]
    }
   ],
   "source": [
    "#Creación de la máscara\n",
    "\n",
    "mask_4a = np.ones(np.shape(a), dtype = \"uint8\") # uint8 tipo de la variable de la matriz (enteros de 8 bit)\n",
    "\n",
    "# Como mi imagen no es cuadrada, entonces necesito dos coordenadas\n",
    "# para el centro\n",
    "coord0 = int(np.shape(a)[0]/2)\n",
    "coord1 = int(np.shape(a)[1]/2)\n",
    "\n",
    "print(coord0, coord1)\n",
    "\n",
    "#Graficar la máscara circular \n",
    "cv2.circle(mask_4a, (coord1, coord0), 25, 0, -1)\n",
    "#arg1  #arg2 = posiciones de columnas #arg 3=pixeles dentro de la máscara # arg4 = que me rellene todo\n",
    "plt.figure()\n",
    "plt.imshow(mask_4a)\n",
    "plt.colorbar() # Para mostrar barra de colores\n",
    "plt.show()"
   ]
  },
  {
   "cell_type": "code",
   "execution_count": 9,
   "metadata": {},
   "outputs": [],
   "source": [
    "#Transformada de la matriz a\n",
    "fft_a = np.fft.fftn(a)\n",
    "\n",
    "# Shifteada\n",
    "fft_a_shifted = np.fft.fftshift(fft_a)\n",
    "\n",
    "# Aplicando la máscara (en el espacio de frecuencias)\n",
    "fft_a_filtrada = fft_a_shifted*mask_4a\n",
    "\n",
    "# Regresando al espacio real aplicando la máscara\n",
    "a_filtrada = np.fft.ifftn(fft_a_filtrada)\n",
    "\n",
    "# Gráfica de la máscara\n",
    "fun_ploteo_complejo(mask_4a, \"A\", 0)\n",
    "\n",
    "# Gráfica de la transformada shifteada\n",
    "fun_ploteo_complejo(fft_a_shifted, \"A\", 0)\n",
    "#Grágica de la fase de la transformada\n",
    "fun_ploteo_complejo(fft_a_shifted, \"P\", 1, 'viridis')\n",
    "\n",
    "\n",
    "# Gráfica de la transformada * máscara\n",
    "fun_ploteo_complejo(fft_a_filtrada, \"A\", 0)\n",
    "\n",
    "# Gráfica de la imagen real despues de filtrar la transformada con la máscara\n",
    "fun_ploteo_complejo(a_filtrada, \"A\", 1)\n"
   ]
  },
  {
   "cell_type": "code",
   "execution_count": 10,
   "metadata": {},
   "outputs": [],
   "source": [
    "\n",
    "\n",
    "plt.figure()\n",
    "plt.hist(np.real(a))\n",
    "plt.show()\n",
    "\n",
    "\n",
    "plt.figure()\n",
    "plt.hist(np.imag(a))\n",
    "plt.show()\n",
    "\n",
    "\n",
    "plt.figure()\n",
    "plt.hist(np.abs(a))\n",
    "plt.show()\n",
    "\n",
    "plt.figure()\n",
    "plt.hist(np.angle(a))\n",
    "plt.show()"
   ]
  },
  {
   "cell_type": "markdown",
   "metadata": {},
   "source": [
    "# Punto 4 c"
   ]
  },
  {
   "cell_type": "code",
   "execution_count": 12,
   "metadata": {},
   "outputs": [],
   "source": [
    "# Lectura de los datos\n",
    "\n",
    "war_img = cv2.imread('c.jpeg')              # Lecutra del .csv como un objeto np.array\n",
    "waly_img = cv2.imread('c_clue.jpeg')\n",
    "# Dado que la información del csv se carga como texto y además los complejos tienen i en vez de j\n",
    "# se convertirán esos textos a números complejos\n"
   ]
  },
  {
   "cell_type": "code",
   "execution_count": 13,
   "metadata": {},
   "outputs": [
    {
     "name": "stdout",
     "output_type": "stream",
     "text": [
      "dimensiones de la imagen de guerra:  (1680, 2600, 3) \n",
      "dimensiones de waly:  (64, 64, 3)\n"
     ]
    }
   ],
   "source": [
    "# Veamos las dimensiones de las imágenes\n",
    "print(\"dimensiones de la imagen de guerra: \" ,np.shape(war_img), \"\\ndimensiones de waly: \", np.shape(waly_img) )\n",
    "\n",
    "# Cambiar a RGB\n",
    "war_img = cv2.cvtColor(war_img, cv2.COLOR_BGR2RGB)\n",
    "waly_img = cv2.cvtColor(waly_img, cv2.COLOR_BGR2RGB)\n",
    "\n",
    "# Mostrar imágenes\n",
    "plt.figure()\n",
    "plt.imshow(war_img)\n",
    "plt.show()\n",
    "\n",
    "plt.figure()\n",
    "plt.imshow(waly_img)\n",
    "plt.show()"
   ]
  },
  {
   "cell_type": "markdown",
   "metadata": {},
   "source": [
    "Como tenemos imágnes RGB, entonces por facilidad las pasaremos a escala de grices, después si se desea, \n",
    "generalizamos para imágenes RGB"
   ]
  },
  {
   "cell_type": "code",
   "execution_count": 14,
   "metadata": {},
   "outputs": [],
   "source": [
    "# Convertir imágenes RGB a escala de grises\n",
    "war_gray = cv2.cvtColor(war_img, cv2.COLOR_RGB2GRAY)\n",
    "waly_gray = cv2.cvtColor(waly_img, cv2.COLOR_RGB2GRAY)\n",
    "\n",
    "# Mostrar imágenes\n",
    "plt.figure()\n",
    "plt.imshow(war_gray, cmap = 'gray')\n",
    "plt.show()\n",
    "\n",
    "plt.figure()\n",
    "plt.imshow(waly_gray, cmap = 'gray')\n",
    "plt.show()"
   ]
  },
  {
   "cell_type": "code",
   "execution_count": 15,
   "metadata": {},
   "outputs": [],
   "source": [
    "# Transformadas de Fourier a las imágenes\n",
    "fft_war = np.fft.fftn(war_gray)\n",
    "fft_waly = np.fft.fftn(waly_gray)\n",
    "\n",
    "# Shifteando\n",
    "ffts_war = np.fft.fftshift(fft_war)\n",
    "ffts_waly = np.fft.fftshift(fft_waly)\n",
    "\n",
    "# Graficando las transofrmadas\n",
    "fun_ploteo_complejo(ffts_war, \"I\", 0)\n",
    "fun_ploteo_complejo(ffts_waly, \"I\", 0)"
   ]
  },
  {
   "cell_type": "markdown",
   "metadata": {},
   "source": [
    "# Pad"
   ]
  },
  {
   "cell_type": "code",
   "execution_count": 26,
   "metadata": {},
   "outputs": [
    {
     "name": "stdout",
     "output_type": "stream",
     "text": [
      "(1680, 2600)\n"
     ]
    }
   ],
   "source": [
    "dimension_pad = (np.array(np.shape(war_gray) ) - np.array(np.shape(waly_gray) ) )/2\n",
    "waly_paded = np.pad(waly_gray, ( (int(dimension_pad[0]), int(dimension_pad[0]) ), (int(dimension_pad[1]), int(dimension_pad[1])) ), mode = 'constant', constant_values = (0,0) )\n",
    "\n",
    "print(np.shape(waly_paded) )\n",
    "#plt.imshow(waly_paded)\n",
    "# Fourier\n",
    "fft_p_waly = np.fft.fftn(waly_paded)\n",
    "ffts_p_waly = np.fft.fftshift(fft_p_waly)       # Shift\n",
    "\n",
    "filtrada = ffts_war * np.conj(ffts_p_waly)      # Sacando complejo conjugado a fft pad de waly y multiplicando  las transformadas\n",
    "\n",
    "\n",
    "#Graficando\n",
    "# fft padeado de waly\n",
    "fun_ploteo_complejo(ffts_p_waly, \"I\", 0)\n",
    "# ffts de la imagen original\n",
    "fun_ploteo_complejo(ffts_war, \"I\" , 0)\n",
    "# la multiplicación de las transformadas\n",
    "fun_ploteo_complejo(filtrada, \"I\", 0)\n",
    "\n",
    "# Regresando a al dominio espacial y graficando\n",
    "fun_ploteo_complejo(np.fft.fftn(filtrada), \"I\", 1)"
   ]
  }
 ],
 "metadata": {
  "interpreter": {
   "hash": "ac59ebe37160ed0dfa835113d9b8498d9f09ceb179beaac4002f036b9467c963"
  },
  "kernelspec": {
   "display_name": "Python 3.9.7 64-bit",
   "name": "python3"
  },
  "language_info": {
   "codemirror_mode": {
    "name": "ipython",
    "version": 3
   },
   "file_extension": ".py",
   "mimetype": "text/x-python",
   "name": "python",
   "nbconvert_exporter": "python",
   "pygments_lexer": "ipython3",
   "version": "3.9.7"
  },
  "orig_nbformat": 4
 },
 "nbformat": 4,
 "nbformat_minor": 2
}
