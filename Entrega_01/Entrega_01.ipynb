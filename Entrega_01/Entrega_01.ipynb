{
 "cells": [
  {
   "cell_type": "markdown",
   "metadata": {},
   "source": [
    "# Punto 4"
   ]
  },
  {
   "cell_type": "code",
   "execution_count": 1,
   "metadata": {},
   "outputs": [],
   "source": [
    "import pandas as pd\n",
    "import matplotlib as mlt\n",
    "import numpy as np\n",
    "import matplotlib.pyplot as plt\n",
    "import cv2\n",
    "import PyQt5"
   ]
  },
  {
   "cell_type": "code",
   "execution_count": 2,
   "metadata": {},
   "outputs": [],
   "source": [
    "# Para que las gráficas se impriman no en el notebook, sino en una nueva pestaña\n",
    "%matplotlib qt"
   ]
  },
  {
   "cell_type": "code",
   "execution_count": 3,
   "metadata": {},
   "outputs": [],
   "source": [
    "# Función para plotear complejos\n",
    "\n",
    "def fun_ploteo_complejo(mat, indicador, escala, mapa_color = 'gray'):\n",
    "    '''\n",
    "    mat  es una matriz compleja a plotear\n",
    "    indicador = I para intensidad, A para amplitud, P para fase\n",
    "    escala = 1 para nada, 0 para logarítmica\n",
    "    '''\n",
    "    if(indicador ==\"I\"):\n",
    "        mat = np.abs(mat)**2\n",
    "    elif(indicador == \"A\"):\n",
    "        mat = np.abs(mat)\n",
    "    elif(indicador == \"P\"):\n",
    "        mat = np.angle(mat)\n",
    "\n",
    "    if (escala == 1):\n",
    "        plt.figure()\n",
    "        plt.imshow(mat, cmap = mapa_color)\n",
    "        plt.colorbar()\n",
    "        plt.show()\n",
    "    else:    \n",
    "        plt.figure()\n",
    "        plt.imshow( np.log( mat + 0.0001), cmap = mapa_color)\n",
    "        plt.colorbar()\n",
    "        plt.show()\n",
    "\n",
    "\n"
   ]
  },
  {
   "cell_type": "markdown",
   "metadata": {},
   "source": [
    "## Punto 4 a"
   ]
  },
  {
   "cell_type": "code",
   "execution_count": 4,
   "metadata": {},
   "outputs": [
    {
     "data": {
      "text/plain": [
       "(720, 720)"
      ]
     },
     "execution_count": 4,
     "metadata": {},
     "output_type": "execute_result"
    }
   ],
   "source": [
    "# Lectura de los datos\n",
    "\n",
    "a = pd.read_csv('a.csv', header=None)              # Lecutra del .csv como un objeto np.array\n",
    "\n",
    "# Dado que la información del csv se carga como texto y además los complejos tienen i en vez de j\n",
    "# se convertirán esos textos a números complejos\n",
    "a = a.applymap(lambda s: complex(s.replace('i', 'j'))).values       # Tomado de https://stackoverflow.com/questions/18280489/numpy-read-csv-with-complex-number\n",
    "\n",
    "# dimensiones de a\n",
    "np.shape(a)\n",
    "\n"
   ]
  },
  {
   "cell_type": "code",
   "execution_count": 5,
   "metadata": {},
   "outputs": [],
   "source": [
    "# Graficar el campo\n",
    "fun_ploteo_complejo(a ,\"I\", 0)\n",
    "#donde se observa ruido y ninguna imagen dicernible\n",
    "\n",
    "# Graficar las fases del campo donde se encuentra la información de la imagen\n",
    "fun_ploteo_complejo(a ,\"P\", 1)\n",
    "# Adelantándonos al resultado final y observando la imagen a encontrar (spoiler alert!)\n",
    "\n",
    "# Graficar la transformada de Fourier shifteada de a\n",
    "ffts_a = np.fft.fftshift(np.fft.fftn(a))\n",
    "fun_ploteo_complejo(ffts_a ,\"I\", 0)\n"
   ]
  },
  {
   "cell_type": "code",
   "execution_count": 6,
   "metadata": {},
   "outputs": [],
   "source": [
    "# Crear la onda monocromática y sin fase inicial\n",
    "monocromatica = np.ones(np.shape(a),  dtype=complex)\n",
    "\n",
    "# FFT de monocromatica\n",
    "ffts_monocromatica = np.fft.fftshift(np.fft.fftn(monocromatica))\n",
    "\n",
    "# Mostrar la transformada de la onda monocromática (debe ser un punto brillante en el centro, amplificar imagen \n",
    "# si no se percibe)\n",
    "fun_ploteo_complejo(ffts_monocromatica, \"I\", 0)\n",
    "\n",
    "# lo que se vería en el plano focal si no existiera la transmitancia\n"
   ]
  },
  {
   "cell_type": "code",
   "execution_count": 7,
   "metadata": {},
   "outputs": [],
   "source": [
    "# Acorde a la teoría seguiremos dos caminos:\n",
    "\n",
    "# 1) Interferencia (no dentro del curso pero para ejemplificar), intereferiremos dos ondas, una desfasada y otra \n",
    "# no así el resultado del patrón, se verá reflejado en la intensidad\n",
    "\n",
    "interferencia = a + monocromatica       # acer interferencia\n",
    "\n",
    "#Aquí obtenemos el gráfico de la intensidad a partir de la interferencia de las ondas (desfasadas y pura)\n",
    "fun_ploteo_complejo(interferencia ,\"I\", 0)"
   ]
  },
  {
   "cell_type": "code",
   "execution_count": 8,
   "metadata": {},
   "outputs": [],
   "source": [
    "# 2) Tería difractiva\n",
    "# entendiendo del documento word, que en el plano focal observaremos la transformada de la transmitancia \n",
    "# y en el centro (eje óptico) la transformada de la onda sin desfasar, entonces la superposición de estas\n",
    "# dará como resultado la imagen deseada\n",
    "\n",
    "# Sumas en el espacio de Fourier\n",
    "fft_espectro = ffts_monocromatica + ffts_a\n",
    "\n",
    "# Gráfica de la suma\n",
    "fun_ploteo_complejo(fft_espectro, \"I\", 0)\n",
    "\n",
    "#Gráfica en el espacio real\n",
    "fun_ploteo_complejo(np.fft.fftn(fft_espectro),\"I\",0)\n",
    "\n",
    "# Se puede observar así, que tan solo ese punto de la onda monocromática en el espacio de Fourier\n",
    "# permite la obtención de la información guardada en la fase."
   ]
  },
  {
   "cell_type": "markdown",
   "metadata": {},
   "source": [
    "# Punto 4 c"
   ]
  },
  {
   "cell_type": "code",
   "execution_count": 9,
   "metadata": {},
   "outputs": [],
   "source": [
    "# Lectura de los datos\n",
    "\n",
    "war_img = cv2.imread('c.jpeg')              # Lecutra del .csv como un objeto np.array\n",
    "waly_img = cv2.imread('c_clue.jpeg')\n",
    "# Dado que la información del csv se carga como texto y además los complejos tienen i en vez de j\n",
    "# se convertirán esos textos a números complejos\n"
   ]
  },
  {
   "cell_type": "code",
   "execution_count": 10,
   "metadata": {},
   "outputs": [
    {
     "name": "stdout",
     "output_type": "stream",
     "text": [
      "dimensiones de la imagen de guerra:  (1680, 2600, 3) \n",
      "dimensiones de waly:  (64, 64, 3)\n"
     ]
    }
   ],
   "source": [
    "# Veamos las dimensiones de las imágenes\n",
    "print(\"dimensiones de la imagen de guerra: \" ,np.shape(war_img), \"\\ndimensiones de waly: \", np.shape(waly_img) )\n",
    "\n",
    "# Cambiar a RGB\n",
    "war_img = cv2.cvtColor(war_img, cv2.COLOR_BGR2RGB)\n",
    "waly_img = cv2.cvtColor(waly_img, cv2.COLOR_BGR2RGB)\n",
    "\n",
    "# Mostrar imágenes\n",
    "plt.figure()\n",
    "plt.imshow(war_img)\n",
    "plt.show()\n",
    "\n",
    "plt.figure()\n",
    "plt.imshow(waly_img)\n",
    "plt.show()"
   ]
  },
  {
   "cell_type": "markdown",
   "metadata": {},
   "source": [
    "Como tenemos imágnes RGB, entonces por facilidad las pasaremos a escala de grices, después si se desea, \n",
    "generalizamos para imágenes RGB"
   ]
  },
  {
   "cell_type": "code",
   "execution_count": 11,
   "metadata": {},
   "outputs": [],
   "source": [
    "# Convertir imágenes RGB a escala de grises\n",
    "war_gray = cv2.cvtColor(war_img, cv2.COLOR_RGB2GRAY)\n",
    "waly_gray = cv2.cvtColor(waly_img, cv2.COLOR_RGB2GRAY)\n",
    "\n",
    "# Mostrar imágenes\n",
    "plt.figure()\n",
    "plt.imshow(war_gray, cmap = 'gray')\n",
    "plt.show()\n",
    "\n",
    "plt.figure()\n",
    "plt.imshow(waly_gray, cmap = 'gray')\n",
    "plt.show()"
   ]
  },
  {
   "cell_type": "code",
   "execution_count": 12,
   "metadata": {},
   "outputs": [],
   "source": [
    "# Transformada de Fourier de la imagen war\n",
    "fft_war = np.fft.fftn(war_gray)\n",
    "\n",
    "# Shifteando\n",
    "ffts_war = np.fft.fftshift(fft_war)\n",
    "\n",
    "\n"
   ]
  },
  {
   "cell_type": "markdown",
   "metadata": {},
   "source": [
    "# Pad"
   ]
  },
  {
   "cell_type": "code",
   "execution_count": 13,
   "metadata": {},
   "outputs": [
    {
     "name": "stdout",
     "output_type": "stream",
     "text": [
      "(1680, 2600)\n"
     ]
    }
   ],
   "source": [
    "# Extraer la dimension para \"padear\"\n",
    "dimension_pad = (np.array(np.shape(war_gray) ) - np.array(np.shape(waly_gray) ) )/2\n",
    "\n",
    "# Padear Waly\n",
    "waly_paded = np.pad(waly_gray, ( (int(dimension_pad[0]), int(dimension_pad[0]) ), (int(dimension_pad[1]), int(dimension_pad[1])) ), mode = 'constant', constant_values = (0,0) )\n",
    "\n",
    "plt.imshow(waly_paded)\n",
    "\n",
    "print(np.shape(waly_paded) )\n"
   ]
  },
  {
   "cell_type": "code",
   "execution_count": 14,
   "metadata": {},
   "outputs": [],
   "source": [
    "# Fourier de Waly \"padeado\" y conjugarlo\n",
    "fft_p_waly = np.fft.fftn(waly_paded)\n",
    "ffts_p_waly = np.fft.fftshift(fft_p_waly)       # Shift\n",
    "c_ffts_p_waly = np.conj(ffts_p_waly)            # Conjugando\n",
    "\n",
    "\n",
    "correlacion = ffts_war * c_ffts_p_waly             # multiplicando  las transformadas\n",
    "\n",
    "\n",
    "#Graficando\n",
    "\n",
    "# ffts de la imagen original (Transformada de Fourier del plano incidente, observado en el plano focal)\n",
    "fun_ploteo_complejo(ffts_war, \"I\" , 0)\n",
    "\n",
    "# fft conjugado padeado de waly (la transmitancia/filtro que iría en el plano focal de la primera lente)\n",
    "fun_ploteo_complejo(c_ffts_p_waly, \"I\", 0)\n",
    "\n",
    "# la multiplicación de las transformadas \n",
    "fun_ploteo_complejo(correlacion, \"I\", 0)\n",
    "\n",
    "# Regresando a al dominio espacial y graficando (lo que se observaría en el plano imagen que)\n",
    "fun_ploteo_complejo(np.fft.fftn(correlacion), \"I\", 1)"
   ]
  },
  {
   "cell_type": "code",
   "execution_count": null,
   "metadata": {},
   "outputs": [],
   "source": []
  }
 ],
 "metadata": {
  "interpreter": {
   "hash": "ac59ebe37160ed0dfa835113d9b8498d9f09ceb179beaac4002f036b9467c963"
  },
  "kernelspec": {
   "display_name": "Python 3.9.7 64-bit",
   "name": "python3"
  },
  "language_info": {
   "codemirror_mode": {
    "name": "ipython",
    "version": 3
   },
   "file_extension": ".py",
   "mimetype": "text/x-python",
   "name": "python",
   "nbconvert_exporter": "python",
   "pygments_lexer": "ipython3",
   "version": "3.9.7"
  },
  "orig_nbformat": 4
 },
 "nbformat": 4,
 "nbformat_minor": 2
}
