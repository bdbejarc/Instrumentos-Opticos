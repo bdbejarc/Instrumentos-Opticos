{
  "nbformat": 4,
  "nbformat_minor": 0,
  "metadata": {
    "interpreter": {
      "hash": "ac59ebe37160ed0dfa835113d9b8498d9f09ceb179beaac4002f036b9467c963"
    },
    "kernelspec": {
      "display_name": "Python 3.9.7 64-bit",
      "language": "python",
      "name": "python3"
    },
    "language_info": {
      "codemirror_mode": {
        "name": "ipython",
        "version": 3
      },
      "file_extension": ".py",
      "mimetype": "text/x-python",
      "name": "python",
      "nbconvert_exporter": "python",
      "pygments_lexer": "ipython3",
      "version": "3.9.7"
    },
    "orig_nbformat": 4,
    "colab": {
      "name": "Codigo_Entrega_02.ipynb",
      "provenance": []
    }
  },
  "cells": [
    {
      "cell_type": "code",
      "metadata": {
        "id": "Nq6tEhNcB5Wo"
      },
      "source": [
        "# Importar librerías\n",
        "\n",
        "import pandas as pd\n",
        "import matplotlib as mlt\n",
        "import numpy as np\n",
        "import matplotlib.pyplot as plt\n",
        "import cv2\n",
        "#import PyQt5"
      ],
      "execution_count": 2,
      "outputs": []
    },
    {
      "cell_type": "code",
      "metadata": {
        "id": "uR5XMR7TB5W0"
      },
      "source": [
        "# Para que las gráficas se impriman no en el notebook, sino en una nueva pestaña\n",
        "%matplotlib qt"
      ],
      "execution_count": null,
      "outputs": []
    },
    {
      "cell_type": "markdown",
      "metadata": {
        "id": "XLGYuJFrB5W3"
      },
      "source": [
        "# Crear la Matrix y dar realidad física a la simulación"
      ]
    },
    {
      "cell_type": "code",
      "metadata": {
        "id": "2U16-t2HB5W8"
      },
      "source": [
        "# Coordenadas de mundo\n",
        "nm = 1e-9\n",
        "um = 1e-6\n",
        "mm = 1e-3\n",
        "cm = 1e-2\n",
        "\n",
        "# Longitud de onda\n",
        "w_length = 650*nm\n",
        "\n",
        "\n",
        "# # Solo por operación definimos N y M de una imagen 2048 x 2048\n",
        "# N = 2048 # coordenada X\n",
        "# M = 2048 # coordenada Y\n",
        "\n",
        "\n",
        "# Diferenciales, como N y M pendientes por definir para una imagen\n",
        "dx = dy = 1*um # los diferenciales (tamaño de pixel)\n"
      ],
      "execution_count": 3,
      "outputs": []
    },
    {
      "cell_type": "code",
      "metadata": {
        "id": "vDcW46UgB5XA",
        "outputId": "a1477613-f4dd-4f01-fa8a-66bfbde2ec97"
      },
      "source": [
        "((1*um)**2*1024*um/(650*nm))"
      ],
      "execution_count": null,
      "outputs": [
        {
          "data": {
            "text/plain": [
              "1.5753846153846152e-09"
            ]
          },
          "execution_count": 38,
          "metadata": {},
          "output_type": "execute_result"
        }
      ]
    },
    {
      "cell_type": "code",
      "metadata": {
        "id": "sJXi-aFLB5XD",
        "outputId": "84937c63-f961-4a63-ff5f-23830484a502"
      },
      "source": [
        "32*um/(650*nm)"
      ],
      "execution_count": null,
      "outputs": [
        {
          "data": {
            "text/plain": [
              "49.230769230769226"
            ]
          },
          "execution_count": 5,
          "metadata": {},
          "output_type": "execute_result"
        }
      ]
    },
    {
      "cell_type": "code",
      "metadata": {
        "id": "is979_RsB5XG",
        "outputId": "6a6cad9b-ef51-4765-cf3e-9c37032d558b"
      },
      "source": [
        "((1*um)**2*32*um/(650*nm)**2)"
      ],
      "execution_count": null,
      "outputs": [
        {
          "data": {
            "text/plain": [
              "7.57396449704142e-05"
            ]
          },
          "execution_count": 6,
          "metadata": {},
          "output_type": "execute_result"
        }
      ]
    },
    {
      "cell_type": "markdown",
      "metadata": {
        "id": "4GLZRBa7B5XI"
      },
      "source": [
        "# Definamos algunas funciones de interés"
      ]
    },
    {
      "cell_type": "code",
      "metadata": {
        "id": "XR3wNIMVB5XK"
      },
      "source": [
        "# Función para graficar complejos\n",
        "def fun_ploteo_complejo(mat, indicador, escala, mapa_color = 'gray'):\n",
        "    '''\n",
        "    mat  es una matriz compleja a plotear\n",
        "    indicador = I para intensidad, A para amplitud, P para fase\n",
        "    escala = 1 para nada, 0 para logarítmica\n",
        "    '''\n",
        "    if(indicador ==\"I\"):\n",
        "        mat = np.abs(mat)**2\n",
        "    elif(indicador == \"A\"):\n",
        "        mat = np.abs(mat)\n",
        "    elif(indicador == \"P\"):\n",
        "        mat = np.angle(mat)\n",
        "\n",
        "    if (escala == 1):\n",
        "        plt.figure()\n",
        "        plt.imshow(mat, cmap = mapa_color)\n",
        "        plt.colorbar()\n",
        "        plt.show()\n",
        "    else:    \n",
        "        plt.figure()\n",
        "        plt.imshow( np.log( mat + 0.0001), cmap = mapa_color)\n",
        "        plt.colorbar()\n",
        "        plt.show()\n",
        "\n",
        "#----------------------------------------------------------------------------------------------------------------\n",
        "# Función que convierte campos de 3 canales a un solo canal \n",
        "def fun_monocromador(campo_colorado, canal = 0):\n",
        "    '''\n",
        "    fun_monocromador es una función que extrae los datos de un solo canal de un campo, se puede entender\n",
        "    como si un campo se compone de diferentes frecuencias, seleccionar solo los valores de esa frecuencia en \n",
        "    en particular que conforman el campo. \n",
        "    \n",
        "    Esta función acepta solo campos con más de un solo canal, si mete de 1 canal, saldrán datos incorrectos\n",
        "\n",
        "    Variables de entrada\n",
        "     - campo_colorado: (numpy.ndarray) ; es el campo al cual se filtrará solo los componentes de una frecuencia que\n",
        "                                         lo consituyen, tiene dimensiones L_x,L_y,canales\n",
        "     - canal: (int) ; es el índice de los datos correspondientes a la frecuencia que se desea seleccionar  \n",
        "                      por ejemplo una imagen RGB tiene las frecuencias de rojo en canal = 0, verde en canal = 1,\n",
        "                      y azul en canal = 2.\n",
        "                      Por defecto se escoge el canal 0     \n",
        "                                                  \n",
        "    '''\n",
        "\n",
        "    campo_monocromático = campo_colorado[:,:,canal] #Tomar todas las filas y columnas, pero solo los valores del canal\n",
        "                                                    # de interés\n",
        "\n",
        "    return (campo_monocromático)\n",
        "\n",
        "#----------------------------------------------------------------------------------------------------------------\n",
        "# Función para \"Pading\"\n",
        "def fun_pad(campo):\n",
        "    '''\n",
        "    fun_pad es una función que \"padea\" un campo (imagen) 2D con ceros tal que duplica su longitud y altura\n",
        "\n",
        "    Solo recibe imágenes de 1 canal\n",
        "\n",
        "    Variables de entrada:\n",
        "     - campo: (numpy.ndarray) ; es el campo a padear de L_x y L_y dimensiones físicas reales\n",
        "\n",
        "    Variables de salida:\n",
        "     - campo_paded: (numpy.ndarray) ; es el campo padeado con ceros de dimensiones 2*L_x y 2*L_y \n",
        "    '''\n",
        "    # extraer las dimensiones del pad\n",
        "    dimension_pad = np.array( [np.shape(campo)[0] , np.shape(campo)[1] ] ) / 2\n",
        "\n",
        "    # padear el campo con ceros\n",
        "    campo_paded = np.pad(campo, ( (int(dimension_pad[0]), int(dimension_pad[0]) ), (int(dimension_pad[1]), int(dimension_pad[1])) ), mode = 'constant', constant_values = (0,0) )\n",
        "\n",
        "    return (campo_paded)\n",
        "\n",
        "#----------------------------------------------------------------------------------------------------------------\n",
        "# Función extractora de características de un campo (imagen) 2D\n",
        "\n",
        "# Nota: Función por depurar y mejorar,, no está terminada, saltarla\n",
        "def fun_extractor(campo, L_x, L_y, dx, dy):\n",
        "    '''\n",
        "    fun_extractor es una función que extrae las características de interés de un campo (imagen) 2D\n",
        "    que puede ser de 1 o  3 canales de tamaño con dimensiones físicas reales L_x * L_y que fue medida\n",
        "    con pixeles de tamaño dx,dy \n",
        "\n",
        "    Variables de entrada:\n",
        "    - campo: (numpy.ndarray) ; Es la imagen que vamos a difractar\n",
        "    - L_x: (int) ; Dimension x del campo\n",
        "    - L_y: (int) ; Dimension y del campo\n",
        "    - dx: (int) ; Dimension x del pixel\n",
        "    - dy: (int) ; Dimension y del pixel\n",
        "\n",
        "    Variables de salida:\n",
        "    - campo_data: (numpy.ndarray) ; Arreglo 2x2, su primer elemento tiene el número de muestras en x y en y\n",
        "                                  el segundo tiene los deltas en x y en y.\n",
        "\n",
        "    '''\n",
        "    # Tamaño de la muestra\n",
        "    N_x = int(L_x/dx)\n",
        "    N_y = int(L_y/dy)\n",
        "\n",
        "\n",
        "    campo_data =np.array( [N_x, N_y] )\n",
        "\n",
        "    return(campo_data)\n",
        "\n",
        "#----------------------------------------------------------------------------------------------------------------\n",
        "# Función del kernel de una transformada discreta de Fourier y su inversa exp(+-(1j/(2pi))*(n*p/N_x + m*q*N_y))\n",
        "\n",
        "def fun_fourker( cont_n_m, cont_p_q, N_array, ift = False ):\n",
        "    '''\n",
        "    Función  fun_fourker: es una función que calcula la exponencial exp(+-(1j/(2pi*N))*(p*n + q*m)) siendo el signo\n",
        "    + para la transformada invera y - para la transformada normal\n",
        "    \n",
        "    Nota: 1j lo utilizamos para representar el complejo i\n",
        "\n",
        "    Variables de entrada:\n",
        "     - cont_n_m: (np.ndarray 1x2) ; arreglo que contiene los contadores n y m del espacio real (x,y)\n",
        "     - cont_p_q: (np.ndarray 1x2) ; arreglo que contiene los contadores p y q del espacio recíprocro (fx,fy)\n",
        "     - N_array: (np.ndarray 1x2) ; arreglo que contiene el número de las muestras N_x en x y N_y en y\n",
        "     - ift: (bool) ; indica si se está calculando transformada o su inversa, por defecto es False\n",
        "    \n",
        "    Variables de salida:\n",
        "     - fourker: (complex) ; valor exponencial evaluada con las variables de entrada\n",
        "\n",
        "    '''\n",
        "    #descomprimir\n",
        "    n = cont_n_m[0]\n",
        "    m = cont_n_m[1]\n",
        "\n",
        "    p = cont_p_q[0]\n",
        "    q = cont_p_q[1]\n",
        "\n",
        "    N_x = N_array[0]\n",
        "    N_y = N_array[1]\n",
        "\n",
        "    \n",
        "    if(ift == False):\n",
        "        fourker = np.exp(-(2j*np.pi * (n*p/N_x + m*q/N_y) ) )\n",
        "    else:\n",
        "        fourker = np.exp( (2j*np.pi * (n*p/N_x + m*q/N_y) ) )\n",
        "    return fourker\n",
        "    \n",
        "#----------------------------------------------------------------------------------------------------------------\n",
        "# Función que calcua la transformada discreta de un campo ya sea real o reciproco\n",
        "\n",
        "def fun_DFT(campo, L_x, L_y, dx, dy, ift = False):\n",
        "    '''\n",
        "    fun_DFT es una función que calcula la Transformada de Fourier Discreta (DFT) o inversa (iDFT) de un campo sin \n",
        "    tener en cuenta los deltas \n",
        "\n",
        "    Variables de entrada:\n",
        "     - campo: (numpy.ndarray) ; campo (arreglo matricial) al cual campo de que se calculará la DFT o iDFT\n",
        "     - L_x: (int) ; dimensión real del campo en el eje x\n",
        "     - L_y: (int) ; dimensión real del campo en el eje y\n",
        "     - dx: (float) ; espaciamento entre muestra y muestra en el eje x, se puede entender como la longitud del pixel\n",
        "     - dy: (float) ; espaciamento entre muestra y muestra en el eje y, se puede entender como la altura del pixel\n",
        "     - ift: (bool) ; Si True, calcula la iDFT, si False calcula DFT\n",
        "\n",
        "    Variables de salida:\n",
        "     - campo_transformado: (numpy.ndarray) ; matriz de igual dimensiones que campo que contiene los valores de \n",
        "                                             la DFT o iDFT \n",
        "    '''\n",
        "\n",
        "    # Crear arreglo lleno de ceros de mismas dimensiones que campo donde guardaré la información de la transformada\n",
        "    campo_transformado = np.zeros(np.shape(campo), dtype = complex)\n",
        "\n",
        "\n",
        "\n",
        "    # Dimensiones de campo para contadores\n",
        "    N_x = int(L_x/dx)\n",
        "    N_y = int(L_y/dy)\n",
        "\n",
        "    N_array = np.array([N_x,N_y])\n",
        "    \n",
        "    # definir una variable que alberge el valor de las sumas\n",
        "    suma = 0\n",
        "\n",
        "    # variable de escalada si se hace DFT o iDFT\n",
        "    if(ift == False):\n",
        "        escalador = dx*dy\n",
        "    else:\n",
        "        escalador = 1/(L_x*L_y)\n",
        "\n",
        "    # DFT\n",
        "    for p in np.arange(N_x):\n",
        "        for q in np.arange(N_y):\n",
        "\n",
        "            for n in np.arange(N_x):\n",
        "                for m in np.arange(N_y):\n",
        "\n",
        "                    cont_n_m = np.array([n,m])\n",
        "                    cont_p_q = np.array([p,q])\n",
        "\n",
        "                    suma += campo[n,m] * fun_fourker(cont_n_m, cont_p_q, N_array, ift)\n",
        " \n",
        "            \n",
        "            #Guardar el dato de la transformada para una frecuencia p,q\n",
        "            campo_transformado[p,q] = suma\n",
        "\n",
        "            # Reiniciar el sumador para calcular otra frecuencia p,q\n",
        "            suma = 0\n",
        "    \n",
        "    # escalar el campo\n",
        "    campo_transformado = campo_transformado * escalador\n",
        "\n",
        "    return campo_transformado\n",
        "\n",
        "\n",
        "def fun_DFT2(campo, L_x, L_y, dx, dy, ift = False):\n",
        "    '''\n",
        "    \n",
        "    '''\n",
        "\n",
        "    # Dimensiones del campo para los contadores\n",
        "    N_x = int(L_x/dx)\n",
        "    N_y = int(L_y/dy)\n",
        "\n",
        "    N_array = np.array([N_x,N_y])\n",
        "\n",
        "    # variable de escalada si se hace DFT o iDFT\n",
        "    if(ift == False):\n",
        "        escalador = dx*dy\n",
        "    else:\n",
        "        escalador = 1/(L_x*L_y)\n",
        "\n",
        "    # Crear una matriz de N_x filas con N_y columnas donde cada elemento de la matriz es un arreglo 1x2 donde el primer\n",
        "    # valor es el número de la fila y el segundo es el número de la columna\n",
        "\n",
        "    # ejemplo siendo\n",
        "    #  _                       _\n",
        "    # | [0,0]    [0,1]    [0,2] |\n",
        "    # | [1,0]    [1,1]    [1,2] |\n",
        "    # | [2,0]    [2,1]    [2,2] |\n",
        "    #  -                       -\n",
        "    # la dimension es (N_x, N_y, 2)\n",
        "    matriz_indexada = np.indices((N_x, N_y, 1))\n",
        "    matriz_indexada = np.concatenate((matriz_indexada[0], matriz_indexada[1]), axis=2)\n",
        "\n",
        "    def funcion_g(cont_n_m, cont_p_q, N_array, campo, ift):\n",
        "        multiplicador = campo[tuple(cont_n_m)]*fun_fourker(cont_n_m, cont_p_q, N_array, ift)\n",
        "        return multiplicador\n",
        "\n",
        "    def funcion_f(cont_p_q,  N_array, campo, ift):\n",
        "        punto_transformado = np.sum( np.array(list(map(lambda filas_n_m: np.array(list(map(lambda n_m: funcion_g(n_m, cont_p_q, N_array, campo, ift ), filas_n_m) ) ) , matriz_indexada ) ) ) )\n",
        "        return punto_transformado\n",
        "\n",
        "\n",
        "    matriz_DFT = np.array(list(map(lambda filas_p_q: list(map(lambda p_q: funcion_f(p_q, N_array, campo, ift), filas_p_q) ),matriz_indexada) ) )\n",
        "\n",
        "    matriz_DFT = matriz_DFT * escalador\n",
        "\n",
        "    \n",
        "    return matriz_DFT\n",
        "    \n",
        "\n",
        "\n",
        "\n",
        "\n",
        "\n"
      ],
      "execution_count": 4,
      "outputs": []
    },
    {
      "cell_type": "code",
      "metadata": {
        "id": "jnEZB8P5B5XX",
        "outputId": "6e780ea4-0981-47d5-adee-bd4c135f2af7"
      },
      "source": [
        ""
      ],
      "execution_count": null,
      "outputs": [
        {
          "data": {
            "text/plain": [
              "array([4, 5])"
            ]
          },
          "execution_count": 39,
          "metadata": {},
          "output_type": "execute_result"
        }
      ]
    },
    {
      "cell_type": "code",
      "metadata": {
        "id": "xtrlyW5xB5XZ"
      },
      "source": [
        "wally_img = cv2.imread('C:/Users/braya/Desktop/Git I Opticos/Instrumentos-Opticos/Entrega_01/c_clue.jpeg')              # Lecutra del .csv como un objeto np.array\n",
        "np.shape(wally_img)\n",
        "wally_mono = fun_monocromador(wally_img)\n",
        "fun_ploteo_complejo(wally_mono, \"A\" , 1)"
      ],
      "execution_count": null,
      "outputs": []
    },
    {
      "cell_type": "code",
      "metadata": {
        "id": "6RQ-hGA_B5Xb"
      },
      "source": [
        "fft_wal_DFT2  =fun_DFT2(wally_mono,64,64,1,1,ift=True)"
      ],
      "execution_count": null,
      "outputs": []
    },
    {
      "cell_type": "code",
      "metadata": {
        "id": "A7FFdggsB5Xd",
        "outputId": "6e5161dd-34b9-4ca7-925d-c59c55430d92"
      },
      "source": [
        "fun_DFT(wally_mono,64,64,1,1)\n"
      ],
      "execution_count": null,
      "outputs": [
        {
          "data": {
            "text/plain": [
              "array([[492951.            +0.j        ,   1554.32266737 -1056.52338483j,\n",
              "         -7499.45151112-17647.86610627j, ...,\n",
              "         -3447.45867017-12693.41964542j,  -7499.45151112+17647.86610626j,\n",
              "          1554.32266737 +1056.52338482j],\n",
              "       [  3109.05361675-10568.86532089j,  24376.04813741-28832.89098523j,\n",
              "         23700.91031932  +483.44947732j, ...,\n",
              "        -17068.7792569  +9245.42688013j,  -7175.03389238+13468.19248362j,\n",
              "          2429.49211833 -1527.8928129j ],\n",
              "       [-16660.93520445 +7018.89417775j,  -1656.93105497+12112.51803172j,\n",
              "          2295.96395334 -3671.35370946j, ...,\n",
              "          2539.28280133 +3363.18843815j, -15783.19829382-11010.75796282j,\n",
              "         19103.23243174+14448.84891656j],\n",
              "       ...,\n",
              "       [-29189.67315633 -8080.24794376j,   -942.01911193-19411.12291175j,\n",
              "          3128.07865807 +7623.71913836j, ...,\n",
              "         13504.87479177 -4618.97301978j,  -5456.44764399 -1705.65344561j,\n",
              "         -8063.97800403-12706.50193195j],\n",
              "       [-16660.93520444 -7018.89417775j,  19103.23243174-14448.84891656j,\n",
              "        -15783.19829382+11010.75796282j, ...,\n",
              "         -3577.62346687+15292.17300268j,   2295.96395334 +3671.35370945j,\n",
              "         -1656.93105497-12112.51803172j],\n",
              "       [  3109.05361675+10568.86532089j,   2429.49211833 +1527.8928129j ,\n",
              "         -7175.03389238-13468.19248362j, ...,\n",
              "        -19112.45901205 +7947.17751912j,  23700.91031932  -483.44947732j,\n",
              "         24376.04813741+28832.89098523j]])"
            ]
          },
          "execution_count": 10,
          "metadata": {},
          "output_type": "execute_result"
        }
      ]
    },
    {
      "cell_type": "code",
      "metadata": {
        "id": "4y6_166OB5Xf",
        "outputId": "192a83d7-1d8e-4278-c2bf-d411b167f37c"
      },
      "source": [
        "# if (np.fft.fftn(wally_mono)- fft_wal_DFT2 < 1e-10):\n",
        "dif = np.fft.fftn(wally_mono)- fft_wal_DFT2\n",
        "\n",
        "dif[dif<1e-9] = 0\n",
        "np.sum(dif)"
      ],
      "execution_count": null,
      "outputs": [
        {
          "data": {
            "text/plain": [
              "(3899540.424491705+0j)"
            ]
          },
          "execution_count": 11,
          "metadata": {},
          "output_type": "execute_result"
        }
      ]
    },
    {
      "cell_type": "code",
      "metadata": {
        "id": "aq0ynt1HB5Xg",
        "outputId": "e6480b1e-251d-4ad6-b89e-715ea4ddec70"
      },
      "source": [
        "np.fft.fftn(wally_mono)"
      ],
      "execution_count": null,
      "outputs": [
        {
          "data": {
            "text/plain": [
              "array([[492951.            +0.j        ,   1554.32266737 -1056.52338483j,\n",
              "         -7499.45151112-17647.86610627j, ...,\n",
              "         -3447.45867017-12693.41964542j,  -7499.45151112+17647.86610627j,\n",
              "          1554.32266737 +1056.52338483j],\n",
              "       [  3109.05361675-10568.86532089j,  24376.04813741-28832.89098523j,\n",
              "         23700.91031932  +483.44947732j, ...,\n",
              "        -17068.7792569  +9245.42688013j,  -7175.03389238+13468.19248362j,\n",
              "          2429.49211833 -1527.8928129j ],\n",
              "       [-16660.93520445 +7018.89417775j,  -1656.93105497+12112.51803172j,\n",
              "          2295.96395334 -3671.35370946j, ...,\n",
              "          2539.28280133 +3363.18843815j, -15783.19829382-11010.75796282j,\n",
              "         19103.23243174+14448.84891656j],\n",
              "       ...,\n",
              "       [-29189.67315633 -8080.24794376j,   -942.01911193-19411.12291175j,\n",
              "          3128.07865807 +7623.71913836j, ...,\n",
              "         13504.87479177 -4618.97301978j,  -5456.44764399 -1705.65344561j,\n",
              "         -8063.97800403-12706.50193195j],\n",
              "       [-16660.93520445 -7018.89417775j,  19103.23243174-14448.84891656j,\n",
              "        -15783.19829382+11010.75796282j, ...,\n",
              "         -3577.62346687+15292.17300268j,   2295.96395334 +3671.35370946j,\n",
              "         -1656.93105497-12112.51803172j],\n",
              "       [  3109.05361675+10568.86532089j,   2429.49211833 +1527.8928129j ,\n",
              "         -7175.03389238-13468.19248362j, ...,\n",
              "        -19112.45901205 +7947.17751912j,  23700.91031932  -483.44947732j,\n",
              "         24376.04813741+28832.89098523j]])"
            ]
          },
          "execution_count": 12,
          "metadata": {},
          "output_type": "execute_result"
        }
      ]
    },
    {
      "cell_type": "markdown",
      "metadata": {
        "id": "Mbwv3XnmB5Xi"
      },
      "source": [
        "# Punto 1\n",
        "\n",
        "Implemente numéricamente, en Python o MATLAB, los métodos de difracción escalar de Transformadad de Fresnel y Espectro Angular en sus formas de sumatorias discretas (DFT), y en la forma basada en transformadas rápidas de Fourier (FFT). Compare el desempeño de ambos métodos en términos del tiempo necesario para realizar el cómputo de un mismo experimento difractivo de su elección. ¿La mejora de desempe o coincide con sus expectativas?"
      ]
    },
    {
      "cell_type": "code",
      "metadata": {
        "id": "anVMpDW1B5Xj",
        "outputId": "c9dbf69d-0e7b-4b7f-92d8-1dc61671b30a"
      },
      "source": [
        "pera_img = cv2.imread('C:/Users/braya/Desktop/Git I Opticos/Instrumentos-Opticos/Entrega_02/pera.png')              # Lecutra del .csv como un objeto np.array\n",
        "print(np.shape(pera_img) )\n",
        "pera_mono = fun_monocromador(pera_img,1)\n",
        "\n",
        "\n",
        "pera_rgb = cv2.cvtColor(pera_img, cv2.COLOR_BGR2RGB)\n",
        "pera_gray = cv2.cvtColor(pera_rgb, cv2.COLOR_RGB2GRAY)\n",
        "\n",
        "fun_ploteo_complejo(pera_img, \"A\" , 1)\n",
        "\n",
        "fun_ploteo_complejo(pera_gray, \"A\" , 1)\n",
        "\n",
        "fun_ploteo_complejo(pera_mono, \"A\" , 1)"
      ],
      "execution_count": null,
      "outputs": [
        {
          "name": "stdout",
          "output_type": "stream",
          "text": [
            "(32, 32, 3)\n"
          ]
        }
      ]
    },
    {
      "cell_type": "markdown",
      "metadata": {
        "id": "AcV2Y0ecB5Xk"
      },
      "source": [
        "### DFT de Espectro Angular"
      ]
    },
    {
      "cell_type": "code",
      "metadata": {
        "id": "zk2ja7j2B5Xl"
      },
      "source": [
        "# Obtener el espectro del campo de entrada, Primera DFT\n",
        "\n",
        "def fun_prop_EspA(campo, w_length, z, L_x, L_y, dx, dy, fft = True):\n",
        "     '''\n",
        "     \n",
        "     '''\n",
        "     # Vector de onda\n",
        "     k_vect = 2*np.pi/w_length\n",
        "\n",
        "     # Número de muestras\n",
        "     N_x = int(L_x/dx)\n",
        "     N_y = int(L_y/dy)\n",
        "\n",
        "     # 2. Generar espectro del campo en 0 calculando DFT/FFT\n",
        "     # para hacerlo con numpy o con la función programada\n",
        "     if fft == False:\n",
        "          A_spectra = fun_DFT(campo,L_x, L_y, dx, dy)\n",
        "     else:\n",
        "          A_spectra = np.fft.fftn(campo)\n",
        "\n",
        "     \n",
        "\n",
        "     # 3. Calcular el espectro a una distancia z\n",
        "\n",
        "     # Matriz del espectro a distancia z, inicalmente de ceros\n",
        "     A_spectra_z = np.zeros(np.shape(campo), dtype = np.complex128)\n",
        "\n",
        "     #Multiplicar cada valor de la matriz por la exponencial\n",
        "     for p in np.arange(N_x):\n",
        "          for q in np.arange(N_y):\n",
        "               A_spectra_z[p,q] = A_spectra[p,q] * np.exp(z * 1j * k_vect * np.sqrt(1-(w_length*1)**2 * ( (p/L_x)**2 + (q/L_y)**2) ) )\n",
        "\n",
        "\n",
        "     # 4. Calcular la DFT/FFT inversa para volver al dominio real\n",
        "     if fft == False:\n",
        "          campo_propagado_z = fun_DFT(A_spectra_z, L_x, L_y, dx, dy, ift = True)\n",
        "     else:\n",
        "          campo_propagado_z = np.fft.ifftn(A_spectra_z)\n",
        "\n",
        "     # 5. Ordenar las frecuencias, dado que entramos a las frecuencias de la réplica, está desordenado.\n",
        "     # campo_propagado_z = np.fft.fftshift(campo_propagado_z)\n",
        "\n",
        "     return(campo_propagado_z)\n"
      ],
      "execution_count": null,
      "outputs": []
    },
    {
      "cell_type": "code",
      "metadata": {
        "id": "ZybZryKRB5Xm"
      },
      "source": [
        "fun_ploteo_complejo(pera_gray, \"A\" , 1)"
      ],
      "execution_count": null,
      "outputs": []
    },
    {
      "cell_type": "code",
      "metadata": {
        "id": "gUy4TL04B5Xn"
      },
      "source": [
        "propagado = fun_prop_EspA(pera_gray, w_length, 0*um, 32*um,32*um,1*um,1*um, fft = True)\n",
        "fun_ploteo_complejo(propagado, \"I\", 1)"
      ],
      "execution_count": null,
      "outputs": []
    },
    {
      "cell_type": "code",
      "metadata": {
        "id": "KCtVvS2FB5Xo"
      },
      "source": [
        "def fun_prop_Fesnel(campo, w_length, z, L_x, L_y, dx, dy, fft = True ):\n",
        "    ''' \n",
        "    \n",
        "    '''\n",
        "    # Vector de onda\n",
        "    k_vect = 2*np.pi/w_length\n",
        "\n",
        "    # Número de muestras\n",
        "    N_x = int(L_x/dx)\n",
        "    N_y = int(L_y/dy)\n",
        "\n",
        "    # delta espacio del plano z=0, satisfaciendo el requerimiento para el kernel de DFT\n",
        "    dx_0 = w_length * z/(dx * N_x)\n",
        "    dy_0 = w_length * z/(dy * N_y)\n",
        "\n",
        "    # 2. Preparar U'\n",
        "    # Preparar U', inicialmente una matriz de ceros\n",
        "    U_prima = np.zeros(np.shape(campo), dtype = np.complex128)\n",
        "\n",
        "    \n",
        "    # #Multiplicar cada valor de la matriz por la exponencial, usando la relación dx_0= 2pi*z/(k*N_x*dx)\n",
        "    # for n_0 in np.arange(N_x):\n",
        "    #     for m_0 in np.arange(N_y):\n",
        "    #         U_prima[n_0,m_0] = campo[n_0, m_0] * np.exp( (2j*np.pi**2*z/k_vect) * ( (n_0/(N_x*dx) )**2 + (m_0/(N_y*dy) )**2) )\n",
        "\n",
        "\n",
        "    #  Este bloque de código es equivalente al anterior, pero con la diferencia que se reemplazaron los valores de dx_0 y dy_0\n",
        "    # para evitar divisiones por cero cuando z=0\n",
        "    for n_0 in np.arange(N_x):\n",
        "        for m_0 in np.arange(N_y):\n",
        "            U_prima[n_0,m_0] = campo[n_0, m_0] * np.exp( (1j*k_vect/(2*z) ) * ( (n_0*dx_0 )**2 + (m_0*dy_0 )**2) )\n",
        "\n",
        "    \n",
        "\n",
        "\n",
        "\n",
        "     # 3. DFT// de U' para obtener U'' en una pisición z\n",
        "    if fft == False:\n",
        "          U_2prima = fun_DFT(U_prima, L_x, L_y, dx, dy)\n",
        "    else:\n",
        "          U_2prima = np.fft.fftn(U_prima)\n",
        "\n",
        "\n",
        "    # 4. Escalar U\n",
        "    # Inicialmente U como una matriz de ceros\n",
        "    U_z = np.zeros(np.shape(campo), dtype = np.complex128)\n",
        "\n",
        "    # Escalar\n",
        "    for n in np.arange(N_x):\n",
        "        for m in np.arange(N_y):\n",
        "            U_z[n,m] = U_2prima[n,m] * np.exp(1j*k_vect*z)/(1j*w_length*z)  * np.exp( k_vect*1j/(2*z) * ( (n*dx)**2 +(m*dy)**2 ) ) \n",
        "    \n",
        "    return U_z\n",
        "\n",
        "\n",
        "\n",
        "\n",
        "\n"
      ],
      "execution_count": null,
      "outputs": []
    },
    {
      "cell_type": "code",
      "metadata": {
        "id": "ySd_nPuLB5Xp"
      },
      "source": [
        "propagado = fun_prop_Fesnel(fun_pad(pera_gray), w_length, 10000000*um, 64*um,64*um,1*um,1*um, True)\n",
        "fun_ploteo_complejo(propagado, \"I\", 1)"
      ],
      "execution_count": null,
      "outputs": []
    },
    {
      "cell_type": "code",
      "metadata": {
        "id": "vaP3--KxB5Xq"
      },
      "source": [
        "fun_ploteo_complejo(propagado, \"I\", 0)"
      ],
      "execution_count": null,
      "outputs": []
    },
    {
      "cell_type": "code",
      "metadata": {
        "id": "fR4E3m2qB5Xq"
      },
      "source": [
        "fun_ploteo_complejo(fun_pad(pera_gray), \"A\",1)"
      ],
      "execution_count": null,
      "outputs": []
    },
    {
      "cell_type": "code",
      "metadata": {
        "id": "6eqj_5PVB5Xr"
      },
      "source": [
        "fun_ploteo_complejo(pera_gray, \"A\", 0)\n",
        "fun_ploteo_complejo(fun_pad(pera_gray), \"I\", 0)"
      ],
      "execution_count": null,
      "outputs": []
    },
    {
      "cell_type": "code",
      "metadata": {
        "id": "XsuFBm4ZB5Xr"
      },
      "source": [
        ""
      ],
      "execution_count": null,
      "outputs": []
    },
    {
      "cell_type": "code",
      "metadata": {
        "id": "tdBOmtGfB5Xr"
      },
      "source": [
        "plt.imshow(pera_gray)\n",
        "fun_ploteo_complejo(fun_pad(pera_gray), \"A\", 0)"
      ],
      "execution_count": null,
      "outputs": []
    },
    {
      "cell_type": "code",
      "metadata": {
        "id": "Zlij9uAWB5Xs"
      },
      "source": [
        "def sss(x):\n",
        "\n",
        "    return (x*2/x)"
      ],
      "execution_count": null,
      "outputs": []
    },
    {
      "cell_type": "code",
      "metadata": {
        "id": "h_IHmP74B5Xt",
        "outputId": "109597af-f2ca-41a6-e6ca-d7229faa2d40"
      },
      "source": [
        "sss(0.0000000000000000000000000000000001)"
      ],
      "execution_count": null,
      "outputs": [
        {
          "data": {
            "text/plain": [
              "2.0"
            ]
          },
          "execution_count": 23,
          "metadata": {},
          "output_type": "execute_result"
        }
      ]
    },
    {
      "cell_type": "code",
      "metadata": {
        "id": "j1qRyZ0TB5Xu",
        "outputId": "4850fe29-6211-4378-de07-d5272dd87c96"
      },
      "source": [
        ""
      ],
      "execution_count": null,
      "outputs": [
        {
          "ename": "NameError",
          "evalue": "name 'z' is not defined",
          "output_type": "error",
          "traceback": [
            "\u001b[1;31m---------------------------------------------------------------------------\u001b[0m",
            "\u001b[1;31mNameError\u001b[0m                                 Traceback (most recent call last)",
            "\u001b[1;32m~\\AppData\\Local\\Temp/ipykernel_36756/4213005961.py\u001b[0m in \u001b[0;36m<module>\u001b[1;34m\u001b[0m\n\u001b[1;32m----> 1\u001b[1;33m \u001b[0mnp\u001b[0m\u001b[1;33m.\u001b[0m\u001b[0mexp\u001b[0m\u001b[1;33m(\u001b[0m \u001b[1;33m(\u001b[0m\u001b[1;36m2j\u001b[0m\u001b[1;33m*\u001b[0m\u001b[0mnp\u001b[0m\u001b[1;33m.\u001b[0m\u001b[0mpi\u001b[0m\u001b[1;33m*\u001b[0m\u001b[0mz\u001b[0m\u001b[1;33m/\u001b[0m\u001b[0mk_vect\u001b[0m\u001b[1;33m)\u001b[0m \u001b[1;33m*\u001b[0m \u001b[1;33m(\u001b[0m \u001b[1;33m(\u001b[0m\u001b[0mn_0\u001b[0m\u001b[1;33m/\u001b[0m\u001b[1;33m(\u001b[0m\u001b[0mN_x\u001b[0m\u001b[1;33m*\u001b[0m\u001b[0mdx\u001b[0m\u001b[1;33m)\u001b[0m \u001b[1;33m)\u001b[0m\u001b[1;33m**\u001b[0m\u001b[1;36m2\u001b[0m \u001b[1;33m+\u001b[0m \u001b[1;33m(\u001b[0m\u001b[0mm_0\u001b[0m\u001b[1;33m/\u001b[0m\u001b[1;33m(\u001b[0m\u001b[0mN_y\u001b[0m\u001b[1;33m*\u001b[0m\u001b[0mdy\u001b[0m\u001b[1;33m)\u001b[0m \u001b[1;33m)\u001b[0m\u001b[1;33m**\u001b[0m\u001b[1;36m2\u001b[0m\u001b[1;33m)\u001b[0m \u001b[1;33m)\u001b[0m\u001b[1;33m\u001b[0m\u001b[1;33m\u001b[0m\u001b[0m\n\u001b[0m",
            "\u001b[1;31mNameError\u001b[0m: name 'z' is not defined"
          ]
        }
      ]
    },
    {
      "cell_type": "markdown",
      "metadata": {
        "id": "EY1DxkVZB75t"
      },
      "source": [
        "Transformada de Fresnel FFT\n"
      ]
    },
    {
      "cell_type": "code",
      "metadata": {
        "id": "5W0lSWDVCD1J"
      },
      "source": [
        "def Fresnel (campo, w_length, z, dx, dy):\n",
        "    # Vector de onda\n",
        "    k_vect = 2*np.pi/w_length\n",
        "\n",
        "\n",
        "    #Definamos el espacio coordenado\n",
        "    N,M = np.shape(campo)\n",
        "    x = np.arange(-int(M/2), int(M/2), 1)\n",
        "    y = np.arange(-int(N/2), int(N/2), 1)\n",
        "    X,Y = np.meshgrid(x,y)\n",
        "\n",
        "    # damos dimensiones de mundo\n",
        "    dx_0 = X * (w_length * z)/(dx * N)\n",
        "    dy_0 = Y * (w_length * z)/(dy * M) \n",
        "\n",
        "    # definimos las fases esféricas\n",
        "    C1 = np.exp((1j*k_vect/2*z) * ( dx_0**2 + dy_0**2))\n",
        "    C2 = np.exp((1j*k_vect/z) * (N * dx_0 + M * dy_0))\n",
        "\n",
        "    # 2. Preparar U'\n",
        "    U_p = campo * C1\n",
        "\n",
        "    # 3. DFT// de U' para obtener U'' en una pisición z\n",
        "    U_2p = np.fft.fftshift(np.fft.fftn(U_p))\n",
        "\n",
        "    \n",
        "    # 4. Escalar U\n",
        "    prop = U_2p * C2\n",
        "\n",
        "    return prop"
      ],
      "execution_count": 5,
      "outputs": []
    },
    {
      "cell_type": "markdown",
      "metadata": {
        "id": "w_TwwEpqCjHm"
      },
      "source": [
        "Espectro angular FFT"
      ]
    },
    {
      "cell_type": "code",
      "metadata": {
        "id": "os6-iu6WChuS"
      },
      "source": [
        "def EspectroAngular (campo, w_length, z, dx, dy):\n",
        "  # Vector de onda\n",
        "    k_vect = 2*np.pi/w_length\n",
        "\n",
        "    #Definamos el espacio coordenado\n",
        "    N,M = np.shape(campo)\n",
        "    x = np.arange(-int(M/2), int(M/2), 1)\n",
        "    y = np.arange(-int(N/2), int(N/2), 1)\n",
        "    X,Y = np.meshgrid(x,y)\n",
        "\n",
        "    # damos dimensiones de mundo\n",
        "    fX = X * (1 / (M*dx))\n",
        "    fY = Y * (1 / (N*dy))\n",
        "\n",
        "    # 2. Calculamos el espectro angular discreto A[p,q,0] utilizando FFT.\n",
        "    A0 = (np.fft.fft2(campo))\n",
        "\n",
        "    # definimos las fases esféricas \n",
        "    C1 = np.exp((1j*k_vect*z) * np.sqrt(1 - (w_length**2)*((fX**2) + (fY**2))))\n",
        "\n",
        "    # 3. Aplicamos la función de transferencia \n",
        "    Az = A0 * C1\n",
        "\n",
        "    # 4. Calculamos el campo propagado U[n,m,z] como la IFFT del espectro angular propagado y reordenamos\n",
        "    Uprop = (np.fft.ifftn(Az))\n",
        "\n",
        "    return Uprop"
      ],
      "execution_count": 6,
      "outputs": []
    },
    {
      "cell_type": "markdown",
      "metadata": {
        "id": "aTKjEN9zCyLi"
      },
      "source": [
        "Prueba de transformada de Fresnel usando una abertura circular"
      ]
    },
    {
      "cell_type": "code",
      "metadata": {
        "colab": {
          "base_uri": "https://localhost:8080/",
          "height": 287
        },
        "id": "-Cp5KAxdCpGR",
        "outputId": "c33dee86-d087-4fe7-c4d4-951d0bb2e311"
      },
      "source": [
        "#Abertura circular\n",
        "\n",
        "mask = np.zeros((1024,1024), dtype = \"uint8\")\n",
        "coord_prev = np.shape(mask)\n",
        "coord = int(coord_prev[0]/2)\n",
        "print (coord)\n",
        "cv2.circle(mask, (coord, coord), 20, 1, -1)\n",
        "plt.imshow(mask)\n",
        "plt.colorbar()\n",
        "plt.show()"
      ],
      "execution_count": 7,
      "outputs": [
        {
          "output_type": "stream",
          "name": "stdout",
          "text": [
            "512\n"
          ]
        },
        {
          "output_type": "display_data",
          "data": {
            "image/png": "[encoded data removed]",
            "text/plain": [
              "<Figure size 432x288 with 2 Axes>"
            ]
          },
          "metadata": {
            "needs_background": "light"
          }
        }
      ]
    },
    {
      "cell_type": "code",
      "metadata": {
        "colab": {
          "base_uri": "https://localhost:8080/",
          "height": 295
        },
        "id": "CkmnWcupC434",
        "outputId": "540f2054-fb69-4098-d2e3-9ecdd46614fb"
      },
      "source": [
        "propFresnelC = Fresnel(mask, w_length, 5*um, dx, dy)\n",
        "fun_ploteo_complejo(propFresnelC, \"I\", 1)\n",
        "np.shape(propFresnelC)"
      ],
      "execution_count": 8,
      "outputs": [
        {
          "output_type": "display_data",
          "data": {
            "image/png": "[encoded data removed]",
            "text/plain": [
              "<Figure size 432x288 with 2 Axes>"
            ]
          },
          "metadata": {
            "needs_background": "light"
          }
        },
        {
          "output_type": "execute_result",
          "data": {
            "text/plain": [
              "(1024, 1024)"
            ]
          },
          "metadata": {},
          "execution_count": 8
        }
      ]
    },
    {
      "cell_type": "markdown",
      "metadata": {
        "id": "QfW7JgA-DNrx"
      },
      "source": [
        "Prueba de espectro angular usando una abertura circular"
      ]
    },
    {
      "cell_type": "code",
      "metadata": {
        "colab": {
          "base_uri": "https://localhost:8080/",
          "height": 287
        },
        "id": "ZcSnCLikC_mv",
        "outputId": "4d59dcbb-960b-4ef0-fea2-86c42457f1b5"
      },
      "source": [
        "propASC = EspectroAngular(mask, w_length, 0.4*um, dx, dy)\n",
        "fun_ploteo_complejo(propASC, \"I\", 1)\n",
        "np.shape(propASC)"
      ],
      "execution_count": 11,
      "outputs": [
        {
          "output_type": "display_data",
          "data": {
            "image/png": "[encoded data removed]",
            "text/plain": [
              "<Figure size 432x288 with 2 Axes>"
            ]
          },
          "metadata": {
            "needs_background": "light"
          }
        },
        {
          "output_type": "execute_result",
          "data": {
            "text/plain": [
              "(1024, 1024)"
            ]
          },
          "metadata": {},
          "execution_count": 11
        }
      ]
    },
    {
      "cell_type": "markdown",
      "metadata": {
        "id": "FkEogPPTDlv_"
      },
      "source": [
        "Prueba de Transformada de Fresnel usando una abertura rectangular"
      ]
    },
    {
      "cell_type": "code",
      "metadata": {
        "colab": {
          "base_uri": "https://localhost:8080/",
          "height": 269
        },
        "id": "QQwPb_O3DPto",
        "outputId": "42ce98d6-2d97-4616-be22-e914dd257967"
      },
      "source": [
        "mask2 = np.zeros((1024,1024), np.uint8)\n",
        "cv2.rectangle(mask2, (506,506), (500,500),10, -1)\n",
        "plt.figure()\n",
        "plt.imshow(mask2)\n",
        "plt.colorbar()\n",
        "plt.show()"
      ],
      "execution_count": 12,
      "outputs": [
        {
          "output_type": "display_data",
          "data": {
            "image/png": "[encoded data removed]",
            "text/plain": [
              "<Figure size 432x288 with 2 Axes>"
            ]
          },
          "metadata": {
            "needs_background": "light"
          }
        }
      ]
    },
    {
      "cell_type": "code",
      "metadata": {
        "colab": {
          "base_uri": "https://localhost:8080/",
          "height": 269
        },
        "id": "3zEz3WEKD1v5",
        "outputId": "1c370486-df1f-48fe-9684-741e237b097e"
      },
      "source": [
        "propFresnelR = Fresnel(mask2, w_length, 1*mm, dx, dy)\n",
        "fun_ploteo_complejo(propFresnelR, \"I\", 1)"
      ],
      "execution_count": 14,
      "outputs": [
        {
          "output_type": "display_data",
          "data": {
            "image/png": "[encoded data removed]",
            "text/plain": [
              "<Figure size 432x288 with 2 Axes>"
            ]
          },
          "metadata": {
            "needs_background": "light"
          }
        }
      ]
    },
    {
      "cell_type": "markdown",
      "metadata": {
        "id": "qxl-PfQ8D7Lc"
      },
      "source": [
        "Prueba de Espectro Angular usando una abertura rectangular"
      ]
    },
    {
      "cell_type": "code",
      "metadata": {
        "colab": {
          "base_uri": "https://localhost:8080/",
          "height": 269
        },
        "id": "t5lDfPlaDnVJ",
        "outputId": "1b47083f-208f-40a7-a39a-27c5d55a8cd1"
      },
      "source": [
        "propASR = Fresnel(mask2, w_length, 0.4*um, dx, dy)\n",
        "fun_ploteo_complejo(propASR, \"I\", 1)"
      ],
      "execution_count": 13,
      "outputs": [
        {
          "output_type": "display_data",
          "data": {
            "image/png": "[encoded data removed]",
            "text/plain": [
              "<Figure size 432x288 with 2 Axes>"
            ]
          },
          "metadata": {
            "needs_background": "light"
          }
        }
      ]
    },
    {
      "cell_type": "code",
      "metadata": {
        "id": "H49k7wQlDwMt"
      },
      "source": [
        ""
      ],
      "execution_count": null,
      "outputs": []
    }
  ]
}