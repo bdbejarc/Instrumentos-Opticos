{
 "cells": [
  {
   "cell_type": "code",
   "execution_count": 1,
   "metadata": {},
   "outputs": [],
   "source": [
    "# Importar librerías\n",
    "\n",
    "import pandas as pd\n",
    "import matplotlib as mlt\n",
    "import numpy as np\n",
    "import matplotlib.pyplot as plt\n",
    "import cv2\n",
    "import PyQt5"
   ]
  },
  {
   "cell_type": "code",
   "execution_count": 2,
   "metadata": {},
   "outputs": [],
   "source": [
    "# Para que las gráficas se impriman no en el notebook, sino en una nueva pestaña\n",
    "%matplotlib qt"
   ]
  },
  {
   "cell_type": "markdown",
   "metadata": {},
   "source": [
    "# Crear la matrix y dar realidad física a la simulación"
   ]
  },
  {
   "cell_type": "code",
   "execution_count": 3,
   "metadata": {},
   "outputs": [],
   "source": [
    "# Coordenadas de mundo\n",
    "nm = 1e-9\n",
    "um = 1e-6\n",
    "mm = 1e-3\n",
    "\n",
    "# Longitud de onda\n",
    "w_length = 650*nm\n",
    "\n",
    "\n",
    "# Solo por operación definimos N y M de una imagen 2048 x 2048\n",
    "N = 2048 # coordenada X\n",
    "M = 2048 # coordenada Y\n",
    "\n",
    "# Diferenciales, como N y M pendientes por definir para una imagen\n",
    "\n",
    "dx = dy = 1*um # los diferenciales (es el tamaño de pixel)\n"
   ]
  },
  {
   "cell_type": "markdown",
   "metadata": {},
   "source": [
    "# Definamos algunas funciones de interés"
   ]
  },
  {
   "cell_type": "code",
   "execution_count": 4,
   "metadata": {},
   "outputs": [],
   "source": [
    "# Función para graficar complejos\n",
    "def fun_ploteo_complejo(mat, indicador, escala, mapa_color = 'gray'):\n",
    "    '''\n",
    "    mat  es una matriz compleja a plotear\n",
    "    indicador = I para intensidad, A para amplitud, P para fase\n",
    "    escala = 1 para nada, 0 para logarítmica\n",
    "    '''\n",
    "    if(indicador ==\"I\"):\n",
    "        mat = np.abs(mat)**2\n",
    "    elif(indicador == \"A\"):\n",
    "        mat = np.abs(mat)\n",
    "    elif(indicador == \"P\"):\n",
    "        mat = np.angle(mat)\n",
    "\n",
    "    if (escala == 1):\n",
    "        plt.figure()\n",
    "        plt.imshow(mat, cmap = mapa_color)\n",
    "        plt.colorbar()\n",
    "        plt.show()\n",
    "    else:    \n",
    "        plt.figure()\n",
    "        plt.imshow( np.log( mat + 0.0001), cmap = mapa_color)\n",
    "        plt.colorbar()\n",
    "        plt.show()\n",
    "\n",
    "#----------------------------------------------------------------------------------------------------------------\n",
    "# Función que convierte campos de 3 canales a un solo canal \n",
    "def fun_monocromador(campo_colorado, canal = 0):\n",
    "    '''\n",
    "    fun_monocromador es una función que extrae los datos de un solo canal de un campo, se puede entender\n",
    "    como si un campo se compone de diferentes frecuencias, seleccionar solo los valores de esa frecuencia en \n",
    "    en particular que conforman el campo. \n",
    "    \n",
    "    Esta función acepta solo campos con más de un solo canal, si mete de 1 canal, saldrán datos incorrectos\n",
    "\n",
    "    Variables de entrada\n",
    "     - campo_colorado: (numpy.ndarray) ; es el campo al cual se filtrará solo los componentes de una frecuencia que\n",
    "                                         lo consituyen, tiene dimensiones L_x,L_y,canales\n",
    "     - canal: (int) ; es el índice de los datos correspondientes a la frecuencia que se desea seleccionar  \n",
    "                      por ejemplo una imagen RGB tiene las frecuencias de rojo en canal = 0, verde en canal = 1,\n",
    "                      y azul en canal = 2.\n",
    "                      Por defecto se escoge el canal 0                                 \n",
    "    '''\n",
    "\n",
    "    campo_monocromático = campo_colorado[:,:,canal] #Tomar todas las filas y columnas, pero solo los valores del canal\n",
    "                                                    # de interés\n",
    "\n",
    "    return (campo_monocromático)\n",
    "\n",
    "#----------------------------------------------------------------------------------------------------------------\n",
    "# Función para \"Pading\"\n",
    "def fun_pad(campo):\n",
    "    '''\n",
    "    fun_pad es una función que \"padea\" un campo (imagen) 2D con ceros tal que duplica su longitud y altura\n",
    "\n",
    "    Solo recibe imágenes de 1 canal\n",
    "\n",
    "    Variables de entrada:\n",
    "     - campo: (numpy.ndarray) ; es el campo a padear de L_x y L_y dimensiones físicas reales\n",
    "\n",
    "    Variables de salida:\n",
    "     - campo_paded: (numpy.ndarray) ; es el campo padeado con ceros de dimensiones 2*L_x y 2*L_y \n",
    "    '''\n",
    "    # extraer las dimensiones del pad\n",
    "    dimension_pad = np.array( [np.shape(campo)[0] , np.shape(campo)[1] ] ) / 2\n",
    "\n",
    "    # padear el campo con ceros\n",
    "    campo_paded = np.pad(campo, ( (int(dimension_pad[0]), int(dimension_pad[0]) ), (int(dimension_pad[1]), int(dimension_pad[1])) ), mode = 'constant', constant_values = (0,0) )\n",
    "\n",
    "    return (campo_paded)\n",
    "\n",
    "#----------------------------------------------------------------------------------------------------------------\n",
    "# Función extractora de características de un campo (imagen) 2D\n",
    "\n",
    "# Nota: Función por depurar y mejorar,, no está terminada, saltarla\n",
    "def fun_extractor(campo, L_x, L_y, dx, dy):\n",
    "    '''\n",
    "    fun_extractor es una función que extrae las características de interés de un campo (imagen) 2D\n",
    "    que puede ser de 1 o  3 canales de tamaño con dimensiones físicas reales L_x * L_y que fue medida\n",
    "    con pixeles de tamaño dx,dy \n",
    "\n",
    "    Variables de entrada:\n",
    "    - campo: (numpy.ndarray) ; Es la imagen que vamos a difractar\n",
    "    - L_x: (int) ; Dimension x del campo\n",
    "    - L_y: (int) ; Dimension y del campo\n",
    "    - dx: (int) ; Dimension x del pixel\n",
    "    - dy: (int) ; Dimension y del pixel\n",
    "\n",
    "    Variables de salida:\n",
    "    - campo_data: (numpy.ndarray) ; Arreglo 2x2, su primer elemento tiene el número de muestras en x y en y\n",
    "                                  el segundo tiene los deltas en x y en y.\n",
    "\n",
    "    '''\n",
    "    # Tamaño de la muestra\n",
    "    N_x = int(L_x/dx)\n",
    "    N_y = int(L_y/dy)\n",
    "\n",
    "\n",
    "    campo_data =np.array( [N_x, N_y] )\n",
    "\n",
    "    return(campo_data)\n",
    "\n",
    "#----------------------------------------------------------------------------------------------------------------\n",
    "# Función del kernel de una transformada discreta de Fourier y su inversa exp(+-(1j/(2pi))*(n*p/N_x + m*q*N_y))\n",
    "\n",
    "def fun_fourker( cont_n_m, cont_p_q, N_array, ift = False ):\n",
    "    '''\n",
    "    Función  fun_fourker: es una función que calcula la exponencial exp(+-(1j/(2pi*N))*(p*n + q*m)) siendo el signo\n",
    "    + para la transformada invera y - para la transformada normal\n",
    "    \n",
    "    Nota: 1j lo utilizamos para representar el complejo i\n",
    "\n",
    "    Variables de entrada:\n",
    "     - cont_n_m: (np.ndarray 1x2) ; arreglo que contiene los contadores n y m del espacio real (x,y)\n",
    "     - cont_p_q: (np.ndarray 1x2) ; arreglo que contiene los contadores p y q del espacio recíprocro (fx,fy)\n",
    "     - N_array: (np.ndarray 1x2) ; arreglo que contiene el número de las muestras N_x en x y N_y en y\n",
    "     - ift: (bool) ; indica si se está calculando transformada o su inversa, por defecto es False\n",
    "    \n",
    "    Variables de salida:\n",
    "     - fourker: (complex) ; valor exponencial evaluada con las variables de entrada\n",
    "\n",
    "    '''\n",
    "    #descomprimir\n",
    "    n = cont_n_m[0]\n",
    "    m = cont_n_m[1]\n",
    "\n",
    "    p = cont_p_q[0]\n",
    "    q = cont_p_q[1]\n",
    "\n",
    "    N_x = N_array[0]\n",
    "    N_y = N_array[1]\n",
    "\n",
    "    \n",
    "    if(ift == False):\n",
    "        fourker = np.exp(-(2j*np.pi * (n*p/N_x + m*q/N_y) ) )\n",
    "    else:\n",
    "        fourker = np.exp( (2j*np.pi * (n*p/N_x + m*q/N_y) ) )\n",
    "    return fourker\n",
    "    \n",
    "#----------------------------------------------------------------------------------------------------------------\n",
    "# Función que calcua la transformada discreta de un campo ya sea real o reciproco\n",
    "\n",
    "def fun_DFT(campo, L_x, L_y, dx, dy, ift = False):\n",
    "    '''\n",
    "    fun_DFT es una función que calcula la Transformada de Fourier Discreta (DFT) o inversa (iDFT) de un campo sin \n",
    "    tener en cuenta los deltas \n",
    "\n",
    "    Variables de entrada:\n",
    "     - campo: (numpy.ndarray) ; campo (arreglo matricial) al cual campo de que se calculará la DFT o iDFT\n",
    "     - L_x: (int) ; dimensión real del campo en el eje x\n",
    "     - L_y: (int) ; dimensión real del campo en el eje y\n",
    "     - dx: (float) ; espaciamento entre muestra y muestra en el eje x, se puede entender como la longitud del pixel\n",
    "     - dy: (float) ; espaciamento entre muestra y muestra en el eje y, se puede entender como la altura del pixel\n",
    "     - ift: (bool) ; Si True, calcula la iDFT, si False calcula DFT\n",
    "\n",
    "    Variables de salida:\n",
    "     - campo_transformado: (numpy.ndarray) ; matriz de igual dimensiones que campo que contiene los valores de \n",
    "                                             la DFT o iDFT \n",
    "    '''\n",
    "\n",
    "    # Crear arreglo lleno de ceros de mismas dimensiones que campo donde guardaré la información de la transformada\n",
    "    campo_transformado = np.zeros(np.shape(campo), dtype = complex)\n",
    "\n",
    "\n",
    "\n",
    "    # Dimensiones de campo para contadores\n",
    "    N_x = int(L_x/dx)\n",
    "    N_y = int(L_y/dy)\n",
    "\n",
    "    # definir una variable que alberge el valor de las sumas\n",
    "    suma = 0\n",
    "\n",
    "    # variable de escalada si se hace DFT o iDFT\n",
    "    if(ift == False):\n",
    "        escalador = dx*dy\n",
    "    else:\n",
    "        escalador = 1/(L_x*L_y)\n",
    "\n",
    "    # DFT\n",
    "    for p in np.arange(N_x):\n",
    "        for q in np.arange(N_y):\n",
    "\n",
    "            for n in np.arange(N_x):\n",
    "                for m in np.arange(N_y):\n",
    "                    \n",
    "                    suma += campo[n,m] * fun_fourker(n,m,p,q,N_x,N_y,ift)\n",
    " \n",
    "            \n",
    "            #Guardar el dato de la transformada para una frecuencia p,q\n",
    "            campo_transformado[p,q] = suma\n",
    "\n",
    "            # Reiniciar el sumador para calcular otra frecuencia p,q\n",
    "            suma = 0\n",
    "    \n",
    "    # escalar el campo\n",
    "    campo_transformado = campo_transformado * escalador\n",
    "\n",
    "    return campo_transformado\n",
    "\n",
    "\n",
    "def fun_DFT2():\n",
    "    '''\n",
    "    \n",
    "    '''\n",
    "\n",
    "    # Dimensiones del campo para los contadores\n",
    "    N_x = int(L_x/dx)\n",
    "    N_y = int(L_y/dy)\n",
    "\n",
    "    # variable de escalada si se hace DFT o iDFT\n",
    "    if(ift == False):\n",
    "        escalador = dx*dy\n",
    "    else:\n",
    "        escalador = 1/(L_x*L_y)\n",
    "\n",
    "    # Crear una matriz de N_x filas con N_y columnas donde cada elemento de la matriz es un arreglo 1x2 donde el primer\n",
    "    # valor es el número de la fila y el segundo es el número de la columna\n",
    "\n",
    "    # ejemplo siendo\n",
    "    #  _                       _\n",
    "    # | [0,0]    [0,1]    [0,2] |\n",
    "    # | [1,0]    [1,1]    [1,2] |\n",
    "    # | [2,0]    [2,1]    [2,2] |\n",
    "    #  -                       -\n",
    "    # la dimension es (N_x, N_y, 2)\n",
    "    matriz_indexada = np.indices((N_x,N_y,1))\n",
    "    matriz_indexada = np.concatenate((matriz_indexada[0], matriz_indexada[1]), axis=2)\n",
    "\n",
    "    def funcionf(cont_p_q, campo):\n",
    "        np.sum(map(lambda n,m: campo[n,m]*fun_fourker(),matriz_indexada))\n",
    "\n",
    "    matriz_DFT = map\n",
    "\n",
    "    \n",
    "\n",
    "\n",
    "\n",
    "\n",
    "\n"
   ]
  },
  {
   "cell_type": "code",
   "execution_count": 6,
   "metadata": {},
   "outputs": [],
   "source": [
    "par = np.array([[1,2,3],[4,5,6],[7,8,9]])"
   ]
  },
  {
   "cell_type": "code",
   "execution_count": 8,
   "metadata": {},
   "outputs": [
    {
     "name": "stdout",
     "output_type": "stream",
     "text": [
      "(5, 5, 2)\n"
     ]
    },
    {
     "data": {
      "text/plain": [
       "[array([[10, 10],\n",
       "        [10, 11],\n",
       "        [10, 12],\n",
       "        [10, 13],\n",
       "        [10, 14]]),\n",
       " array([[11, 10],\n",
       "        [11, 11],\n",
       "        [11, 12],\n",
       "        [11, 13],\n",
       "        [11, 14]]),\n",
       " array([[12, 10],\n",
       "        [12, 11],\n",
       "        [12, 12],\n",
       "        [12, 13],\n",
       "        [12, 14]]),\n",
       " array([[13, 10],\n",
       "        [13, 11],\n",
       "        [13, 12],\n",
       "        [13, 13],\n",
       "        [13, 14]]),\n",
       " array([[14, 10],\n",
       "        [14, 11],\n",
       "        [14, 12],\n",
       "        [14, 13],\n",
       "        [14, 14]])]"
      ]
     },
     "execution_count": 8,
     "metadata": {},
     "output_type": "execute_result"
    }
   ],
   "source": [
    "matpe = np.indices((5,5,1))\n",
    "matpe = np.concatenate( (matpe[0], matpe[1]), axis=2)\n",
    "print(matpe.shape)\n",
    "\n",
    "[*map(lambda x: x+10, matpe ) ]"
   ]
  },
  {
   "cell_type": "code",
   "execution_count": null,
   "metadata": {},
   "outputs": [],
   "source": [
    "index = np.indices((1000,1000,1))\n",
    "index[0],index[1]"
   ]
  },
  {
   "cell_type": "code",
   "execution_count": 461,
   "metadata": {},
   "outputs": [
    {
     "data": {
      "text/plain": [
       "[[1, 1], [2, 2], [3, 3]]"
      ]
     },
     "execution_count": 461,
     "metadata": {},
     "output_type": "execute_result"
    }
   ],
   "source": [
    "def fuff(x):\n",
    "    x^2\n",
    "    return x\n",
    "[*map(lambda x: [*map(fuff, x)], np.array([[1,1],[2,2],[3,3]]) ) ]\n",
    "\n"
   ]
  },
  {
   "cell_type": "markdown",
   "metadata": {},
   "source": [
    "# Punto 1\n",
    "\n",
    "Implemente numéricamente, en Python o MATLAB, los métodos de difracción escalar de Transformadad de Fresnel y Espectro Angular en sus formas de sumatorias discretas (DFT), y en la forma basada en transformadas rápidas de Fourier (FFT). Compare el desempeño de ambos métodos en términos del tiempo necesario para realizar el cómputo de un mismo experimento difractivo de su elección. ¿La mejora de desempe o coincide con sus expectativas?"
   ]
  },
  {
   "cell_type": "code",
   "execution_count": 329,
   "metadata": {},
   "outputs": [],
   "source": [
    "war_img = cv2.imread('C:/Users/braya/Desktop/Git I Opticos/Instrumentos-Opticos/Entrega_01/c.jpeg')              # Lecutra del .csv como un objeto np.array\n",
    "np.shape(war_img)\n",
    "war_mono = fun_monocromador(war_img)\n",
    "fun_ploteo_complejo(war_mono, \"A\" , 1)"
   ]
  },
  {
   "cell_type": "markdown",
   "metadata": {},
   "source": [
    "### DFT de Espectro Angular"
   ]
  },
  {
   "cell_type": "code",
   "execution_count": 330,
   "metadata": {},
   "outputs": [],
   "source": [
    "# Obtener el espectro del campo de entrada, Primera DFT\n",
    "\n",
    "def fun_DFT_EspA(campo, w_length, z, L_x, L_y, dx, dy):\n",
    "     '''\n",
    "     \n",
    "     '''\n",
    "     # Vector de onda\n",
    "     k_vect = 2*np.pi/w_length\n",
    "\n",
    "\n",
    "\n",
    "     # Número de muestras\n",
    "     N_x = int(L_x/dx)\n",
    "     N_y = int(L_y/dy)\n",
    "\n",
    "     # 1. Generar espectro del campo en 0\n",
    "     A_spectra = fun_DFT(campo,L_x, L_y, dx, dy)\n",
    "\n",
    "     # 2. Calcular el espectro a una distancia z\n",
    "\n",
    "     # Matriz de ceros que albergará la información del espectro propagado a una distancia z\n",
    "     A_spectra_z = np.zeros(np.shape(campo), dtype = complex)\n",
    "\n",
    "     for p in np.arange(N_x):\n",
    "          for q in np.arange(N_y):\n",
    "               A_spectra_z[p,q] = A_spectra[p,q] * np.exp(z*1j*k_vect*np.sqrt(1-(w_length*1/L_x)**2 * (p**2 + q**2) ) )\n",
    "\n",
    "\n",
    "     # 3. Calcular la DFT inversa para volver al dominio real\n",
    "     campo_propagado = fun_DFT(campo, L_x, L_y, dx, dy, ift = True)\n",
    "\n",
    "     # 4. Ordenar las frecuencias, dado que entramos a las frecuencias de la réplica, está desordenado.\n",
    "     campo_propagado = np.fft.fftshift(campo_propagado)\n",
    "\n",
    "     return(campo_propagado)\n"
   ]
  },
  {
   "cell_type": "code",
   "execution_count": 324,
   "metadata": {},
   "outputs": [
    {
     "ename": "KeyboardInterrupt",
     "evalue": "",
     "output_type": "error",
     "traceback": [
      "\u001b[1;31m---------------------------------------------------------------------------\u001b[0m",
      "\u001b[1;31mKeyboardInterrupt\u001b[0m                         Traceback (most recent call last)",
      "\u001b[1;32m~\\AppData\\Local\\Temp/ipykernel_10148/2568428045.py\u001b[0m in \u001b[0;36m<module>\u001b[1;34m\u001b[0m\n\u001b[0;32m      1\u001b[0m \u001b[1;31m# fun_DFT_EspA(war_mono,1, 1, 1680, 2600, 1, 1)\u001b[0m\u001b[1;33m\u001b[0m\u001b[1;33m\u001b[0m\u001b[0m\n\u001b[1;32m----> 2\u001b[1;33m \u001b[0mfun_DFT\u001b[0m\u001b[1;33m(\u001b[0m\u001b[0mwar_mono\u001b[0m\u001b[1;33m,\u001b[0m\u001b[1;36m1680\u001b[0m\u001b[1;33m,\u001b[0m\u001b[1;36m2600\u001b[0m\u001b[1;33m,\u001b[0m\u001b[1;36m1\u001b[0m\u001b[1;33m,\u001b[0m\u001b[1;36m1\u001b[0m\u001b[1;33m)\u001b[0m\u001b[1;33m\u001b[0m\u001b[1;33m\u001b[0m\u001b[0m\n\u001b[0m",
      "\u001b[1;32m~\\AppData\\Local\\Temp/ipykernel_10148/323135472.py\u001b[0m in \u001b[0;36mfun_DFT\u001b[1;34m(campo, L_x, L_y, dx, dy, ift)\u001b[0m\n\u001b[0;32m    177\u001b[0m                 \u001b[1;32mfor\u001b[0m \u001b[0mm\u001b[0m \u001b[1;32min\u001b[0m \u001b[0mnp\u001b[0m\u001b[1;33m.\u001b[0m\u001b[0marange\u001b[0m\u001b[1;33m(\u001b[0m\u001b[0mN_y\u001b[0m\u001b[1;33m)\u001b[0m\u001b[1;33m:\u001b[0m\u001b[1;33m\u001b[0m\u001b[1;33m\u001b[0m\u001b[0m\n\u001b[0;32m    178\u001b[0m \u001b[1;33m\u001b[0m\u001b[0m\n\u001b[1;32m--> 179\u001b[1;33m                     \u001b[0msuma\u001b[0m \u001b[1;33m+=\u001b[0m \u001b[0mcampo\u001b[0m\u001b[1;33m[\u001b[0m\u001b[0mn\u001b[0m\u001b[1;33m,\u001b[0m\u001b[0mm\u001b[0m\u001b[1;33m]\u001b[0m \u001b[1;33m*\u001b[0m \u001b[0mfun_fourker\u001b[0m\u001b[1;33m(\u001b[0m\u001b[0mn\u001b[0m\u001b[1;33m,\u001b[0m\u001b[0mm\u001b[0m\u001b[1;33m,\u001b[0m\u001b[0mp\u001b[0m\u001b[1;33m,\u001b[0m\u001b[0mq\u001b[0m\u001b[1;33m,\u001b[0m\u001b[0mN_x\u001b[0m\u001b[1;33m,\u001b[0m\u001b[0mN_y\u001b[0m\u001b[1;33m,\u001b[0m\u001b[0mift\u001b[0m\u001b[1;33m)\u001b[0m\u001b[1;33m\u001b[0m\u001b[1;33m\u001b[0m\u001b[0m\n\u001b[0m\u001b[0;32m    180\u001b[0m \u001b[1;33m\u001b[0m\u001b[0m\n\u001b[0;32m    181\u001b[0m \u001b[1;33m\u001b[0m\u001b[0m\n",
      "\u001b[1;31mKeyboardInterrupt\u001b[0m: "
     ]
    }
   ],
   "source": [
    "# fun_DFT_EspA(war_mono,1, 1, 1680, 2600, 1, 1)\n",
    "fun_DFT(war_mono,1680,2600,1,1)"
   ]
  },
  {
   "cell_type": "code",
   "execution_count": null,
   "metadata": {},
   "outputs": [],
   "source": []
  },
  {
   "cell_type": "code",
   "execution_count": 310,
   "metadata": {},
   "outputs": [
    {
     "data": {
      "text/plain": [
       "(1680, 2600, 3)"
      ]
     },
     "execution_count": 310,
     "metadata": {},
     "output_type": "execute_result"
    }
   ],
   "source": [
    "np.shape(war_img)"
   ]
  }
 ],
 "metadata": {
  "interpreter": {
   "hash": "ac59ebe37160ed0dfa835113d9b8498d9f09ceb179beaac4002f036b9467c963"
  },
  "kernelspec": {
   "display_name": "Python 3.9.7 64-bit",
   "language": "python",
   "name": "python3"
  },
  "language_info": {
   "codemirror_mode": {
    "name": "ipython",
    "version": 3
   },
   "file_extension": ".py",
   "mimetype": "text/x-python",
   "name": "python",
   "nbconvert_exporter": "python",
   "pygments_lexer": "ipython3",
   "version": "3.9.7"
  },
  "orig_nbformat": 4
 },
 "nbformat": 4,
 "nbformat_minor": 2
}
