{
  "cells": [
    {
      "cell_type": "code",
      "execution_count": 1,
      "metadata": {
        "id": "Nq6tEhNcB5Wo"
      },
      "outputs": [],
      "source": [
        "# Importar librerías\n",
        "\n",
        "import pandas as pd\n",
        "import matplotlib as mlt\n",
        "import numpy as np\n",
        "import matplotlib.pyplot as plt\n",
        "import cv2\n",
        "import PyQt5 # si se trabaja en local, para que #matplolib qt corra"
      ]
    },
    {
      "cell_type": "code",
      "execution_count": 2,
      "metadata": {
        "id": "uR5XMR7TB5W0"
      },
      "outputs": [],
      "source": [
        "# Para que las gráficas se impriman no en el notebook, sino en una nueva pestaña\n",
        "%matplotlib qt"
      ]
    },
    {
      "cell_type": "markdown",
      "metadata": {
        "id": "XLGYuJFrB5W3"
      },
      "source": [
        "# Crear la Matrix y dar realidad física a la simulación"
      ]
    },
    {
      "cell_type": "code",
      "execution_count": 3,
      "metadata": {
        "id": "2U16-t2HB5W8"
      },
      "outputs": [],
      "source": [
        "# Coordenadas de mundo\n",
        "nm = 1e-9\n",
        "um = 1e-6\n",
        "mm = 1e-3\n",
        "cm = 1e-2\n",
        "\n",
        "# Longitud de onda\n",
        "w_length = 650*nm\n",
        "\n",
        "\n",
        "# # Solo por operación definimos N y M de una imagen 2048 x 2048\n",
        "# N = 2048 # coordenada X\n",
        "# M = 2048 # coordenada Y\n",
        "\n",
        "\n",
        "# Diferenciales, como N y M pendientes por definir para una imagen\n",
        "dx = dy = 1*um # los diferenciales (tamaño de pixel)"
      ]
    },
    {
      "cell_type": "markdown",
      "metadata": {
        "id": "4GLZRBa7B5XI"
      },
      "source": [
        "# Definamos algunas funciones de interés"
      ]
    },
    {
      "cell_type": "code",
      "execution_count": 152,
      "metadata": {
        "id": "XR3wNIMVB5XK"
      },
      "outputs": [],
      "source": [
        "# Función para graficar complejos\n",
        "def fun_ploteo_complejo(mat, indicador, escala, mapa_color = 'gray'):\n",
        "    \"\"\"\n",
        "    mat  es una matriz compleja a plotear\n",
        "    indicador = I para intensidad, A para amplitud, P para fase\n",
        "    escala = 1 para nada, 0 para logarítmica\n",
        "    \"\"\"\n",
        "\n",
        "    if(indicador ==\"I\"):\n",
        "        mat = np.abs(mat)**2\n",
        "    elif(indicador == \"A\"):\n",
        "        mat = np.abs(mat)\n",
        "    elif(indicador == \"P\"):\n",
        "        mat = np.angle(mat)\n",
        "\n",
        "    if (escala == 1):\n",
        "        plt.figure()\n",
        "        plt.imshow(mat, cmap = mapa_color)\n",
        "        plt.colorbar()\n",
        "        plt.show()\n",
        "    else:    \n",
        "        plt.figure()\n",
        "        plt.imshow( np.log( mat + 0.0001), cmap = mapa_color)\n",
        "        plt.colorbar()\n",
        "        plt.show()\n",
        "\n",
        "#----------------------------------------------------------------------------------------------------------------\n",
        "# Función que convierte campos de 3 canales a un solo canal \n",
        "def fun_monocromador(campo_colorado, canal = 0):\n",
        "    '''\n",
        "    fun_monocromador es una función que extrae los datos de un solo canal de un campo, se puede entender\n",
        "    como si un campo se compone de diferentes frecuencias, seleccionar solo los valores de esa frecuencia en \n",
        "    en particular que conforman el campo. \n",
        "    \n",
        "    Esta función acepta solo campos con más de un solo canal, si mete de 1 canal, saldrán datos incorrectos\n",
        "\n",
        "    Variables de entrada\n",
        "     - campo_colorado: (numpy.ndarray) ; es el campo al cual se filtrará solo los componentes de una frecuencia que\n",
        "                                         lo consituyen, tiene dimensiones L_x,L_y,canales\n",
        "     - canal: (int) ; es el índice de los datos correspondientes a la frecuencia que se desea seleccionar  \n",
        "                      por ejemplo una imagen RGB tiene las frecuencias de rojo en canal = 0, verde en canal = 1,\n",
        "                      y azul en canal = 2.\n",
        "                      Por defecto se escoge el canal 0     \n",
        "                                                  \n",
        "    '''\n",
        "\n",
        "    campo_monocromático = campo_colorado[:,:,canal] #Tomar todas las filas y columnas, pero solo los valores del canal\n",
        "                                                    # de interés\n",
        "\n",
        "    return (campo_monocromático)\n",
        "\n",
        "#----------------------------------------------------------------------------------------------------------------\n",
        "# Función para \"Pading\"\n",
        "def fun_pad(campo):\n",
        "    '''\n",
        "    fun_pad es una función que \"padea\" un campo (imagen) 2D con ceros tal que duplica su longitud y altura\n",
        "\n",
        "    Solo recibe imágenes de 1 canal\n",
        "\n",
        "    Variables de entrada:\n",
        "     - campo: (numpy.ndarray) ; es el campo a padear de L_x y L_y dimensiones físicas reales\n",
        "\n",
        "    Variables de salida:\n",
        "     - campo_paded: (numpy.ndarray) ; es el campo padeado con ceros de dimensiones 2*L_x y 2*L_y \n",
        "    '''\n",
        "    # extraer las dimensiones del pad\n",
        "    dimension_pad = np.array( [np.shape(campo)[0] , np.shape(campo)[1] ] ) / 2\n",
        "\n",
        "    # padear el campo con ceros\n",
        "    campo_paded = np.pad(campo, ( (int(dimension_pad[0]), int(dimension_pad[0]) ), (int(dimension_pad[1]), int(dimension_pad[1])) ), mode = 'constant', constant_values = (0,0) )\n",
        "\n",
        "    return (campo_paded)\n",
        "\n",
        "#----------------------------------------------------------------------------------------------------------------\n",
        "# Función extractora de características de un campo (imagen) 2D\n",
        "\n",
        "# Nota: Función por depurar y mejorar,, no está terminada, saltarla\n",
        "def fun_extractor(campo, L_x, L_y, dx, dy):\n",
        "    '''\n",
        "    fun_extractor es una función que extrae las características de interés de un campo (imagen) 2D\n",
        "    que puede ser de 1 o  3 canales de tamaño con dimensiones físicas reales L_x * L_y que fue medida\n",
        "    con pixeles de tamaño dx,dy \n",
        "\n",
        "    Variables de entrada:\n",
        "    - campo: (numpy.ndarray) ; Es la imagen que vamos a difractar\n",
        "    - L_x: (int) ; Dimension x del campo\n",
        "    - L_y: (int) ; Dimension y del campo\n",
        "    - dx: (int) ; Dimension x del pixel\n",
        "    - dy: (int) ; Dimension y del pixel\n",
        "\n",
        "    Variables de salida:\n",
        "    - campo_data: (numpy.ndarray) ; Arreglo 2x2, su primer elemento tiene el número de muestras en x y en y\n",
        "                                  el segundo tiene los deltas en x y en y.\n",
        "\n",
        "    '''\n",
        "    # Tamaño de la muestra\n",
        "    N_x = int(L_x/dx)\n",
        "    N_y = int(L_y/dy)\n",
        "\n",
        "\n",
        "    campo_data =np.array( [N_x, N_y] )\n",
        "\n",
        "    return(campo_data)\n",
        "# Función para graficar complejos\n",
        "def fun_ploteo_complejo(mat, indicador, escala, mapa_color = 'gray'):\n",
        "    '''\n",
        "    mat  es una matriz compleja a plotear\n",
        "    indicador = I para intensidad, A para amplitud, P para fase\n",
        "    escala = 1 para nada, 0 para logarítmica\n",
        "    '''\n",
        "    if(indicador ==\"I\"):\n",
        "        mat = np.abs(mat)**2\n",
        "    elif(indicador == \"A\"):\n",
        "        mat = np.abs(mat)\n",
        "    elif(indicador == \"P\"):\n",
        "        mat = np.angle(mat)\n",
        "\n",
        "    if (escala == 1):\n",
        "        plt.figure()\n",
        "        plt.imshow(mat, cmap = mapa_color)\n",
        "        plt.colorbar()\n",
        "        plt.show()\n",
        "    else:    \n",
        "        plt.figure()\n",
        "        plt.imshow( np.log( mat + 0.001), cmap = mapa_color)\n",
        "        plt.colorbar()\n",
        "        plt.show()\n",
        "\n",
        "#----------------------------------------------------------------------------------------------------------------\n",
        "# Función que convierte campos de 3 canales a un solo canal \n",
        "def fun_monocromador(campo_colorado, canal = 0):\n",
        "    '''\n",
        "    fun_monocromador es una función que extrae los datos de un solo canal de un campo, se puede entender\n",
        "    como si un campo se compone de diferentes frecuencias, seleccionar solo los valores de esa frecuencia en \n",
        "    en particular que conforman el campo. \n",
        "    \n",
        "    Esta función acepta solo campos con más de un solo canal, si mete de 1 canal, saldrán datos incorrectos\n",
        "\n",
        "    Variables de entrada\n",
        "     - campo_colorado: (numpy.ndarray) ; es el campo al cual se filtrará solo los componentes de una frecuencia que\n",
        "                                         lo consituyen, tiene dimensiones L_x,L_y,canales\n",
        "     - canal: (int) ; es el índice de los datos correspondientes a la frecuencia que se desea seleccionar  \n",
        "                      por ejemplo una imagen RGB tiene las frecuencias de rojo en canal = 0, verde en canal = 1,\n",
        "                      y azul en canal = 2.\n",
        "                      Por defecto se escoge el canal 0     \n",
        "                                                  \n",
        "    '''\n",
        "\n",
        "    campo_monocromático = campo_colorado[:,:,canal] #Tomar todas las filas y columnas, pero solo los valores del canal\n",
        "                                                    # de interés\n",
        "\n",
        "    return (campo_monocromático)\n",
        "\n",
        "#----------------------------------------------------------------------------------------------------------------\n",
        "# Función para \"Pading\"\n",
        "def fun_pad(campo):\n",
        "    '''\n",
        "    fun_pad es una función que \"padea\" un campo (imagen) 2D con ceros tal que duplica su longitud y altura\n",
        "\n",
        "    Solo recibe imágenes de 1 canal\n",
        "\n",
        "    Variables de entrada:\n",
        "     - campo: (numpy.ndarray) ; es el campo a padear de L_x y L_y dimensiones físicas reales\n",
        "\n",
        "    Variables de salida:\n",
        "     - campo_paded: (numpy.ndarray) ; es el campo padeado con ceros de dimensiones 2*L_x y 2*L_y \n",
        "    '''\n",
        "    # extraer las dimensiones del pad\n",
        "    dimension_pad = np.array( [np.shape(campo)[0] , np.shape(campo)[1] ] ) / 2\n",
        "\n",
        "    # padear el campo con ceros\n",
        "    campo_paded = np.pad(campo, ( (int(dimension_pad[0]), int(dimension_pad[0]) ), (int(dimension_pad[1]), int(dimension_pad[1])) ), mode = 'constant', constant_values = (0,0) )\n",
        "\n",
        "    return (campo_paded)\n",
        "\n",
        "#----------------------------------------------------------------------------------------------------------------\n",
        "# Función calculadora del z crítico\n",
        "def fun_z_c(M, dx, w_length):\n",
        "    '''\n",
        "    fun_z_c es una función que calcula el la distancia de propagación crítica (z crítico) donde los métodos\n",
        "    de propagación AS y Fresnel funcionan, dados un campo, tamaño de discretización y longitu de onda\n",
        "    \n",
        "    Variables de entrada\n",
        "     - M: int ; número de muestreos\n",
        "     - dx: float ; tamaño de discretización (tamaño del pixel)\n",
        "     - w_lenght: float ; longitud de onda\n",
        "\n",
        "    Variables de salida\n",
        "     - z_c: float ; z crítico\n",
        "    '''\n",
        "    z_c = M*dx**2/w_length\n",
        "\n",
        "    return z_c\n",
        "#----------------------------------------------------------------------------------------------------------------\n",
        "# Función extractora de características de un campo (imagen) 2D\n",
        "\n",
        "# Nota: Función por depurar y mejorar,, no está terminada, saltarla\n",
        "def fun_extractor(campo, L_x, L_y, dx, dy):\n",
        "    '''\n",
        "    fun_extractor es una función que extrae las características de interés de un campo (imagen) 2D\n",
        "    que puede ser de 1 o  3 canales de tamaño con dimensiones físicas reales L_x * L_y que fue medida\n",
        "    con pixeles de tamaño dx,dy \n",
        "\n",
        "    Variables de entrada:\n",
        "    - campo: (numpy.ndarray) ; Es la imagen que vamos a difractar\n",
        "    - L_x: (int) ; Dimension x del campo\n",
        "    - L_y: (int) ; Dimension y del campo\n",
        "    - dx: (int) ; Dimension x del pixel\n",
        "    - dy: (int) ; Dimension y del pixel\n",
        "\n",
        "    Variables de salida:\n",
        "    - campo_data: (numpy.ndarray) ; Arreglo 2x2, su primer elemento tiene el número de muestras en x y en y\n",
        "                                  el segundo tiene los deltas en x y en y.\n",
        "\n",
        "    '''\n",
        "    # Tamaño de la muestra\n",
        "    N_x = int(L_x/dx)\n",
        "    N_y = int(L_y/dy)\n",
        "\n",
        "\n",
        "    campo_data =np.array( [N_x, N_y] )\n",
        "\n",
        "    return(campo_data)\n",
        "\n",
        "#----------------------------------------------------------------------------------------------------------------\n",
        "\n",
        "   # Función del kernel de una transformada discreta de Fourier y su inversa exp(+-(1j/(2pi))*(n*p/N_x + m*q*N_y))\n",
        "def fun_fourker( cont_n_m, cont_p_q, N_array, ift = False ):\n",
        "    '''\n",
        "    Función  fun_fourker: es una función que calcula la exponencial exp(+-(1j/(2pi*N))*(p*n + q*m)) siendo el signo\n",
        "    + para la transformada invera y - para la transformada normal\n",
        "     \n",
        "    Nota: 1j lo utilizamos para representar el complejo i\n",
        "\n",
        "    Variables de entrada:\n",
        "    - cont_n_m: (np.ndarray 1x2) ; arreglo que contiene los contadores n y m del espacio real (x,y)\n",
        "    - cont_p_q: (np.ndarray 1x2) ; arreglo que contiene los contadores p y q del espacio recíprocro (fx,fy)\n",
        "    - N_array: (np.ndarray 1x2) ; arreglo que contiene el número de las muestras N_x en x y N_y en y\n",
        "    - ift: (bool) ; indica si se está calculando transformada o su inversa, por defecto es False\n",
        "        \n",
        "    Variables de salida:\n",
        "    - fourker: (complex) ; valor exponencial evaluada con las variables de entrada\n",
        "\n",
        "    '''\n",
        "        #descomprimir\n",
        "    n = cont_n_m[0]\n",
        "    m = cont_n_m[1]\n",
        "\n",
        "    p = cont_p_q[0]\n",
        "    q = cont_p_q[1]\n",
        "\n",
        "    N_x = N_array[0]\n",
        "    N_y = N_array[1]\n",
        "\n",
        "        \n",
        "    if(ift == False):\n",
        "        fourker = np.exp(-(2j*np.pi * (n*p/N_x + m*q/N_y) ) )\n",
        "    else:\n",
        "        fourker = np.exp( (2j*np.pi * (n*p/N_x + m*q/N_y) ) )\n",
        "            \n",
        "    return fourker\n",
        "#----------------------------------------------------------------------------------------------------------------\n",
        "# Función que calcua la transformada discreta de un campo ya sea real o reciproco\n",
        "\n",
        "def fun_DFT(campo, delta_array, ift = False):\n",
        "    '''\n",
        "    fun_DFT es una función que calcula la Transformada de Fourier Discreta (DFT) o inversa (iDFT) de un campo sin \n",
        "    tener en cuenta los deltas, por medio de el uso de ciclos for.\n",
        "\n",
        "    Variables de entrada:\n",
        "     - campo: (numpy.ndarray) ; campo (arreglo matricial) al cual campo de que se calculará la DFT o iDFT\n",
        "     - delta_array: (np.ndarray 1x2) ; arreglo que contiene los deltas o tamaños de pixeles dx y dy\n",
        "     - ift: (bool) ; Si True, calcula la iDFT, si False calcula DFT\n",
        "\n",
        "    Variables de salida:\n",
        "     - campo_transformado: (numpy.ndarray) ; matriz de igual dimensiones que campo que contiene los valores de \n",
        "                                             la DFT o iDFT \n",
        "    '''\n",
        "\n",
        "    # Crear arreglo lleno de ceros de mismas dimensiones que campo donde guardaré la información de la transformada\n",
        "    campo_transformado = np.zeros(np.shape(campo), dtype = complex)\n",
        "\n",
        "    # Dimensiones de campo para contadores\n",
        "    N_x, N_y = np.shape(campo)\n",
        "\n",
        "    N_array = np.array([N_x,N_y])\n",
        "\n",
        "    # Extraer deltas\n",
        "    dx, dy = delta_array\n",
        "\n",
        "    L_x = dx*N_x\n",
        "    L_y = dy*N_y\n",
        "    \n",
        "\n",
        "\n",
        "    # variable de escalada si se hace DFT o iDFT\n",
        "    if(ift == False):\n",
        "        escalador = dx*dy\n",
        "    else:\n",
        "        escalador = 1/(L_x*L_y)\n",
        "\n",
        "    # definir una variable que alberge el valor de las sumas\n",
        "    suma = 0\n",
        "\n",
        "    # DFT\n",
        "    for p in np.arange(N_x):\n",
        "        for q in np.arange(N_y):\n",
        "\n",
        "            for n in np.arange(N_x):\n",
        "                for m in np.arange(N_y):\n",
        "\n",
        "                    cont_n_m = np.array([n,m])\n",
        "                    cont_p_q = np.array([p,q])\n",
        "\n",
        "                    suma += campo[n,m] * fun_fourker(cont_n_m, cont_p_q, N_array, ift)\n",
        " \n",
        "            \n",
        "            #Guardar el dato de la transformada para una frecuencia p,q\n",
        "            campo_transformado[p,q] = suma\n",
        "\n",
        "            # Reiniciar el sumador para calcular otra frecuencia p,q\n",
        "            suma = 0\n",
        "    \n",
        "    # escalar el campo\n",
        "    campo_transformado = campo_transformado * escalador\n",
        "\n",
        "    return campo_transformado\n",
        "\n",
        "    \n",
        "#----------------------------------------------------------------------------------------------------------------\n",
        "\n",
        "def fun_DFT2(campo, delta_array, ift = False):\n",
        "    '''\n",
        "    fun_DFT2 es otra función que hace DFT, las variables de entrada y salida son los mismos que fun_DFT\n",
        "    Esta función calcula por medio de funciones map() nativas de python.\n",
        "    '''\n",
        "\n",
        "   # Dimensiones de campo para contadores\n",
        "    N_x, N_y = np.shape(campo)\n",
        "\n",
        "    N_array = np.array([N_x,N_y])\n",
        "\n",
        "    # Extraer deltas\n",
        "    dx, dy = delta_array\n",
        "\n",
        "    L_x = dx*N_x\n",
        "    L_y = dy*N_y\n",
        "\n",
        "    # variable de escalada si se hace DFT o iDFT\n",
        "    if(ift == False):\n",
        "        escalador = dx*dy\n",
        "    else:\n",
        "        escalador = 1/(L_x*L_y)\n",
        "\n",
        "    # Crear una matriz de N_x filas con N_y columnas donde cada elemento de la matriz es un arreglo 1x2 donde el primer\n",
        "    # valor es el número de la fila y el segundo es el número de la columna\n",
        "\n",
        "    # ejemplo siendo\n",
        "    #  _                       _\n",
        "    # | [0,0]    [0,1]    [0,2] |\n",
        "    # | [1,0]    [1,1]    [1,2] |\n",
        "    # | [2,0]    [2,1]    [2,2] |\n",
        "    #  -                       -\n",
        "    # la dimension es (N_x, N_y, 2)\n",
        "    matriz_indexada = np.indices((N_x, N_y, 1))\n",
        "    matriz_indexada = np.concatenate((matriz_indexada[0], matriz_indexada[1]), axis=2)\n",
        "\n",
        "    def funcion_g(cont_n_m, cont_p_q, N_array, campo, ift):\n",
        "        multiplicador = campo[tuple(cont_n_m)]*fun_fourker(cont_n_m, cont_p_q, N_array, ift)\n",
        "        return multiplicador\n",
        "\n",
        "    def funcion_f(cont_p_q,  N_array, campo, ift):\n",
        "        punto_transformado = np.sum( np.array(list(map(lambda filas_n_m: np.array(list(map(lambda n_m: funcion_g(n_m, cont_p_q, N_array, campo, ift ), filas_n_m) ) ) , matriz_indexada ) ) ) )\n",
        "        return punto_transformado\n",
        "\n",
        "\n",
        "    matriz_DFT = np.array(list(map(lambda filas_p_q: list(map(lambda p_q: funcion_f(p_q, N_array, campo, ift), filas_p_q) ),matriz_indexada) ) )\n",
        "\n",
        "    matriz_DFT = matriz_DFT * escalador\n",
        "\n",
        "    \n",
        "    return matriz_DFT\n",
        "\n",
        "#----------------------------------------------------------------------------------------------------------------\n",
        "def fun_DFT_poderosa(campo, delta_array, ift = False):\n",
        "    '''\n",
        "    fun_DFT_poderosa es una función que calcula la Transformada de Fourier Discreta (DFT) o inversa (iDFT) de un campo.\n",
        "\n",
        "    NOTA 1: Esta función es equivalente a np.fft.fftn(campo*delta_array[0]*delta_array_[1])\n",
        "    NOTA 2: Esta función aunque bastante óptima para DFT, es muy costosa, puede que su computador colapse, en computador del programador\n",
        "            se garantiza, corrió una de 128x128, no se probó de mayores tamaños.\n",
        "\n",
        "    Variables de entrada:\n",
        "     - campo: (numpy.ndarray) ; campo (arreglo matricial) al cual se calculará la DFT o iDFT\n",
        "     - delta_array: (np.ndarray 1x2) ; arreglo que contiene los deltas o tamaños de pixeles dx y dy\n",
        "     - ift: (bool) ; Si True, calcula la iDFT, si False calcula DFT\n",
        "\n",
        "    Variables de salida:\n",
        "     - DFT: (numpy.ndarray) ; matriz de igual dimensiones que campo que contiene los valores de \n",
        "                              la DFT o iDFT \n",
        "    '''\n",
        "\n",
        "    # Número de muestras del campo\n",
        "    N,M = np.shape(campo)\n",
        "\n",
        "    # Extraer deltas\n",
        "    dx, dy = delta_array\n",
        "\n",
        "    # Tamaño del campo\n",
        "    Lx = N*dx\n",
        "    Ly = M*dy\n",
        "    \n",
        "    # Definir variables si se hace DFT o iDFT\n",
        "    # para iDFT\n",
        "    if ift == True:\n",
        "        s = +1                            # signo positivo si iDFT   \n",
        "        escalador = 1/(Lx*Ly)             # delta espectral\n",
        "    # para DFT\n",
        "    else:\n",
        "        s = -1\n",
        "        escalador = dx*dy\n",
        "\n",
        "    # Crear contadores\n",
        "    n = np.arange(0,N,1)\n",
        "    m = np.arange(0,M,1)\n",
        "\n",
        "    p = np.arange(0,N,1)\n",
        "    q = np.arange(0,M,1)\n",
        "\n",
        "    # Crear arreglos matriciales\n",
        "    n_mat, m_mat = np.meshgrid(n,m)\n",
        "    p_mat, q_mat = np.meshgrid(p,q)\n",
        "\n",
        "    # Realizar producto tensorial de p x n y q x m, para tener todas las combinaciones\n",
        "    # posibles de los n,m con un único valor p,q para todos los p y q\n",
        "    p_tensor_n = np.tensordot(p_mat, n_mat, 0)\n",
        "    q_tensor_m = np.tensordot(q_mat, m_mat, 0)\n",
        "\n",
        "    # Dividir para el número de muestras\n",
        "    p_tensor_n = p_tensor_n/N\n",
        "    q_tensor_m = q_tensor_m/M\n",
        "\n",
        "    # kernel de fourier\n",
        "    fourker = np.exp(1j*2*np.pi*s*(p_tensor_n + q_tensor_m) )\n",
        "\n",
        "    # multiplicar el campo por el kernel, donde se mantiene la relación punto a punto\n",
        "    producto = campo * fourker\n",
        "\n",
        "    # sumar todas las multiplicaciones del campo con el kernel y obtener la matriz p,q\n",
        "    suma = np.sum(producto, (2,3))\n",
        "\n",
        "    # Escalar la matriz por los deltas\n",
        "    DFT = suma * escalador\n",
        "\n",
        "    return DFT\n",
        "\n",
        "def fun_metodo_DFT(campo, delta_array, ift, metodo):\n",
        "    '''\n",
        "    fun_metodo_DFT es una función que calcula DFT o iDFT por el método de numpy o los programados en este código.\n",
        "\n",
        "    Variables de entrada\n",
        "     - campo: (np.ndarray) ; campo al que se le calculará DFT\n",
        "     - delta_array: (np.ndarray 1x2) ; arreglo que contiene los deltas o tamaños de pixeles dx y dy\n",
        "     - ift: (bool) ; Si True, calcula la iDFT, si False calcula DFT\n",
        "     - metodo: (int) ; Puede tomar los valores:\n",
        "                        0 para calcular DFT con la función de numpy np.fft.fftn\n",
        "                        1 para calcular DFT con la función fun_DFT\n",
        "                        2 para calcular DFT con la función fun_DFT2\n",
        "                        3 para calcular DFT con la función fun_DFT_poderosa\n",
        "    \n",
        "    Variables de salida\n",
        "     - DFT_campo (np.ndarray) ; DFT (o iDFT) del campo de entrada\n",
        "\n",
        "    '''\n",
        "\n",
        "    if ift == True:\n",
        "        escalador = 1/(dx*dy)\n",
        "    else:\n",
        "        escalador = dx*dy\n",
        "\n",
        "    # Por defecto corre la de numpy FFT\n",
        "    if metodo == 0:    \n",
        "        DFT_campo = (np.fft.fftn(campo))*escalador\n",
        "    # Estos métodos son los programados de DFT, se utilizan solo para comprobar la velocidad de DFT Vs FFT, cada uno es más óptimo \n",
        "    # que el anterior, pero a su vez más costoso, probarlo máximo con imágenes de 128x128\n",
        "    elif metodo == 1:\n",
        "        DFT_campo = fun_DFT(campo, delta_array, ift )\n",
        "    elif metodo == 2:\n",
        "        DFT_campo = fun_DFT2(campo, delta_array, ift )\n",
        "    elif metodo == 3:\n",
        "        DFT_campo = fun_DFT_poderosa(campo, delta_array, ift)\n",
        "    \n",
        "    return DFT_campo\n"
      ]
    },
    {
      "cell_type": "markdown",
      "metadata": {},
      "source": [
        "### Probar DFT"
      ]
    },
    {
      "cell_type": "code",
      "execution_count": 5,
      "metadata": {},
      "outputs": [
        {
          "name": "stdout",
          "output_type": "stream",
          "text": [
            "32\n"
          ]
        }
      ],
      "source": [
        "# Crear imagen a sacar DFT de 64x 64\n",
        "mask2 = np.zeros((64,64), dtype = \"uint8\")\n",
        "coord_prev = np.shape(mask2)\n",
        "coord = int(coord_prev[0]/2)\n",
        "print (coord)\n",
        "cv2.circle(mask2, (coord, coord), 5, 1, -1)\n",
        "plt.imshow(mask2)\n",
        "plt.colorbar()\n",
        "plt.show()"
      ]
    },
    {
      "cell_type": "markdown",
      "metadata": {},
      "source": [
        "Figarse en los tiempos de cada uno"
      ]
    },
    {
      "cell_type": "code",
      "execution_count": 7,
      "metadata": {},
      "outputs": [],
      "source": [
        "np.fft.fftn(mask2);"
      ]
    },
    {
      "cell_type": "code",
      "execution_count": 43,
      "metadata": {},
      "outputs": [],
      "source": [
        "fun_DFT(mask2, np.array([1,1]));"
      ]
    },
    {
      "cell_type": "code",
      "execution_count": 44,
      "metadata": {},
      "outputs": [],
      "source": [
        "fun_DFT2(mask2, np.array([1,1]));"
      ]
    },
    {
      "cell_type": "code",
      "execution_count": 8,
      "metadata": {},
      "outputs": [],
      "source": [
        "fun_DFT_poderosa(mask2, np.array([1,1]));"
      ]
    },
    {
      "cell_type": "markdown",
      "metadata": {
        "id": "Mbwv3XnmB5Xi"
      },
      "source": [
        "# Punto 1\n",
        "\n",
        "Implemente numéricamente, en Python o MATLAB, los métodos de difracción escalar de Transformadad de Fresnel y Espectro Angular en sus formas de sumatorias discretas (DFT), y en la forma basada en transformadas rápidas de Fourier (FFT). Compare el desempeño de ambos métodos en términos del tiempo necesario para realizar el cómputo de un mismo experimento difractivo de su elección. ¿La mejora de desempe o coincide con sus expectativas?"
      ]
    },
    {
      "cell_type": "markdown",
      "metadata": {
        "id": "AcV2Y0ecB5Xk"
      },
      "source": [
        "## Implementación computacional de Difracción por Transformada de Fresnel"
      ]
    },
    {
      "cell_type": "code",
      "execution_count": 115,
      "metadata": {
        "id": "5W0lSWDVCD1J"
      },
      "outputs": [],
      "source": [
        "def Fresnel (campo, w_length, z, dx, dy, metodo = 0):\n",
        "    '''\n",
        "    Fresnel es una función que calcula la propagación por medio de la implementación computacional de transformada de Fresnel\n",
        "\n",
        "    Variables de entrada\n",
        "     - campo: campo: (np.ndarray) ; campo al que se le calculará DFT\n",
        "     - w_length: (float) ; longitud de onda\n",
        "     - z: (float) ; distancia de propagación\n",
        "     - dx: (int) ; delta de discretización en x del espacio o largo del pixel\n",
        "     - dy: (int) ; delta de discretización en y del espacio o alto del pixel\n",
        "     - metodo: (int) ; Puede tomar los valores:\n",
        "                        0 para calcular DFT por FFT (o iFFT) con la función de numpy np.fft.fftn (valor por defecto)\n",
        "                        1 para calcular DFT con la función fun_DFT\n",
        "                        2 para calcular DFT con la función fun_DFT2\n",
        "                        3 para calcular DFT con la función fun_DFT_poderosa\n",
        "\n",
        "    Variables de salida\n",
        "     - prop: (np.ndarray) ; campo propagado a la distancia z por medio de transformada de Fresnel computacional\n",
        "\n",
        "    '''\n",
        "    # Vector de onda\n",
        "    k_vect = 2*np.pi/w_length\n",
        "\n",
        "\n",
        "    # Definir espacio coordenado\n",
        "    N,M = np.shape(campo)\n",
        "    x = np.arange(-int(M/2), int(M/2), 1)\n",
        "    y = np.arange(-int(N/2), int(N/2), 1)\n",
        "    X,Y = np.meshgrid(x,y)\n",
        "\n",
        "    # Calcular  el espacio de discretización del campo de entrada\n",
        "    dx_0 = X * (w_length * z)/(dx * N)\n",
        "    dy_0 = Y * (w_length * z)/(dy * M) \n",
        "\n",
        "    # Definir fases esfericas\n",
        "    C1 = np.exp((1j*k_vect/2*z) * ( dx_0**2 + dy_0**2))\n",
        "    C2 = np.exp((1j*k_vect/z) * (N * dx_0 + M * dy_0))\n",
        "\n",
        "    # 2. Preparar U'\n",
        "    U_p = campo * C1\n",
        "\n",
        "    # 3. DFT// de U' para obtener U'' en una distancia de propagacion z\n",
        "    U_2p = np.fft.fftshift(fun_metodo_DFT(U_p, np.array([dx,dy]), False, metodo) )\n",
        "\n",
        "    # 4. Escalar U\n",
        "    prop = U_2p * C2\n",
        "\n",
        "    return prop"
      ]
    },
    {
      "cell_type": "markdown",
      "metadata": {
        "id": "w_TwwEpqCjHm"
      },
      "source": [
        "## Implementación computacional de Difracción por Espectro Angular"
      ]
    },
    {
      "cell_type": "code",
      "execution_count": 116,
      "metadata": {
        "id": "os6-iu6WChuS"
      },
      "outputs": [],
      "source": [
        "def EspectroAngular (campo, w_length, z, dx, dy, metodo = 0):\n",
        "    '''\n",
        "    EspectroAngular es una función que calcula la propagación por medio de la implementación computacional de Espectro Angular\n",
        "\n",
        "    Variables de entrada\n",
        "     - campo: campo: (np.ndarray) ; campo al que se le calculará DFT\n",
        "     - w_length: (float) ; longitud de onda\n",
        "     - z: (float) ; distancia de propagación\n",
        "     - dx: (int) ; delta de discretización en x del espacio o largo del pixel\n",
        "     - dy: (int) ; delta de discretización en y del espacio o alto del pixel\n",
        "     - metodo: (int) ; Puede tomar los valores:\n",
        "                        0 para calcular DFT por FFT (o iFFT) con la función de numpy np.fft.fftn (valor por defecto)\n",
        "                        1 para calcular DFT con la función fun_DFT\n",
        "                        2 para calcular DFT con la función fun_DFT2\n",
        "                        3 para calcular DFT con la función fun_DFT_poderosa\n",
        "\n",
        "    Variables de salida\n",
        "     - Uprop: (np.ndarray) ; campo propagado a la distancia z por medio de Espectro Angular computacional\n",
        "\n",
        "    '''\n",
        "  # Vector de onda\n",
        "    k_vect = 2*np.pi/w_length\n",
        "\n",
        "    #Definamos el espacio coordenado\n",
        "    N,M = np.shape(campo)\n",
        "    x = np.arange(-int(M/2), int(M/2), 1)\n",
        "    y = np.arange(-int(N/2), int(N/2), 1)\n",
        "    X,Y = np.meshgrid(x,y)\n",
        "\n",
        "    # Calcular el tamaño de discretización del espacio de las frecuencias \n",
        "    fX = X * (1 / (M*dx))\n",
        "    fY = Y * (1 / (N*dy))\n",
        "\n",
        "    # 2. Calculamos el espectro angular discreto A[p,q,0] utilizando FFT.\n",
        "    A0 = fun_metodo_DFT(campo, np.array([dx,dy]), False, metodo)\n",
        "\n",
        "    # definimos las fases esféricas \n",
        "    C1 = np.exp((1j*k_vect*z) * np.sqrt(1 - (w_length**2)*((fX**2) + (fY**2))))\n",
        "\n",
        "    # 3. Aplicamos la función de transferencia \n",
        "    Az = A0 * C1\n",
        "\n",
        "    # 4. Calculamos el campo propagado U[n,m,z] como la IFFT del espectro angular propagado y reordenamos\n",
        "    Uprop = fun_metodo_DFT(Az, np.array([dx,dy]), True, metodo)\n",
        "\n",
        "\n",
        "    return Uprop"
      ]
    },
    {
      "cell_type": "markdown",
      "metadata": {
        "id": "aTKjEN9zCyLi"
      },
      "source": [
        "## Prueba de Transformada de Fresnel usando una abertura circular y comparación FFT con DFT en imagen 128x128"
      ]
    },
    {
      "cell_type": "code",
      "execution_count": 151,
      "metadata": {
        "colab": {
          "base_uri": "https://localhost:8080/",
          "height": 287
        },
        "id": "-Cp5KAxdCpGR",
        "outputId": "c33dee86-d087-4fe7-c4d4-951d0bb2e311"
      },
      "outputs": [
        {
          "name": "stdout",
          "output_type": "stream",
          "text": [
            "64\n"
          ]
        }
      ],
      "source": [
        "# Creación de Abertura circular\n",
        "mask = np.zeros((128,128), dtype = \"uint8\")\n",
        "coord_prev = np.shape(mask)\n",
        "coord = int(coord_prev[0]/2)\n",
        "print (coord)\n",
        "cv2.circle(mask, (coord, coord), 3, 1, -1)\n",
        "plt.imshow(mask)\n",
        "plt.colorbar()\n",
        "plt.show()"
      ]
    },
    {
      "cell_type": "markdown",
      "metadata": {},
      "source": [
        "### Fresnel, FFT"
      ]
    },
    {
      "cell_type": "code",
      "execution_count": 170,
      "metadata": {
        "colab": {
          "base_uri": "https://localhost:8080/",
          "height": 295
        },
        "id": "CkmnWcupC434",
        "outputId": "540f2054-fb69-4098-d2e3-9ecdd46614fb"
      },
      "outputs": [
        {
          "data": {
            "text/plain": [
              "(128, 128)"
            ]
          },
          "execution_count": 170,
          "metadata": {},
          "output_type": "execute_result"
        }
      ],
      "source": [
        "# Propagación por Transformada de Fresnel por FFT\n",
        "propFresnelC = Fresnel(mask, w_length, 10*um, dx, dy, 0 )\n",
        "fun_ploteo_complejo(propFresnelC, \"I\", 1)\n",
        "np.shape(propFresnelC)"
      ]
    },
    {
      "cell_type": "markdown",
      "metadata": {},
      "source": [
        "### Fresnel, DFT"
      ]
    },
    {
      "cell_type": "code",
      "execution_count": 129,
      "metadata": {},
      "outputs": [
        {
          "data": {
            "text/plain": [
              "(128, 128)"
            ]
          },
          "execution_count": 129,
          "metadata": {},
          "output_type": "execute_result"
        }
      ],
      "source": [
        "# Propagación por Transformada de Fresnel por DFT con la función fun_DFT_poderosa\n",
        "# Nota 1: para el tamaño 128x128 en el computador de los desarrolladores tarda aprox 30 segundos\n",
        "# Nota 2: puede intentar las otras funciones de DFT pero se advierte su lentitud\n",
        "propFresnelC = Fresnel(mask, w_length, 20*mm, dx, dy, 3 )\n",
        "fun_ploteo_complejo(propFresnelC, \"I\", 0)\n",
        "np.shape(propFresnelC)"
      ]
    },
    {
      "cell_type": "markdown",
      "metadata": {
        "id": "QfW7JgA-DNrx"
      },
      "source": [
        "## Prueba de Espectro Angular usando una abertura circular y comparación FFT con DFT en imagen 128x128"
      ]
    },
    {
      "cell_type": "markdown",
      "metadata": {},
      "source": [
        "### FFT"
      ]
    },
    {
      "cell_type": "code",
      "execution_count": 137,
      "metadata": {
        "colab": {
          "base_uri": "https://localhost:8080/",
          "height": 287
        },
        "id": "ZcSnCLikC_mv",
        "outputId": "4d59dcbb-960b-4ef0-fea2-86c42457f1b5"
      },
      "outputs": [
        {
          "data": {
            "text/plain": [
              "(128, 128)"
            ]
          },
          "execution_count": 137,
          "metadata": {},
          "output_type": "execute_result"
        }
      ],
      "source": [
        "# Propagación por Espectro Angular por FFT\n",
        "propASC = EspectroAngular(mask, w_length, 0.4*um, dx, dy, 0)\n",
        "fun_ploteo_complejo(propASC, \"I\", 1)\n",
        "np.shape(propASC)\n"
      ]
    },
    {
      "cell_type": "markdown",
      "metadata": {},
      "source": [
        "### DFT"
      ]
    },
    {
      "cell_type": "code",
      "execution_count": 16,
      "metadata": {},
      "outputs": [
        {
          "data": {
            "text/plain": [
              "(128, 128)"
            ]
          },
          "execution_count": 16,
          "metadata": {},
          "output_type": "execute_result"
        }
      ],
      "source": [
        "# Propagación por Transformada de Fresnel por DFT con la función fun_DFT_poderosa\n",
        "# Nota 1: para el tamaño 128x128 en el computador de los desarrolladores tarda aprox 55 segundos\n",
        "# Nota 2: puede intentar las otras funciones de DFT pero se advierte su lentitud\n",
        "propASC = EspectroAngular(mask, w_length, 0.4*um, dx, dy, 3)\n",
        "fun_ploteo_complejo(propASC, \"I\", 1)\n",
        "np.shape(propASC)"
      ]
    },
    {
      "cell_type": "markdown",
      "metadata": {},
      "source": [
        "Una vez comparado los algoritmos de DFT y FFT, se prosigue únicamente con FFT"
      ]
    },
    {
      "cell_type": "markdown",
      "metadata": {},
      "source": [
        "## Prueba de Transformada de Fresnel usando un obstáculo circular de 1024x1024"
      ]
    },
    {
      "cell_type": "code",
      "execution_count": 138,
      "metadata": {},
      "outputs": [
        {
          "name": "stdout",
          "output_type": "stream",
          "text": [
            "512\n"
          ]
        }
      ],
      "source": [
        "# Creación de obstáculo circular\n",
        "mask2 = np.ones((1024,1024), dtype = \"uint8\")\n",
        "coord_prev = np.shape(mask2)\n",
        "coord = int(coord_prev[0]/2)\n",
        "print (coord)\n",
        "cv2.circle(mask2, (coord, coord), 30, 0, -1)\n",
        "plt.imshow(mask2)\n",
        "plt.colorbar()\n",
        "plt.show()"
      ]
    },
    {
      "cell_type": "code",
      "execution_count": 139,
      "metadata": {},
      "outputs": [
        {
          "data": {
            "text/plain": [
              "(1024, 1024)"
            ]
          },
          "execution_count": 139,
          "metadata": {},
          "output_type": "execute_result"
        }
      ],
      "source": [
        "# Propagación por Transformada de Fresnel por FFT\n",
        "propFresnelC = Fresnel(mask2, w_length, 100*um, dx, dy, 0 )\n",
        "fun_ploteo_complejo(propFresnelC, \"I\", 0)\n",
        "np.shape(propFresnelC)"
      ]
    },
    {
      "cell_type": "markdown",
      "metadata": {},
      "source": [
        "# Revisar este"
      ]
    },
    {
      "cell_type": "markdown",
      "metadata": {},
      "source": [
        "## Prueba de Espectro Angular usando un obstáculo circular de 1024x1024"
      ]
    },
    {
      "cell_type": "code",
      "execution_count": 103,
      "metadata": {},
      "outputs": [
        {
          "data": {
            "text/plain": [
              "(1024, 1024)"
            ]
          },
          "execution_count": 103,
          "metadata": {},
          "output_type": "execute_result"
        }
      ],
      "source": [
        "# Propagación por Espectro Angular por FFT\n",
        "propASC = EspectroAngular(mask2, w_length, 2*um, dx, dy, 0)\n",
        "fun_ploteo_complejo(propASC, \"I\", 1)\n",
        "np.shape(propASC)"
      ]
    },
    {
      "cell_type": "markdown",
      "metadata": {
        "id": "FkEogPPTDlv_"
      },
      "source": [
        "## Prueba de Transformada de Fresnel usando una abertura rectangular de 512x12"
      ]
    },
    {
      "cell_type": "code",
      "execution_count": 78,
      "metadata": {
        "colab": {
          "base_uri": "https://localhost:8080/",
          "height": 269
        },
        "id": "QQwPb_O3DPto",
        "outputId": "42ce98d6-2d97-4616-be22-e914dd257967"
      },
      "outputs": [],
      "source": [
        "# Crear una apertura rectangular\n",
        "mask3 = np.zeros((1024,1024), np.uint8)\n",
        "cv2.rectangle(mask3, (512,512), (500,500),10, -1)\n",
        "plt.figure()\n",
        "plt.imshow(mask3)\n",
        "plt.colorbar()\n",
        "plt.show()"
      ]
    },
    {
      "cell_type": "code",
      "execution_count": 111,
      "metadata": {
        "colab": {
          "base_uri": "https://localhost:8080/",
          "height": 269
        },
        "id": "3zEz3WEKD1v5",
        "outputId": "1c370486-df1f-48fe-9684-741e237b097e"
      },
      "outputs": [],
      "source": [
        "# Propagación por Transformada de Fresnel\n",
        "propFresnelR = Fresnel(mask3, w_length, 100*mm, dx, dy)\n",
        "fun_ploteo_complejo(propFresnelR, \"I\", 1)"
      ]
    },
    {
      "cell_type": "markdown",
      "metadata": {
        "id": "qxl-PfQ8D7Lc"
      },
      "source": [
        "## Prueba de Espectro Angular usando una abertura rectangular de 512x512"
      ]
    },
    {
      "cell_type": "code",
      "execution_count": 112,
      "metadata": {
        "colab": {
          "base_uri": "https://localhost:8080/",
          "height": 269
        },
        "id": "t5lDfPlaDnVJ",
        "outputId": "1b47083f-208f-40a7-a39a-27c5d55a8cd1"
      },
      "outputs": [],
      "source": [
        "# Propagación por Espectro Angular\n",
        "propASR = EspectroAngular(mask3, w_length, 0.4*um, dx, dy)\n",
        "fun_ploteo_complejo(propASR, \"I\", 0)"
      ]
    }
  ],
  "metadata": {
    "colab": {
      "name": "Codigo_Entrega_02.ipynb",
      "provenance": []
    },
    "interpreter": {
      "hash": "ac59ebe37160ed0dfa835113d9b8498d9f09ceb179beaac4002f036b9467c963"
    },
    "kernelspec": {
      "display_name": "Python 3.9.7 64-bit",
      "language": "python",
      "name": "python3"
    },
    "language_info": {
      "codemirror_mode": {
        "name": "ipython",
        "version": 3
      },
      "file_extension": ".py",
      "mimetype": "text/x-python",
      "name": "python",
      "nbconvert_exporter": "python",
      "pygments_lexer": "ipython3",
      "version": "3.9.7"
    },
    "orig_nbformat": 4
  },
  "nbformat": 4,
  "nbformat_minor": 0
}
