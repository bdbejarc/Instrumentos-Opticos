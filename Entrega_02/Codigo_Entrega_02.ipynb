{
  "cells": [
    {
      "cell_type": "code",
      "execution_count": 1,
      "metadata": {
        "id": "Nq6tEhNcB5Wo"
      },
      "outputs": [],
      "source": [
        "# Importar librerías\n",
        "\n",
        "import pandas as pd\n",
        "import matplotlib as mlt\n",
        "import numpy as np\n",
        "import matplotlib.pyplot as plt\n",
        "import cv2\n",
        "import PyQt5 # si se trabaja en local, para que #matplolib qt corra"
      ]
    },
    {
      "cell_type": "code",
      "execution_count": 133,
      "metadata": {
        "id": "uR5XMR7TB5W0"
      },
      "outputs": [],
      "source": [
        "# Para que las gráficas se impriman no en el notebook, sino en una nueva pestaña\n",
        "%matplotlib qt"
      ]
    },
    {
      "cell_type": "markdown",
      "metadata": {
        "id": "XLGYuJFrB5W3"
      },
      "source": [
        "# Crear la Matrix y dar realidad física a la simulación"
      ]
    },
    {
      "cell_type": "code",
      "execution_count": 3,
      "metadata": {
        "id": "2U16-t2HB5W8"
      },
      "outputs": [],
      "source": [
        "# Coordenadas de mundo\n",
        "nm = 1e-9\n",
        "um = 1e-6\n",
        "mm = 1e-3\n",
        "cm = 1e-2\n",
        "\n",
        "# Longitud de onda\n",
        "w_length = 650*nm\n",
        "\n",
        "\n",
        "# # Solo por operación definimos N y M de una imagen 2048 x 2048\n",
        "# N = 2048 # coordenada X\n",
        "# M = 2048 # coordenada Y\n",
        "\n",
        "\n",
        "# Diferenciales, como N y M pendientes por definir para una imagen\n",
        "dx = dy = 1*um # los diferenciales (tamaño de pixel)"
      ]
    },
    {
      "cell_type": "markdown",
      "metadata": {
        "id": "4GLZRBa7B5XI"
      },
      "source": [
        "# Definamos algunas funciones de interés"
      ]
    },
    {
      "cell_type": "code",
      "execution_count": 34,
      "metadata": {
        "id": "XR3wNIMVB5XK"
      },
      "outputs": [],
      "source": [
        "# Función para graficar complejos\n",
        "def fun_ploteo_complejo(mat, indicador, escala, mapa_color = 'gray'):\n",
        "    \"\"\"\n",
        "    mat  es una matriz compleja a plotear\n",
        "    indicador = I para intensidad, A para amplitud, P para fase\n",
        "    escala = 1 para nada, 0 para logarítmica\n",
        "    \"\"\"\n",
        "\n",
        "    if(indicador ==\"I\"):\n",
        "        mat = np.abs(mat)**2\n",
        "    elif(indicador == \"A\"):\n",
        "        mat = np.abs(mat)\n",
        "    elif(indicador == \"P\"):\n",
        "        mat = np.angle(mat)\n",
        "\n",
        "    if (escala == 1):\n",
        "        plt.figure()\n",
        "        plt.imshow(mat, cmap = mapa_color)\n",
        "        plt.colorbar()\n",
        "        plt.show()\n",
        "    else:    \n",
        "        plt.figure()\n",
        "        plt.imshow( np.log( mat + 0.000000001), cmap = mapa_color)\n",
        "        plt.colorbar()\n",
        "        plt.show()\n",
        "\n",
        "#----------------------------------------------------------------------------------------------------------------\n",
        "# Función que convierte campos de 3 canales a un solo canal \n",
        "def fun_monocromador(campo_colorado, canal = 0):\n",
        "    '''\n",
        "    fun_monocromador es una función que extrae los datos de un solo canal de un campo, se puede entender\n",
        "    como si un campo se compone de diferentes frecuencias, seleccionar solo los valores de esa frecuencia en \n",
        "    en particular que conforman el campo. \n",
        "    \n",
        "    Esta función acepta solo campos con más de un solo canal, si mete de 1 canal, saldrán datos incorrectos\n",
        "\n",
        "    Variables de entrada\n",
        "     - campo_colorado: (numpy.ndarray) ; es el campo al cual se filtrará solo los componentes de una frecuencia que\n",
        "                                         lo consituyen, tiene dimensiones L_x,L_y,canales\n",
        "     - canal: (int) ; es el índice de los datos correspondientes a la frecuencia que se desea seleccionar  \n",
        "                      por ejemplo una imagen RGB tiene las frecuencias de rojo en canal = 0, verde en canal = 1,\n",
        "                      y azul en canal = 2.\n",
        "                      Por defecto se escoge el canal 0     \n",
        "                                                  \n",
        "    '''\n",
        "\n",
        "    campo_monocromático = campo_colorado[:,:,canal] #Tomar todas las filas y columnas, pero solo los valores del canal\n",
        "                                                    # de interés\n",
        "\n",
        "    return (campo_monocromático)\n",
        "\n",
        "#----------------------------------------------------------------------------------------------------------------\n",
        "# Función para \"Pading\"\n",
        "def fun_pad(campo):\n",
        "    '''\n",
        "    fun_pad es una función que \"padea\" un campo (imagen) 2D con ceros tal que duplica su longitud y altura\n",
        "\n",
        "    Solo recibe imágenes de 1 canal\n",
        "\n",
        "    Variables de entrada:\n",
        "     - campo: (numpy.ndarray) ; es el campo a padear de L_x y L_y dimensiones físicas reales\n",
        "\n",
        "    Variables de salida:\n",
        "     - campo_paded: (numpy.ndarray) ; es el campo padeado con ceros de dimensiones 2*L_x y 2*L_y \n",
        "    '''\n",
        "    # extraer las dimensiones del pad\n",
        "    dimension_pad = np.array( [np.shape(campo)[0] , np.shape(campo)[1] ] ) / 2\n",
        "\n",
        "    # padear el campo con ceros\n",
        "    campo_paded = np.pad(campo, ( (int(dimension_pad[0]), int(dimension_pad[0]) ), (int(dimension_pad[1]), int(dimension_pad[1])) ), mode = 'constant', constant_values = (0,0) )\n",
        "\n",
        "    return (campo_paded)\n",
        "\n",
        "#----------------------------------------------------------------------------------------------------------------\n",
        "# Función extractora de características de un campo (imagen) 2D\n",
        "\n",
        "# Nota: Función por depurar y mejorar,, no está terminada, saltarla\n",
        "def fun_extractor(campo, L_x, L_y, dx, dy):\n",
        "    '''\n",
        "    fun_extractor es una función que extrae las características de interés de un campo (imagen) 2D\n",
        "    que puede ser de 1 o  3 canales de tamaño con dimensiones físicas reales L_x * L_y que fue medida\n",
        "    con pixeles de tamaño dx,dy \n",
        "\n",
        "    Variables de entrada:\n",
        "    - campo: (numpy.ndarray) ; Es la imagen que vamos a difractar\n",
        "    - L_x: (int) ; Dimension x del campo\n",
        "    - L_y: (int) ; Dimension y del campo\n",
        "    - dx: (int) ; Dimension x del pixel\n",
        "    - dy: (int) ; Dimension y del pixel\n",
        "\n",
        "    Variables de salida:\n",
        "    - campo_data: (numpy.ndarray) ; Arreglo 2x2, su primer elemento tiene el número de muestras en x y en y\n",
        "                                  el segundo tiene los deltas en x y en y.\n",
        "\n",
        "    '''\n",
        "    # Tamaño de la muestra\n",
        "    N_x = int(L_x/dx)\n",
        "    N_y = int(L_y/dy)\n",
        "\n",
        "\n",
        "    campo_data =np.array( [N_x, N_y] )\n",
        "\n",
        "    return(campo_data)\n",
        "\n",
        "\n",
        "#----------------------------------------------------------------------------------------------------------------\n",
        "# Función calculadora del z crítico\n",
        "def fun_z_c(M, dx, w_length):\n",
        "    '''\n",
        "    fun_z_c es una función que calcula el la distancia de propagación crítica (z crítico) donde los métodos\n",
        "    de propagación AS y Fresnel funcionan, dados un campo, tamaño de discretización y longitu de onda\n",
        "    \n",
        "    Variables de entrada\n",
        "     - M: int ; número de muestreos\n",
        "     - dx: float ; tamaño de discretización (tamaño del pixel)\n",
        "     - w_lenght: float ; longitud de onda\n",
        "\n",
        "    Variables de salida\n",
        "     - z_c: float ; z crítico\n",
        "    '''\n",
        "    z_c = M*dx**2/w_length\n",
        "\n",
        "    return z_c\n",
        "#----------------------------------------------------------------------------------------------------------------\n",
        "# Función para crear máscaras cuadradas y circulares centradas en la imagen\n",
        "def fun_mask(dim, L_R, tipo = 1, forma ='circ'):\n",
        "    '''\n",
        "    fun_mask es una función que crea y grafica máscaras ciruclares o cuadradas centradas en la imagen\n",
        "    Variables de entrada\n",
        "     - dim: int ; dimensión del campo\n",
        "     - L_R: int ; tamaño de la máscara (radio o longitud)\n",
        "     - tipo: int ; 0 para un obstaculo\n",
        "                 ; 1 para una apertura\n",
        "     - forma: str ; 'cir' para circulos\n",
        "                    'rect' para cuadrados\n",
        "\n",
        "    Variables de salida\n",
        "     - mascara: matriz de dimensiones  dim x dim con una mascara \n",
        "    '''\n",
        "\n",
        "    if tipo == 0:\n",
        "        mascara = np.ones(np.array([dim,dim]), dtype = \"uint8\") # uint8 tipo de la variable de la matriz (enteros de 8 bit)\n",
        "    else:\n",
        "        mascara = np.zeros(np.array([dim,dim]), dtype = \"uint8\") # uint8 tipo de la variable de la matriz (enteros de 8 bit)\n",
        "\n",
        "    # Como mi imagen no es cuadrada, entonces necesito dos coordenadas\n",
        "    # para el centro\n",
        "    centro1 = int(mascara.shape[0]/2)\n",
        "    centro2 = int(mascara.shape[1]/2)\n",
        "\n",
        "    if forma == 'circ':\n",
        "        #Graficar la máscara circular \n",
        "        cv2.circle(mascara, (centro1, centro2), L_R, tipo, -1)\n",
        "        plt.figure()\n",
        "        plt.imshow(mascara)\n",
        "        plt.colorbar() # Para mostrar barra de colores\n",
        "        plt.show()\n",
        "\n",
        "    elif forma == 'rect':\n",
        "        inicio = (int(centro1-L_R/2),int(centro2-L_R/2))\n",
        "        fin = (int(centro1+L_R/2),int(centro2+L_R/2))\n",
        "        cv2.rectangle(mascara, inicio, fin,  tipo, -1)\n",
        "        plt.figure()\n",
        "        plt.imshow(mascara)\n",
        "        plt.colorbar() # Para mostrar barra de colores\n",
        "        plt.show()\n",
        "    \n",
        "    return mascara\n",
        "\n",
        "#----------------------------------------------------------------------------------------------------------------\n",
        "\n",
        "   # Función del kernel de una transformada discreta de Fourier y su inversa exp(+-(1j/(2pi))*(n*p/N_x + m*q*N_y))\n",
        "def fun_fourker( cont_n_m, cont_p_q, N_array, ift = False ):\n",
        "    '''\n",
        "    Función  fun_fourker: es una función que calcula la exponencial exp(+-(1j/(2pi*N))*(p*n + q*m)) siendo el signo\n",
        "    + para la transformada invera y - para la transformada normal\n",
        "     \n",
        "    Nota: 1j lo utilizamos para representar el complejo i\n",
        "\n",
        "    Variables de entrada:\n",
        "    - cont_n_m: (np.ndarray 1x2) ; arreglo que contiene los contadores n y m del espacio real (x,y)\n",
        "    - cont_p_q: (np.ndarray 1x2) ; arreglo que contiene los contadores p y q del espacio recíprocro (fx,fy)\n",
        "    - N_array: (np.ndarray 1x2) ; arreglo que contiene el número de las muestras N_x en x y N_y en y\n",
        "    - ift: (bool) ; indica si se está calculando transformada o su inversa, por defecto es False\n",
        "        \n",
        "    Variables de salida:\n",
        "    - fourker: (complex) ; valor exponencial evaluada con las variables de entrada\n",
        "\n",
        "    '''\n",
        "        #descomprimir\n",
        "    n = cont_n_m[0]\n",
        "    m = cont_n_m[1]\n",
        "\n",
        "    p = cont_p_q[0]\n",
        "    q = cont_p_q[1]\n",
        "\n",
        "    N_x = N_array[0]\n",
        "    N_y = N_array[1]\n",
        "\n",
        "        \n",
        "    if(ift == False):\n",
        "        fourker = np.exp(-(2j*np.pi * (n*p/N_x + m*q/N_y) ) )\n",
        "    else:\n",
        "        fourker = np.exp( (2j*np.pi * (n*p/N_x + m*q/N_y) ) )\n",
        "            \n",
        "    return fourker\n",
        "#----------------------------------------------------------------------------------------------------------------\n",
        "# Función que calcua la transformada discreta de un campo ya sea real o reciproco\n",
        "\n",
        "def fun_DFT(campo, delta_array, ift = False):\n",
        "    '''\n",
        "    fun_DFT es una función que calcula la Transformada de Fourier Discreta (DFT) o inversa (iDFT) de un campo sin \n",
        "    tener en cuenta los deltas, por medio de el uso de ciclos for.\n",
        "\n",
        "    Variables de entrada:\n",
        "     - campo: (numpy.ndarray) ; campo (arreglo matricial) al cual campo de que se calculará la DFT o iDFT\n",
        "     - delta_array: (np.ndarray 1x2) ; arreglo que contiene los deltas o tamaños de pixeles dx y dy\n",
        "     - ift: (bool) ; Si True, calcula la iDFT, si False calcula DFT\n",
        "\n",
        "    Variables de salida:\n",
        "     - campo_transformado: (numpy.ndarray) ; matriz de igual dimensiones que campo que contiene los valores de \n",
        "                                             la DFT o iDFT \n",
        "    '''\n",
        "\n",
        "    # Crear arreglo lleno de ceros de mismas dimensiones que campo donde guardaré la información de la transformada\n",
        "    campo_transformado = np.zeros(np.shape(campo), dtype = complex)\n",
        "\n",
        "    # Dimensiones de campo para contadores\n",
        "    N_x, N_y = np.shape(campo)\n",
        "\n",
        "    N_array = np.array([N_x,N_y])\n",
        "\n",
        "    # Extraer deltas\n",
        "    dx, dy = delta_array\n",
        "\n",
        "    L_x = dx*N_x\n",
        "    L_y = dy*N_y\n",
        "    \n",
        "\n",
        "\n",
        "    # variable de escalada si se hace DFT o iDFT\n",
        "    if(ift == False):\n",
        "        escalador = dx*dy\n",
        "    else:\n",
        "       escalador = 1/(L_x*L_y)\n",
        "\n",
        "    # definir una variable que alberge el valor de las sumas\n",
        "    suma = 0\n",
        "\n",
        "    # DFT\n",
        "    for p in np.arange(N_x):\n",
        "        for q in np.arange(N_y):\n",
        "\n",
        "            for n in np.arange(N_x):\n",
        "                for m in np.arange(N_y):\n",
        "\n",
        "                    cont_n_m = np.array([n,m])\n",
        "                    cont_p_q = np.array([p,q])\n",
        "\n",
        "                    suma += campo[n,m] * fun_fourker(cont_n_m, cont_p_q, N_array, ift)\n",
        " \n",
        "            \n",
        "            #Guardar el dato de la transformada para una frecuencia p,q\n",
        "            campo_transformado[p,q] = suma\n",
        "\n",
        "            # Reiniciar el sumador para calcular otra frecuencia p,q\n",
        "            suma = 0\n",
        "    \n",
        "    # escalar el campo\n",
        "    campo_transformado = campo_transformado * escalador\n",
        "\n",
        "    return campo_transformado\n",
        "\n",
        "    \n",
        "#----------------------------------------------------------------------------------------------------------------\n",
        "\n",
        "def fun_DFT2(campo, delta_array, ift = False):\n",
        "    '''\n",
        "    fun_DFT2 es otra función que hace DFT, las variables de entrada y salida son los mismos que fun_DFT\n",
        "    Esta función calcula por medio de funciones map() nativas de python.\n",
        "    '''\n",
        "\n",
        "   # Dimensiones de campo para contadores\n",
        "    N_x, N_y = np.shape(campo)\n",
        "\n",
        "    N_array = np.array([N_x,N_y])\n",
        "\n",
        "    # Extraer deltas\n",
        "    dx, dy = delta_array\n",
        "\n",
        "    L_x = dx*N_x\n",
        "    L_y = dy*N_y\n",
        "\n",
        "    # variable de escalada si se hace DFT o iDFT\n",
        "    if(ift == False):\n",
        "        escalador = dx*dy\n",
        "    else:\n",
        "        escalador = 1/(L_x*L_y)\n",
        "\n",
        "    # Crear una matriz de N_x filas con N_y columnas donde cada elemento de la matriz es un arreglo 1x2 donde el primer\n",
        "    # valor es el número de la fila y el segundo es el número de la columna\n",
        "\n",
        "    # ejemplo siendo\n",
        "    #  _                       _\n",
        "    # | [0,0]    [0,1]    [0,2] |\n",
        "    # | [1,0]    [1,1]    [1,2] |\n",
        "    # | [2,0]    [2,1]    [2,2] |\n",
        "    #  -                       -\n",
        "    # la dimension es (N_x, N_y, 2)\n",
        "    matriz_indexada = np.indices((N_x, N_y, 1))\n",
        "    matriz_indexada = np.concatenate((matriz_indexada[0], matriz_indexada[1]), axis=2)\n",
        "\n",
        "    def funcion_g(cont_n_m, cont_p_q, N_array, campo, ift):\n",
        "        multiplicador = campo[tuple(cont_n_m)]*fun_fourker(cont_n_m, cont_p_q, N_array, ift)\n",
        "        return multiplicador\n",
        "\n",
        "    def funcion_f(cont_p_q,  N_array, campo, ift):\n",
        "        punto_transformado = np.sum( np.array(list(map(lambda filas_n_m: np.array(list(map(lambda n_m: funcion_g(n_m, cont_p_q, N_array, campo, ift ), filas_n_m) ) ) , matriz_indexada ) ) ) )\n",
        "        return punto_transformado\n",
        "\n",
        "\n",
        "    matriz_DFT = np.array(list(map(lambda filas_p_q: list(map(lambda p_q: funcion_f(p_q, N_array, campo, ift), filas_p_q) ),matriz_indexada) ) )\n",
        "\n",
        "    matriz_DFT = matriz_DFT * escalador\n",
        "\n",
        "    \n",
        "    return matriz_DFT\n",
        "\n",
        "#----------------------------------------------------------------------------------------------------------------\n",
        "def fun_DFT_poderosa(campo, delta_array, ift = False):\n",
        "    '''\n",
        "    fun_DFT_poderosa es una función que calcula la Transformada de Fourier Discreta (DFT) o inversa (iDFT) de un campo.\n",
        "\n",
        "    NOTA 1: Esta función es equivalente a np.fft.fftn(campo*delta_array[0]*delta_array_[1])\n",
        "    NOTA 2: Esta función aunque bastante óptima para DFT, es muy costosa, puede que su computador colapse, en computador del programador\n",
        "            se garantiza, corrió una de 128x128, no se probó de mayores tamaños.\n",
        "\n",
        "    Variables de entrada:\n",
        "     - campo: (numpy.ndarray) ; campo (arreglo matricial) al cual se calculará la DFT o iDFT\n",
        "     - delta_array: (np.ndarray 1x2) ; arreglo que contiene los deltas o tamaños de pixeles dx y dy\n",
        "     - ift: (bool) ; Si True, calcula la iDFT, si False calcula DFT\n",
        "\n",
        "    Variables de salida:\n",
        "     - DFT: (numpy.ndarray) ; matriz de igual dimensiones que campo que contiene los valores de \n",
        "                              la DFT o iDFT \n",
        "    '''\n",
        "\n",
        "    # Número de muestras del campo\n",
        "    N,M = np.shape(campo)\n",
        "\n",
        "    # Extraer deltas\n",
        "    dx, dy = delta_array\n",
        "\n",
        "    # Tamaño del campo\n",
        "    Lx = N*dx\n",
        "    Ly = M*dy\n",
        "    \n",
        "    # Definir variables si se hace DFT o iDFT\n",
        "    # para iDFT\n",
        "    if ift == True:\n",
        "        s = +1                            # signo positivo si iDFT   \n",
        "        escalador = 1/(Lx*Ly)             # delta espectral\n",
        "    # para DFT\n",
        "    else:\n",
        "        s = -1\n",
        "        escalador = dx*dy\n",
        "\n",
        "    # Crear contadores\n",
        "    n = np.arange(0,N,1)\n",
        "    m = np.arange(0,M,1)\n",
        "\n",
        "    p = np.arange(0,N,1)\n",
        "    q = np.arange(0,M,1)\n",
        "\n",
        "    # Crear arreglos matriciales\n",
        "    n_mat, m_mat = np.meshgrid(n,m)\n",
        "    p_mat, q_mat = np.meshgrid(p,q)\n",
        "\n",
        "    # Realizar producto tensorial de p x n y q x m, para tener todas las combinaciones\n",
        "    # posibles de los n,m con un único valor p,q para todos los p y q\n",
        "    p_tensor_n = np.tensordot(p_mat, n_mat, 0)\n",
        "    q_tensor_m = np.tensordot(q_mat, m_mat, 0)\n",
        "\n",
        "    # Dividir para el número de muestras\n",
        "    p_tensor_n = p_tensor_n/N\n",
        "    q_tensor_m = q_tensor_m/M\n",
        "\n",
        "    # kernel de fourier\n",
        "    fourker = np.exp(1j*2*np.pi*s*(p_tensor_n + q_tensor_m) )\n",
        "\n",
        "    # multiplicar el campo por el kernel, donde se mantiene la relación punto a punto\n",
        "    producto = campo * fourker\n",
        "\n",
        "    # sumar todas las multiplicaciones del campo con el kernel y obtener la matriz p,q\n",
        "    suma = np.sum(producto, (2,3))\n",
        "\n",
        "    # Escalar la matriz por los deltas\n",
        "    DFT = suma * escalador\n",
        "\n",
        "    return DFT\n",
        "\n",
        "#----------------------------------------------------------------------------------------------------------------\n",
        "def fun_metodo_DFT(campo, delta_array, ift, metodo):\n",
        "    '''\n",
        "    fun_metodo_DFT es una función que calcula DFT o iDFT por el método de numpy o los programados en este código.\n",
        "\n",
        "    Variables de entrada\n",
        "     - campo: (np.ndarray) ; campo al que se le calculará DFT\n",
        "     - delta_array: (np.ndarray 1x2) ; arreglo que contiene los deltas o tamaños de pixeles dx y dy\n",
        "     - ift: (bool) ; Si True, calcula la iDFT, si False calcula DFT\n",
        "     - metodo: (int) ; Puede tomar los valores:\n",
        "                        0 para calcular DFT con la función de numpy np.fft.fftn\n",
        "                        1 para calcular DFT con la función fun_DFT\n",
        "                        2 para calcular DFT con la función fun_DFT2\n",
        "                        3 para calcular DFT con la función fun_DFT_poderosa\n",
        "    \n",
        "    Variables de salida\n",
        "     - DFT_campo (np.ndarray) ; DFT (o iDFT) del campo de entrada\n",
        "\n",
        "    '''\n",
        "\n",
        "    if ift == True:\n",
        "        escalador = 1/(dx*dy)\n",
        "    else:\n",
        "        escalador = dx*dy\n",
        "\n",
        "    # Por defecto corre la de numpy FFT\n",
        "    if metodo == 0:    \n",
        "        DFT_campo = (np.fft.fftn(campo))*escalador\n",
        "    # Estos métodos son los programados de DFT, se utilizan solo para comprobar la velocidad de DFT Vs FFT, cada uno es más óptimo \n",
        "    # que el anterior, pero a su vez más costoso, probarlo máximo con imágenes de 128x128\n",
        "    elif metodo == 1:\n",
        "        DFT_campo = fun_DFT(campo, delta_array, ift )\n",
        "    elif metodo == 2:\n",
        "        DFT_campo = fun_DFT2(campo, delta_array, ift )\n",
        "    elif metodo == 3:\n",
        "        DFT_campo = fun_DFT_poderosa(campo, delta_array, ift)\n",
        "    \n",
        "    return DFT_campo\n"
      ]
    },
    {
      "cell_type": "markdown",
      "metadata": {
        "id": "7_zOifPhG_Yk"
      },
      "source": [
        "### Probar DFT"
      ]
    },
    {
      "cell_type": "code",
      "execution_count": 10,
      "metadata": {
        "id": "cKLNLT5TG_Yn",
        "outputId": "c9a833e4-a34d-4854-8fad-a24ea301562f"
      },
      "outputs": [],
      "source": [
        "# Crear imagen a sacar DFT de 64x 64\n",
        "mask2 = fun_mask(64, 5, 1, 'circ')"
      ]
    },
    {
      "cell_type": "markdown",
      "metadata": {
        "id": "6uzJ95ZPG_Yp"
      },
      "source": [
        "Figarse en los tiempos de cada uno"
      ]
    },
    {
      "cell_type": "code",
      "execution_count": 11,
      "metadata": {
        "id": "5XIwzB59G_Ys"
      },
      "outputs": [],
      "source": [
        "np.fft.fftn(mask2);"
      ]
    },
    {
      "cell_type": "code",
      "execution_count": 12,
      "metadata": {
        "id": "JwpqshvhG_Yt"
      },
      "outputs": [],
      "source": [
        "# Tiempo aproximado 1 min 40 s\n",
        "fun_DFT(mask2, np.array([1,1]));"
      ]
    },
    {
      "cell_type": "code",
      "execution_count": 14,
      "metadata": {
        "id": "OtqsSejnG_Yv"
      },
      "outputs": [],
      "source": [
        "# Tiempo aproximado 1 min 30 s\n",
        "fun_DFT2(mask2, np.array([1,1]));"
      ]
    },
    {
      "cell_type": "code",
      "execution_count": 13,
      "metadata": {
        "id": "cNbClA6rG_Yw"
      },
      "outputs": [],
      "source": [
        "# TIempo aproximado 2 s\n",
        "fun_DFT_poderosa(mask2, np.array([1,1]));"
      ]
    },
    {
      "cell_type": "markdown",
      "metadata": {
        "id": "Mbwv3XnmB5Xi"
      },
      "source": [
        "# Punto 1\n",
        "\n",
        "Implemente numéricamente, en Python o MATLAB, los métodos de difracción escalar de Transformadad de Fresnel y Espectro Angular en sus formas de sumatorias discretas (DFT), y en la forma basada en transformadas rápidas de Fourier (FFT). Compare el desempeño de ambos métodos en términos del tiempo necesario para realizar el cómputo de un mismo experimento difractivo de su elección. ¿La mejora de desempe o coincide con sus expectativas?"
      ]
    },
    {
      "cell_type": "markdown",
      "metadata": {
        "id": "AcV2Y0ecB5Xk"
      },
      "source": [
        "## Implementación computacional de Difracción por Transformada de Fresnel"
      ]
    },
    {
      "cell_type": "code",
      "execution_count": 16,
      "metadata": {
        "id": "5W0lSWDVCD1J"
      },
      "outputs": [],
      "source": [
        "def Fresnel (campo, w_length, z, dx, dy, metodo = 0):\n",
        "    '''\n",
        "    Fresnel es una función que calcula la propagación por medio de la implementación computacional de transformada de Fresnel\n",
        "\n",
        "    Variables de entrada\n",
        "     - campo: campo: (np.ndarray) ; campo al que se le calculará DFT\n",
        "     - w_length: (float) ; longitud de onda\n",
        "     - z: (float) ; distancia de propagación\n",
        "     - dx: (int) ; delta de discretización en x del espacio o largo del pixel\n",
        "     - dy: (int) ; delta de discretización en y del espacio o alto del pixel\n",
        "     - metodo: (int) ; Puede tomar los valores:\n",
        "                        0 para calcular DFT por FFT (o iFFT) con la función de numpy np.fft.fftn (valor por defecto)\n",
        "                        1 para calcular DFT con la función fun_DFT\n",
        "                        2 para calcular DFT con la función fun_DFT2\n",
        "                        3 para calcular DFT con la función fun_DFT_poderosa\n",
        "\n",
        "    Variables de salida\n",
        "     - prop: (np.ndarray) ; campo propagado a la distancia z por medio de transformada de Fresnel computacional\n",
        "\n",
        "    '''\n",
        "    # Vector de onda\n",
        "    k_vect = 2*np.pi/w_length\n",
        "\n",
        "\n",
        "    # Definir espacio coordenado\n",
        "    N,M = np.shape(campo)\n",
        "    x = np.arange(-int(M/2), int(M/2), 1)\n",
        "    y = np.arange(-int(N/2), int(N/2), 1)\n",
        "    X,Y = np.meshgrid(x,y)\n",
        "\n",
        "    # Calcular  el espacio de discretización del campo de entrada\n",
        "    dx_0 = (w_length * z)/(dx * N)\n",
        "    dy_0 = (w_length * z)/(dy * M) \n",
        "\n",
        "    # # Definir fases esfericas\n",
        "    # C1 = np.exp( (1j*k_vect/(2*z) ) * ( (X*dx_0)**2 + (Y*dy_0)**2) )\n",
        "    # C2 = np.exp( (1j*k_vect*z) )* np.exp ( (1j*k_vect/(2*z))*( (X*dx)**2 + (Y*dy)**2) )\n",
        "\n",
        "    # Definir fases esfericas\n",
        "    C1 = np.exp( (1j*k_vect/(2*z) ) * ( (X*dx_0)**2 + (Y*dy_0)**2) )\n",
        "    # se quita el factor de amplitud 1/z\n",
        "    C2 = np.exp( 1j*k_vect*z) / (1j*w_length) * np.exp ( (1j*k_vect/(2*z))*( (X*dx)**2 + (Y*dy)**2) )\n",
        "\n",
        "    # 2. Preparar U'\n",
        "    U_p = campo * C1\n",
        "\n",
        "    # 3. DFT// de U' para obtener U'' en una distancia de propagacion z\n",
        "    U_2p = np.fft.fftshift(fun_metodo_DFT(U_p, np.array([dx,dy]), False, metodo) )\n",
        "\n",
        "    # 4. Escalar U\n",
        "    prop = U_2p * C2\n",
        "\n",
        "    return prop"
      ]
    },
    {
      "cell_type": "markdown",
      "metadata": {
        "id": "w_TwwEpqCjHm"
      },
      "source": [
        "## Implementación computacional de Difracción por Espectro Angular"
      ]
    },
    {
      "cell_type": "code",
      "execution_count": 17,
      "metadata": {
        "id": "os6-iu6WChuS"
      },
      "outputs": [],
      "source": [
        "def EspectroAngular (campo, w_length, z, dx, dy, metodo = 0):\n",
        "    '''\n",
        "    EspectroAngular es una función que calcula la propagación por medio de la implementación computacional de Espectro Angular\n",
        "\n",
        "    Variables de entrada\n",
        "     - campo: campo: (np.ndarray) ; campo al que se le calculará DFT\n",
        "     - w_length: (float) ; longitud de onda\n",
        "     - z: (float) ; distancia de propagación\n",
        "     - dx: (int) ; delta de discretización en x del espacio o largo del pixel\n",
        "     - dy: (int) ; delta de discretización en y del espacio o alto del pixel\n",
        "     - metodo: (int) ; Puede tomar los valores:\n",
        "                        0 para calcular DFT por FFT (o iFFT) con la función de numpy np.fft.fftn (valor por defecto)\n",
        "                        1 para calcular DFT con la función fun_DFT\n",
        "                        2 para calcular DFT con la función fun_DFT2\n",
        "                        3 para calcular DFT con la función fun_DFT_poderosa\n",
        "\n",
        "    Variables de salida\n",
        "     - Uprop: (np.ndarray) ; campo propagado a la distancia z por medio de Espectro Angular computacional\n",
        "\n",
        "    '''\n",
        "  # Vector de onda\n",
        "    k_vect = 2*np.pi/w_length\n",
        "\n",
        "    #Definamos el espacio coordenado\n",
        "    N,M = np.shape(campo)\n",
        "    x = np.arange(-int(N/2), int(N/2), 1)\n",
        "    y = np.arange(-int(M/2), int(M/2), 1)\n",
        "    X,Y = np.meshgrid(x,y)\n",
        "\n",
        "    # Calcular el tamaño de discretización del espacio de las frecuencias \n",
        "    fX =  (1 / (N*dx))\n",
        "    fY =  (1 / (M*dy))\n",
        "\n",
        "    # 2. Calculamos el espectro angular discreto A[p,q,0] utilizando FFT.\n",
        "    A0 = np.fft.fftshift(fun_metodo_DFT(campo, np.array([dx,dy]), False, metodo))\n",
        "\n",
        "    # definimos las fases esféricas \n",
        "    C1 = np.exp((1j*k_vect*z) * np.sqrt(1 - (w_length**2)*(  (X*fX)**2 + (Y*fY)**2) ) )\n",
        "\n",
        "    # 3. Aplicamos la función de transferencia \n",
        "    Az = A0 * C1\n",
        "\n",
        "    # 4. Calculamos el campo propagado U[n,m,z] como la IFFT del espectro angular propagado y reordenamos\n",
        "    Uprop = fun_metodo_DFT(Az, np.array([dx,dy]), True, metodo)\n",
        "\n",
        "\n",
        "    return Uprop"
      ]
    },
    {
      "cell_type": "markdown",
      "metadata": {
        "id": "aTKjEN9zCyLi"
      },
      "source": [
        "## Prueba de Transformada de Fresnel usando una abertura circular y comparación FFT con DFT en imagen 128x128"
      ]
    },
    {
      "cell_type": "code",
      "execution_count": 18,
      "metadata": {
        "colab": {
          "base_uri": "https://localhost:8080/",
          "height": 287
        },
        "id": "-Cp5KAxdCpGR",
        "outputId": "c33dee86-d087-4fe7-c4d4-951d0bb2e311"
      },
      "outputs": [
        {
          "data": {
            "text/plain": [
              "0.0001969230769230769"
            ]
          },
          "execution_count": 18,
          "metadata": {},
          "output_type": "execute_result"
        }
      ],
      "source": [
        "# Creación de Abertura circular\n",
        "mask = fun_mask(128, 6, 1, 'circ')\n",
        "# Calcular z critico\n",
        "fun_z_c(np.shape(mask)[0], dx, w_length)"
      ]
    },
    {
      "cell_type": "markdown",
      "metadata": {
        "id": "K2Z7Mb4kG_ZF"
      },
      "source": [
        "### Fresnel, FFT"
      ]
    },
    {
      "cell_type": "code",
      "execution_count": 20,
      "metadata": {
        "colab": {
          "base_uri": "https://localhost:8080/",
          "height": 295
        },
        "id": "CkmnWcupC434",
        "outputId": "540f2054-fb69-4098-d2e3-9ecdd46614fb"
      },
      "outputs": [
        {
          "data": {
            "text/plain": [
              "(128, 128)"
            ]
          },
          "execution_count": 20,
          "metadata": {},
          "output_type": "execute_result"
        }
      ],
      "source": [
        "# Propagación por Transformada de Fresnel por FFT\n",
        "propFresnelC = Fresnel(mask, w_length, 400*um, dx, dx, 0 )\n",
        "fun_ploteo_complejo(propFresnelC, \"I\", 0)\n",
        "np.shape(propFresnelC)"
      ]
    },
    {
      "cell_type": "markdown",
      "metadata": {
        "id": "GKiObO6TG_ZI"
      },
      "source": [
        "### Fresnel, DFT"
      ]
    },
    {
      "cell_type": "code",
      "execution_count": 21,
      "metadata": {
        "id": "SpsyaSu-G_ZJ",
        "outputId": "0c2652da-469b-4aac-d010-2a6684886ede"
      },
      "outputs": [
        {
          "data": {
            "text/plain": [
              "(128, 128)"
            ]
          },
          "execution_count": 21,
          "metadata": {},
          "output_type": "execute_result"
        }
      ],
      "source": [
        "# Propagación por Transformada de Fresnel por DFT con la función fun_DFT_poderosa\n",
        "# Nota 1: para el tamaño 128x128 en el computador de los desarrolladores tarda aprox 40 segundos\n",
        "# Nota 2: puede intentar las otras funciones de DFT pero se advierte su lentitud\n",
        "propFresnelC = Fresnel(mask, w_length, 400*um, dx, dy, 3 )\n",
        "fun_ploteo_complejo(propFresnelC, \"I\", 0)\n",
        "np.shape(propFresnelC)"
      ]
    },
    {
      "cell_type": "markdown",
      "metadata": {
        "id": "QfW7JgA-DNrx"
      },
      "source": [
        "## Prueba de Espectro Angular usando una abertura circular y comparación FFT con DFT en imagen 128x128"
      ]
    },
    {
      "cell_type": "markdown",
      "metadata": {
        "id": "tkktrEnxG_ZM"
      },
      "source": [
        "### FFT"
      ]
    },
    {
      "cell_type": "code",
      "execution_count": 27,
      "metadata": {
        "colab": {
          "base_uri": "https://localhost:8080/",
          "height": 287
        },
        "id": "ZcSnCLikC_mv",
        "outputId": "4d59dcbb-960b-4ef0-fea2-86c42457f1b5"
      },
      "outputs": [],
      "source": [
        "# Propagación por Espectro Angular por FFT\n",
        "propASC_FFT = EspectroAngular(mask, w_length, 100*um, dx, dy, 0)\n",
        "fun_ploteo_complejo(propASC_FFT, \"I\", 0)"
      ]
    },
    {
      "cell_type": "markdown",
      "metadata": {
        "id": "EqsIKnXbG_ZP"
      },
      "source": [
        "### DFT"
      ]
    },
    {
      "cell_type": "code",
      "execution_count": 23,
      "metadata": {
        "id": "6MuOUqYeG_ZQ",
        "outputId": "da18058a-b909-46b0-d585-2ff0dad2c85a"
      },
      "outputs": [],
      "source": [
        "# Propagación por Transformada de Fresnel por DFT con la función fun_DFT_poderosa\n",
        "# Nota 1: para el tamaño 128x128 en el computador de los desarrolladores tarda aprox 55 segundos\n",
        "# Nota 2: puede intentar las otras funciones de DFT pero se advierte su lentitud\n",
        "propASC = EspectroAngular(mask, w_length, 100*um, dx, dy, 3)\n",
        "fun_ploteo_complejo(propASC, \"I\", 0)"
      ]
    },
    {
      "cell_type": "markdown",
      "metadata": {
        "id": "VHqgTqlKG_ZS"
      },
      "source": [
        "Una vez comparado los algoritmos de DFT y FFT, se prosigue únicamente con FFT"
      ]
    },
    {
      "cell_type": "markdown",
      "metadata": {
        "id": "8rUY8heDG_ZS"
      },
      "source": [
        "## Prueba de Transformada de Fresnel usando un obstáculo circular de 1024x1024"
      ]
    },
    {
      "cell_type": "code",
      "execution_count": 35,
      "metadata": {
        "id": "Mg5AZ4BWG_ZT",
        "outputId": "3fbb13f0-c2d0-4388-9ba2-f0fb04d4bfbc"
      },
      "outputs": [
        {
          "data": {
            "text/plain": [
              "0.0015753846153846152"
            ]
          },
          "execution_count": 35,
          "metadata": {},
          "output_type": "execute_result"
        }
      ],
      "source": [
        "# Creación de Abertura circular\n",
        "mask = fun_mask(1024, 150, 1, 'circ')\n",
        "# Calcular z critico\n",
        "fun_z_c(np.shape(mask)[0], dx, w_length)"
      ]
    },
    {
      "cell_type": "code",
      "execution_count": 36,
      "metadata": {
        "id": "oU7U9NNzG_ZU",
        "outputId": "8e958713-0450-4bd6-c516-d6edfa7a6320"
      },
      "outputs": [],
      "source": [
        "# Propagación por Transformada de Fresnel por FFT\n",
        "propFresnelC = Fresnel(mask, w_length, 2*mm, dx, dx, 0 )\n",
        "fun_ploteo_complejo(propFresnelC, \"I\", 1)"
      ]
    },
    {
      "cell_type": "markdown",
      "metadata": {
        "id": "HI8FjltUG_ZW"
      },
      "source": [
        "## Prueba de Espectro Angular usando un obstáculo circular de 1024x1024"
      ]
    },
    {
      "cell_type": "code",
      "execution_count": 38,
      "metadata": {
        "id": "8cu43F3PG_ZW",
        "outputId": "063009e2-c3e0-4ca7-d081-0df4deaf3670"
      },
      "outputs": [
        {
          "data": {
            "text/plain": [
              "(64, 64)"
            ]
          },
          "execution_count": 38,
          "metadata": {},
          "output_type": "execute_result"
        }
      ],
      "source": [
        "# Propagación por Espectro Angular por FFT\n",
        "propASC_FFT = EspectroAngular(mask, w_length, 2*mm, dx, dy, 0)\n",
        "fun_ploteo_complejo(propASC_FFT, \"A\", 1)\n",
        "np.shape(propASC)"
      ]
    },
    {
      "cell_type": "markdown",
      "metadata": {
        "id": "FkEogPPTDlv_"
      },
      "source": [
        "## Prueba de Transformada de Fresnel usando un obstáculo rectangular de 1024x1024"
      ]
    },
    {
      "cell_type": "code",
      "execution_count": 39,
      "metadata": {
        "colab": {
          "base_uri": "https://localhost:8080/",
          "height": 269
        },
        "id": "QQwPb_O3DPto",
        "outputId": "42ce98d6-2d97-4616-be22-e914dd257967"
      },
      "outputs": [
        {
          "data": {
            "text/plain": [
              "0.0015753846153846152"
            ]
          },
          "execution_count": 39,
          "metadata": {},
          "output_type": "execute_result"
        }
      ],
      "source": [
        "# Creación de obstáculo circular\n",
        "mask2 = fun_mask(1024, 100, 0)\n",
        "# Calcular z critico\n",
        "fun_z_c(1024,dx,w_length)"
      ]
    },
    {
      "cell_type": "code",
      "execution_count": 43,
      "metadata": {
        "id": "3zEz3WEKD1v5"
      },
      "outputs": [],
      "source": [
        "# Propagación por Transformada de Fresnel por FFT\n",
        "propFresnelC = Fresnel(mask2, w_length, 1*mm, dx, dy, 0 )\n",
        "fun_ploteo_complejo(propFresnelC, \"I\", 1)"
      ]
    },
    {
      "cell_type": "markdown",
      "metadata": {
        "id": "qxl-PfQ8D7Lc"
      },
      "source": [
        "## Prueba de Espectro Angular usando un obstáculo circular de 1024x1024"
      ]
    },
    {
      "cell_type": "code",
      "execution_count": 49,
      "metadata": {
        "id": "t5lDfPlaDnVJ"
      },
      "outputs": [
        {
          "data": {
            "text/plain": [
              "(1024, 1024)"
            ]
          },
          "execution_count": 49,
          "metadata": {},
          "output_type": "execute_result"
        }
      ],
      "source": [
        "# Propagación por Espectro Angular por FFT\n",
        "propASC = EspectroAngular(mask2, w_length, 2*mm, dx, dy, 0)\n",
        "fun_ploteo_complejo(propASC, \"I\", 1)\n",
        "np.shape(propASC)"
      ]
    },
    {
      "cell_type": "markdown",
      "metadata": {
        "id": "FkEogPPTDlv_"
      },
      "source": [
        "## Prueba de Transformada de Fresnel usando una abertura rectangular de 512x12"
      ]
    },
    {
      "cell_type": "code",
      "execution_count": 51,
      "metadata": {
        "colab": {
          "base_uri": "https://localhost:8080/",
          "height": 269
        },
        "id": "QQwPb_O3DPto",
        "outputId": "42ce98d6-2d97-4616-be22-e914dd257967"
      },
      "outputs": [
        {
          "data": {
            "text/plain": [
              "0.0007876923076923076"
            ]
          },
          "execution_count": 51,
          "metadata": {},
          "output_type": "execute_result"
        }
      ],
      "source": [
        "# Crear una apertura rectangular\n",
        "mask3 = fun_mask(512,20, 1, 'rect')\n",
        "fun_z_c(512, dx, w_length)"
      ]
    },
    {
      "cell_type": "code",
      "execution_count": 55,
      "metadata": {
        "colab": {
          "base_uri": "https://localhost:8080/",
          "height": 269
        },
        "id": "3zEz3WEKD1v5",
        "outputId": "1c370486-df1f-48fe-9684-741e237b097e"
      },
      "outputs": [],
      "source": [
        "# Propagación por Transformada de Fresnel\n",
        "propFresnelR = Fresnel(mask3, w_length, 800*um, dx, dy)\n",
        "fun_ploteo_complejo(propFresnelR, \"I\",0)"
      ]
    },
    {
      "cell_type": "markdown",
      "metadata": {
        "id": "qxl-PfQ8D7Lc"
      },
      "source": [
        "## Prueba de Espectro Angular usando una abertura rectangular de 512x512"
      ]
    },
    {
      "cell_type": "code",
      "execution_count": 66,
      "metadata": {
        "colab": {
          "base_uri": "https://localhost:8080/",
          "height": 269
        },
        "id": "t5lDfPlaDnVJ",
        "outputId": "1b47083f-208f-40a7-a39a-27c5d55a8cd1"
      },
      "outputs": [],
      "source": [
        "# Propagación por Espectro Angular\n",
        "propASR = EspectroAngular(mask3, w_length, 240*um, dx, dy)\n",
        "fun_ploteo_complejo(propASR, \"I\", 0)"
      ]
    },
    {
      "cell_type": "markdown",
      "metadata": {},
      "source": [
        "# **Punto 2**"
      ]
    },
    {
      "cell_type": "markdown",
      "metadata": {
        "id": "FaYmAm4BG_Zh"
      },
      "source": [
        "## **Punto 2 a**"
      ]
    },
    {
      "cell_type": "code",
      "execution_count": 67,
      "metadata": {
        "id": "etMOx6AZG_Zi"
      },
      "outputs": [],
      "source": [
        "def fun_transmitance_a(campo, dx,dy, m, L):\n",
        "    #dimensiones del campo\n",
        "    N_x, N_y= np.shape(campo)\n",
        "\n",
        "    # Discretizacion del campo\n",
        "    n = np.arange(0,N_x,1)\n",
        "\n",
        "    # función de transmitancia\n",
        "    transmitancia = 1/2*(1+m*np.cos(2*np.pi*n/L))\n",
        "\n",
        "    # matriz de unos\n",
        "    matriz_ones = np.ones((N_x,N_y), dtype = np.complex128)\n",
        "\n",
        "    # broadcasting para tener la transmitancia independiente de y\n",
        "    matriz_transmitancia = transmitancia*matriz_ones\n",
        "\n",
        "    return matriz_transmitancia"
      ]
    },
    {
      "cell_type": "code",
      "execution_count": 102,
      "metadata": {
        "id": "_AjPdKa5G_Zi"
      },
      "outputs": [
        {
          "name": "stdout",
          "output_type": "stream",
          "text": [
            "zcritico  0.0031507692307692304\n"
          ]
        }
      ],
      "source": [
        "# Creación de la transmitancia\n",
        "m = 0.5\n",
        "L= 60      # 60 micras\n",
        "n = 1\n",
        "transmitancia_a=fun_transmitance_a(np.ones((2048,2048)),1,1,m, L)\n",
        "fun_ploteo_complejo( transmitancia_a, \"I\", 1)\n",
        "print(\"zcritico \", fun_z_c(transmitancia_a.shape[0], dx, w_length))"
      ]
    },
    {
      "cell_type": "markdown",
      "metadata": {},
      "source": [
        "### N pares"
      ]
    },
    {
      "cell_type": "code",
      "execution_count": 103,
      "metadata": {},
      "outputs": [
        {
          "name": "stdout",
          "output_type": "stream",
          "text": [
            "z calculado:  0.011076923076923074 con n=  2\n",
            "z calculado:  0.02215384615384615 con n=  4\n",
            "z calculado:  0.03323076923076922 con n=  6\n",
            "z calculado:  0.0443076923076923 con n=  8\n"
          ]
        },
        {
          "data": {
            "text/plain": [
              "array([0.01107692, 0.02215385, 0.03323077, 0.04430769])"
            ]
          },
          "execution_count": 103,
          "metadata": {},
          "output_type": "execute_result"
        }
      ],
      "source": [
        "# Calcular los diferentes valores de z\n",
        "for i in np.arange(2,10,2):\n",
        "    z_a = i*(L*dx)**2/w_length\n",
        "    print(\"z calculado: \", z_a, \"con n= \",i)\n",
        "    \n",
        "# Guardarlos en un arreglo\n",
        "z_a = 1*(L*dx)**2/w_length\n",
        "z_prop = np.linspace(2*z_a, 8*z_a, 4)\n",
        "z_prop"
      ]
    },
    {
      "cell_type": "code",
      "execution_count": 104,
      "metadata": {},
      "outputs": [
        {
          "name": "stdout",
          "output_type": "stream",
          "text": [
            "0.011076923076923074\n",
            "0.02215384615384615\n",
            "0.03323076923076922\n",
            "0.0443076923076923\n"
          ]
        }
      ],
      "source": [
        "# Graficar los valores de la transmitancia propagada\n",
        "# La primera gráfica es la transmitancia en z =0\n",
        "fun_ploteo_complejo( transmitancia_a, \"I\", 1)\n",
        "for i in z_prop:    \n",
        "    fun_ploteo_complejo(EspectroAngular(transmitancia_a, w_length, i, dx, dy), \"I\", 1)\n",
        "    print(i)"
      ]
    },
    {
      "cell_type": "markdown",
      "metadata": {},
      "source": [
        "### N impares"
      ]
    },
    {
      "cell_type": "code",
      "execution_count": 105,
      "metadata": {},
      "outputs": [
        {
          "name": "stdout",
          "output_type": "stream",
          "text": [
            "z calculado:  0.005538461538461537 con n=  1\n",
            "z calculado:  0.01661538461538461 con n=  3\n",
            "z calculado:  0.02769230769230769 con n=  5\n",
            "z calculado:  0.038769230769230764 con n=  7\n"
          ]
        },
        {
          "data": {
            "text/plain": [
              "array([0.00553846, 0.01661538, 0.02769231, 0.03876923])"
            ]
          },
          "execution_count": 105,
          "metadata": {},
          "output_type": "execute_result"
        }
      ],
      "source": [
        "# Calcular los diferentes valores de z\n",
        "for i in np.arange(1,9,2):\n",
        "    z_a = i*(L*dx)**2/w_length\n",
        "    print(\"z calculado: \", z_a, \"con n= \",i)\n",
        "    \n",
        "# Guardarlos en un arreglo\n",
        "z_a = 1*(L*dx)**2/w_length\n",
        "z_prop = np.linspace(1*z_a, 7*z_a, 4)\n",
        "z_prop"
      ]
    },
    {
      "cell_type": "code",
      "execution_count": 107,
      "metadata": {},
      "outputs": [
        {
          "name": "stdout",
          "output_type": "stream",
          "text": [
            "0.005538461538461537\n",
            "0.016615384615384615\n",
            "0.02769230769230769\n",
            "0.038769230769230764\n"
          ]
        }
      ],
      "source": [
        "# Graficar los valores de la transmitancia propagada\n",
        "# la primera gráfica es la transmitancia en z=0\n",
        "fun_ploteo_complejo( transmitancia_a, \"I\", 1)\n",
        "for i in z_prop:    \n",
        "    fun_ploteo_complejo(EspectroAngular(transmitancia_a, w_length, i, dx, dy), \"I\", 1)\n",
        "    print(i)"
      ]
    },
    {
      "cell_type": "markdown",
      "metadata": {},
      "source": [
        "## Otros Planos"
      ]
    },
    {
      "cell_type": "markdown",
      "metadata": {},
      "source": [
        "### Entre 1 y 2"
      ]
    },
    {
      "cell_type": "code",
      "execution_count": 108,
      "metadata": {},
      "outputs": [
        {
          "name": "stdout",
          "output_type": "stream",
          "text": [
            "z calculado:  0.005538461538461537 con n=  1.0\n",
            "z calculado:  0.006092307692307691 con n=  1.1\n",
            "z calculado:  0.006646153846153846 con n=  1.2000000000000002\n",
            "z calculado:  0.007200000000000001 con n=  1.3000000000000003\n",
            "z calculado:  0.007753846153846155 con n=  1.4000000000000004\n",
            "z calculado:  0.00830769230769231 con n=  1.5000000000000004\n",
            "z calculado:  0.008861538461538464 con n=  1.6000000000000005\n",
            "z calculado:  0.009415384615384617 con n=  1.7000000000000006\n",
            "z calculado:  0.009969230769230772 con n=  1.8000000000000007\n",
            "z calculado:  0.010523076923076927 con n=  1.9000000000000008\n"
          ]
        },
        {
          "data": {
            "text/plain": [
              "array([0.00553846, 0.00609231, 0.00664615, 0.0072    , 0.00775385,\n",
              "       0.00830769, 0.00886154, 0.00941538, 0.00996923, 0.01052308,\n",
              "       0.01107692])"
            ]
          },
          "execution_count": 108,
          "metadata": {},
          "output_type": "execute_result"
        }
      ],
      "source": [
        "# Calcular los diferentes valores de z\n",
        "for i in np.arange(1,2,0.1):\n",
        "    z_a = i*(L*dx)**2/w_length\n",
        "    print(\"z calculado: \", z_a, \"con n= \",i)\n",
        "    \n",
        "# Guardarlos en un arreglo\n",
        "z_a = 1*(L*dx)**2/w_length\n",
        "z_prop = np.linspace(1*z_a, 2*z_a, 11)\n",
        "z_prop"
      ]
    },
    {
      "cell_type": "code",
      "execution_count": 109,
      "metadata": {},
      "outputs": [
        {
          "name": "stdout",
          "output_type": "stream",
          "text": [
            "0.005538461538461537\n",
            "0.006092307692307691\n",
            "0.006646153846153845\n",
            "0.007199999999999998\n",
            "0.007753846153846152\n",
            "0.008307692307692306\n",
            "0.008861538461538459\n",
            "0.009415384615384614\n",
            "0.009969230769230767\n",
            "0.01052307692307692\n",
            "0.011076923076923074\n"
          ]
        }
      ],
      "source": [
        "# Graficar los valores de la transmitancia propagada\n",
        "# la primera gráfica es la transmitancia en z=0\n",
        "fun_ploteo_complejo( transmitancia_a, \"I\", 1)\n",
        "for i in z_prop:    \n",
        "    fun_ploteo_complejo(EspectroAngular(transmitancia_a, w_length, i, dx, dy), \"I\", 1)\n",
        "    print(i)"
      ]
    },
    {
      "cell_type": "markdown",
      "metadata": {},
      "source": [
        "### Entre 2 y 3\n"
      ]
    },
    {
      "cell_type": "code",
      "execution_count": 110,
      "metadata": {},
      "outputs": [
        {
          "name": "stdout",
          "output_type": "stream",
          "text": [
            "z calculado:  0.011076923076923074 con n=  2.0\n",
            "z calculado:  0.01163076923076923 con n=  2.1\n",
            "z calculado:  0.012184615384615382 con n=  2.2\n",
            "z calculado:  0.012738461538461539 con n=  2.3000000000000003\n",
            "z calculado:  0.013292307692307692 con n=  2.4000000000000004\n",
            "z calculado:  0.013846153846153848 con n=  2.5000000000000004\n",
            "z calculado:  0.014400000000000001 con n=  2.6000000000000005\n",
            "z calculado:  0.014953846153846154 con n=  2.7000000000000006\n",
            "z calculado:  0.01550769230769231 con n=  2.8000000000000007\n",
            "z calculado:  0.016061538461538464 con n=  2.900000000000001\n"
          ]
        },
        {
          "data": {
            "text/plain": [
              "array([0.01107692, 0.01163077, 0.01218462, 0.01273846, 0.01329231,\n",
              "       0.01384615, 0.0144    , 0.01495385, 0.01550769, 0.01606154,\n",
              "       0.01661538])"
            ]
          },
          "execution_count": 110,
          "metadata": {},
          "output_type": "execute_result"
        }
      ],
      "source": [
        "# Calcular los diferentes valores de z\n",
        "for i in np.arange(2,3,0.1):\n",
        "    z_a = i*(L*dx)**2/w_length\n",
        "    print(\"z calculado: \", z_a, \"con n= \",i)\n",
        "    \n",
        "# Guardarlos en un arreglo\n",
        "z_a = 1*(L*dx)**2/w_length\n",
        "z_prop = np.linspace(2*z_a, 3*z_a, 11)\n",
        "z_prop"
      ]
    },
    {
      "cell_type": "code",
      "execution_count": 111,
      "metadata": {},
      "outputs": [
        {
          "name": "stdout",
          "output_type": "stream",
          "text": [
            "0.011076923076923074\n",
            "0.011630769230769228\n",
            "0.012184615384615382\n",
            "0.012738461538461535\n",
            "0.01329230769230769\n",
            "0.013846153846153843\n",
            "0.014399999999999996\n",
            "0.014953846153846151\n",
            "0.015507692307692304\n",
            "0.016061538461538457\n",
            "0.01661538461538461\n"
          ]
        }
      ],
      "source": [
        "# Graficar los valores de la transmitancia propagada\n",
        "# la primera gráfica es la transmitancia en z=0\n",
        "fun_ploteo_complejo( transmitancia_a, \"I\", 1)\n",
        "for i in z_prop:    \n",
        "    fun_ploteo_complejo(EspectroAngular(transmitancia_a, w_length, i, dx, dy), \"I\", 1)\n",
        "    print(i)"
      ]
    },
    {
      "cell_type": "markdown",
      "metadata": {
        "id": "obDj9UqOHhht"
      },
      "source": [
        "## **Punto 2b** Principio de Babinet"
      ]
    },
    {
      "cell_type": "code",
      "execution_count": 112,
      "metadata": {
        "id": "eP2lkaFjHiuL"
      },
      "outputs": [],
      "source": [
        "def opening(dx, dy, radio):\n",
        " # Esta es otra función de creación de máscaras \n",
        "  N,M = (1024,1024)\n",
        "  x = np.arange(-int(M/2), int(M/2), 1)\n",
        "  y = np.arange(-int(N/2), int(N/2), 1)\n",
        "  \n",
        "  fx = x * dx\n",
        "  fy = y * dy\n",
        "  \n",
        "  X,Y = np.meshgrid(fx, fy)\n",
        "  circulo = np.array(X**2 + Y**2 <= radio**2, dtype = bool)\n",
        "  plt.imshow(circulo)\n",
        "  plt.colorbar()\n",
        "  plt.show()\n",
        "\n",
        "  return circulo"
      ]
    },
    {
      "cell_type": "code",
      "execution_count": 113,
      "metadata": {
        "colab": {
          "base_uri": "https://localhost:8080/",
          "height": 269
        },
        "id": "-yFLJ6lpHtti",
        "outputId": "78854622-f560-4b6d-b96b-7a8f9f43768c"
      },
      "outputs": [],
      "source": [
        "# transmitancia, apertura circular, con la cual se \n",
        "# demostrará principio de Babinet\n",
        "apertura = opening(dx, dy, 200*um)"
      ]
    },
    {
      "cell_type": "code",
      "execution_count": 114,
      "metadata": {
        "colab": {
          "base_uri": "https://localhost:8080/",
          "height": 269
        },
        "id": "h1LTRuyrHwFx",
        "outputId": "801efecf-b0f1-4545-eb7a-298020416b72"
      },
      "outputs": [],
      "source": [
        "# Propagar en el espacio libre con Fresnel\n",
        "espaciolibre = Fresnel(apertura, w_length, 2.16*mm, dx, dy, 0)\n",
        "fun_ploteo_complejo(espaciolibre, \"I\", 1)"
      ]
    },
    {
      "cell_type": "code",
      "execution_count": 115,
      "metadata": {
        "colab": {
          "base_uri": "https://localhost:8080/",
          "height": 293
        },
        "id": "sksbLKnxu4Vp",
        "outputId": "b89767e3-71ef-4e84-f176-0cf9587bb4de"
      },
      "outputs": [
        {
          "data": {
            "text/plain": [
              "[<matplotlib.lines.Line2D at 0x2149d404880>]"
            ]
          },
          "execution_count": 115,
          "metadata": {},
          "output_type": "execute_result"
        }
      ],
      "source": [
        "# Graficar las magnitudes de la diagonal de la imagen anterior \n",
        "plt.plot(np.abs(np.diag(np.abs(espaciolibre)**2)))\n",
        "\n"
      ]
    },
    {
      "cell_type": "code",
      "execution_count": 116,
      "metadata": {
        "id": "-GhsvUhAPsSz"
      },
      "outputs": [],
      "source": [
        "def sumadona(dx, dy, radiominimo, radiomaximo):\n",
        "  # Funcion para crear una mascara de dona\n",
        "  N,M = (1024,1024)\n",
        "  x = np.arange(-int(M/2), int(M/2), 1)\n",
        "  y = np.arange(-int(N/2), int(N/2), 1)\n",
        "  \n",
        "  fx = x * dx\n",
        "  fy = y * dy\n",
        "  \n",
        "  X,Y = np.meshgrid(fx, fy)\n",
        "  dona1 = np.array((X**2 + Y**2 <= radiomaximo**2), dtype= bool) \n",
        "  dona2 = np.array((X**2 + Y**2 >= radiominimo**2), dtype = bool)\n",
        "  dona = dona1 * dona2\n",
        "  plt.imshow(dona)\n",
        "  plt.colorbar()\n",
        "  plt.show()\n",
        "\n",
        "  return dona"
      ]
    },
    {
      "cell_type": "code",
      "execution_count": 117,
      "metadata": {
        "colab": {
          "base_uri": "https://localhost:8080/",
          "height": 269
        },
        "id": "TrU4tcTAP6rY",
        "outputId": "ea67a469-f2bb-4966-bb52-06d0d1d75349"
      },
      "outputs": [],
      "source": [
        "# transmitancia de dona\n",
        "tA = sumadona(dx, dy, 75*um, 200*um)"
      ]
    },
    {
      "cell_type": "code",
      "execution_count": 118,
      "metadata": {
        "colab": {
          "base_uri": "https://localhost:8080/",
          "height": 269
        },
        "id": "22C5gXPKXLOq",
        "outputId": "a54bd272-3455-4dcc-e492-913dbc89bfcd"
      },
      "outputs": [],
      "source": [
        "# Propagar la transmitancia (dona) por T. de Fresnel\n",
        "tAFresnel = Fresnel(tA, w_length, 2.16*mm, dx, dy, 0)\n",
        "fun_ploteo_complejo(tAFresnel, \"I\", 1)"
      ]
    },
    {
      "cell_type": "code",
      "execution_count": 119,
      "metadata": {
        "colab": {
          "base_uri": "https://localhost:8080/",
          "height": 269
        },
        "id": "Xq0HUOONQgpL",
        "outputId": "dcdec313-2e84-49c3-8333-ba408eed5920"
      },
      "outputs": [],
      "source": [
        "# transmitancia de una apertura circular\n",
        "tAcom = opening(dx,dy,75*um)"
      ]
    },
    {
      "cell_type": "code",
      "execution_count": 120,
      "metadata": {
        "colab": {
          "base_uri": "https://localhost:8080/",
          "height": 276
        },
        "id": "NlwENi3eXyrf",
        "outputId": "6eb92a04-3ef2-41f4-dfe5-d83c92b483b4"
      },
      "outputs": [],
      "source": [
        "# Propagar la transmitancia (apertura) circular\n",
        "tAcomFresnel = Fresnel(tAcom, w_length, 2.16*mm, dx, dy, 0)\n",
        "fun_ploteo_complejo(tAcomFresnel, \"I\", 1)"
      ]
    },
    {
      "cell_type": "code",
      "execution_count": 121,
      "metadata": {
        "colab": {
          "base_uri": "https://localhost:8080/",
          "height": 269
        },
        "id": "lcajL5wTa2_A",
        "outputId": "60579747-f3f2-42af-c41b-1bf10ea055e7"
      },
      "outputs": [],
      "source": [
        "# Superposicion de la propagacion de las transmitancias\n",
        "Babinet = tAFresnel + tAcomFresnel\n",
        "fun_ploteo_complejo(Babinet, \"I\", 1)"
      ]
    },
    {
      "cell_type": "code",
      "execution_count": 122,
      "metadata": {
        "colab": {
          "base_uri": "https://localhost:8080/",
          "height": 293
        },
        "id": "pZc_xiCQsUdk",
        "outputId": "045d2c9a-7c66-401a-eeaf-0eeae606af30"
      },
      "outputs": [
        {
          "data": {
            "text/plain": [
              "[<matplotlib.lines.Line2D at 0x2149cbd44f0>]"
            ]
          },
          "execution_count": 122,
          "metadata": {},
          "output_type": "execute_result"
        }
      ],
      "source": [
        "# Grafica de las magnitudes de las transmitancias superpuestas en \n",
        "# el espacio\n",
        "plt.plot(np.abs(np.diag(np.abs(Babinet)**2)))"
      ]
    },
    {
      "cell_type": "markdown",
      "metadata": {
        "id": "5p5mkMxEVTH0"
      },
      "source": [
        "# **Punto 2c** Punto de Poisson"
      ]
    },
    {
      "cell_type": "code",
      "execution_count": 126,
      "metadata": {
        "id": "qkmbTgnqbhND"
      },
      "outputs": [],
      "source": [
        "def sumadona(dx, dy, radiominimo, radiomaximo):\n",
        "  # Funcion para máscara de una dona\n",
        "  N,M = (1024,1024)\n",
        "  x = np.arange(-int(M/2), int(M/2), 1)\n",
        "  y = np.arange(-int(N/2), int(N/2), 1)\n",
        "  \n",
        "  fx = x * dx\n",
        "  fy = y * dy\n",
        "  \n",
        "  X,Y = np.meshgrid(fx, fy)\n",
        "  dona1 = np.array((X**2 + Y**2 <= radiomaximo**2), dtype= bool) \n",
        "  dona2 = np.array((X**2 + Y**2 >= radiominimo**2), dtype = bool)\n",
        "  dona = dona2 * dona1\n",
        "  plt.imshow(dona)\n",
        "  plt.colorbar()\n",
        "  plt.show()\n",
        "\n",
        "  return dona"
      ]
    },
    {
      "cell_type": "code",
      "execution_count": 127,
      "metadata": {
        "colab": {
          "base_uri": "https://localhost:8080/",
          "height": 269
        },
        "id": "BNgqMwqivoI4",
        "outputId": "280265c3-1c0e-4866-9706-d7a233688e70"
      },
      "outputs": [],
      "source": [
        "# Crear transmitancia de dona (apertura)\n",
        "Obstaculolimitado = sumadona(dx, dy, 40*um, 230*um)"
      ]
    },
    {
      "cell_type": "code",
      "execution_count": 128,
      "metadata": {
        "colab": {
          "base_uri": "https://localhost:8080/",
          "height": 599
        },
        "id": "zF4X0PHOv0GC",
        "outputId": "7646550b-ea44-471f-fcad-7bc8cd18bfa6"
      },
      "outputs": [
        {
          "name": "stdout",
          "output_type": "stream",
          "text": [
            "[[-2.27751493e-05+2.67498732e-05j -1.77686854e-05-2.39601114e-06j\n",
            "   3.05232330e-06+1.83191496e-05j ... -2.55283420e-05+3.51933269e-05j\n",
            "   3.05232330e-06+1.83191496e-05j -1.77686854e-05-2.39601114e-06j]\n",
            " [-1.77686854e-05-2.39601114e-06j -9.27930526e-06-7.01869730e-06j\n",
            "  -1.60184751e-05-3.88134091e-06j ... -1.84534178e-05-1.33396675e-05j\n",
            "  -1.60184751e-05-3.88134091e-06j -9.27930526e-06-7.01869730e-06j]\n",
            " [ 3.05232330e-06+1.83191496e-05j -1.60184751e-05-3.88134091e-06j\n",
            "   1.92048577e-05-2.38523395e-05j ...  2.66378092e-05+1.66007451e-05j\n",
            "   1.92048577e-05-2.38523395e-05j -1.60184751e-05-3.88134091e-06j]\n",
            " ...\n",
            " [-2.55283420e-05+3.51933269e-05j -1.84534178e-05-1.33396675e-05j\n",
            "   2.66378092e-05+1.66007451e-05j ... -2.28637871e-05+3.74927903e-05j\n",
            "   2.66378092e-05+1.66007451e-05j -1.84534178e-05-1.33396675e-05j]\n",
            " [ 3.05232330e-06+1.83191496e-05j -1.60184751e-05-3.88134091e-06j\n",
            "   1.92048577e-05-2.38523395e-05j ...  2.66378092e-05+1.66007451e-05j\n",
            "   1.92048577e-05-2.38523395e-05j -1.60184751e-05-3.88134091e-06j]\n",
            " [-1.77686854e-05-2.39601114e-06j -9.27930526e-06-7.01869730e-06j\n",
            "  -1.60184751e-05-3.88134091e-06j ... -1.84534178e-05-1.33396675e-05j\n",
            "  -1.60184751e-05-3.88134091e-06j -9.27930526e-06-7.01869730e-06j]]\n"
          ]
        }
      ],
      "source": [
        "# Propagar con Fresnel la transmitancia obteniendo el punto de Arago\n",
        "Arago = Fresnel(Obstaculolimitado, w_length, 2.46*mm, dx, dy, 0)\n",
        "fun_ploteo_complejo(Arago, \"I\", 1)\n",
        "print(Arago)"
      ]
    },
    {
      "cell_type": "code",
      "execution_count": 129,
      "metadata": {
        "colab": {
          "base_uri": "https://localhost:8080/",
          "height": 269
        },
        "id": "4QvCwyigvoJi",
        "outputId": "99b2bfca-f43a-4a5e-dc7c-586b2b798ce9"
      },
      "outputs": [],
      "source": [
        "# Amplificarlo con logaritmo\n",
        "Arago = Fresnel(Obstaculolimitado, w_length, 2.46*mm, dx, dy, 0)\n",
        "fun_ploteo_complejo(Arago, \"I\", 0)"
      ]
    },
    {
      "cell_type": "code",
      "execution_count": 134,
      "metadata": {
        "colab": {
          "base_uri": "https://localhost:8080/",
          "height": 293
        },
        "id": "oOVXEb5t3hp4",
        "outputId": "d5b6788f-d67f-4fcf-e03d-617f4b064793"
      },
      "outputs": [
        {
          "data": {
            "text/plain": [
              "[<matplotlib.lines.Line2D at 0x2149d9afeb0>]"
            ]
          },
          "execution_count": 134,
          "metadata": {},
          "output_type": "execute_result"
        }
      ],
      "source": [
        "# Graficar las magnitudes de la diagonal del punto de Poisson\n",
        "plt.plot(np.abs(np.diag(np.abs(Arago)**2)))\n",
        "# Notar en el centro el pico de intensidad, que representa el punto de Poisson"
      ]
    },
    {
      "cell_type": "code",
      "execution_count": null,
      "metadata": {
        "id": "E_csFcjXLT6Y"
      },
      "outputs": [],
      "source": []
    }
  ],
  "metadata": {
    "colab": {
      "collapsed_sections": [],
      "name": "codigo_3-25_Estefania.ipynb",
      "provenance": []
    },
    "interpreter": {
      "hash": "ac59ebe37160ed0dfa835113d9b8498d9f09ceb179beaac4002f036b9467c963"
    },
    "kernelspec": {
      "display_name": "Python 3.9.7 64-bit",
      "language": "python",
      "name": "python3"
    },
    "language_info": {
      "codemirror_mode": {
        "name": "ipython",
        "version": 3
      },
      "file_extension": ".py",
      "mimetype": "text/x-python",
      "name": "python",
      "nbconvert_exporter": "python",
      "pygments_lexer": "ipython3",
      "version": "3.9.7"
    },
    "orig_nbformat": 4
  },
  "nbformat": 4,
  "nbformat_minor": 0
}
