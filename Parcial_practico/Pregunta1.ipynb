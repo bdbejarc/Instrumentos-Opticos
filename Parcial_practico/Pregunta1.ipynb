{
 "cells": [
  {
   "cell_type": "code",
   "execution_count": 1,
   "metadata": {},
   "outputs": [],
   "source": [
    "# Importar librerías\n",
    "\n",
    "import pandas as pd\n",
    "import matplotlib as mlt\n",
    "import numpy as np\n",
    "import matplotlib.pyplot as plt\n",
    "import cv2"
   ]
  },
  {
   "cell_type": "code",
   "execution_count": 2,
   "metadata": {},
   "outputs": [],
   "source": [
    "# Para que las gráficas se impriman no en el notebook, sino en una nueva pestaña\n",
    "%matplotlib qt"
   ]
  },
  {
   "cell_type": "code",
   "execution_count": 3,
   "metadata": {},
   "outputs": [],
   "source": [
    "# Coordenadas de mundo\n",
    "nm = 1e-9\n",
    "um = 1e-6\n",
    "mm = 1e-3\n",
    "cm = 1e-2\n",
    "\n",
    "# Longitud de onda\n",
    "w_length = 600*nm\n",
    "\n",
    "#\n",
    "Lu = 4.2\n",
    "Lv = 3.18\n"
   ]
  },
  {
   "cell_type": "code",
   "execution_count": 4,
   "metadata": {},
   "outputs": [],
   "source": [
    "# Función para graficar complejos\n",
    "def fun_ploteo_complejo(mat, indicador, escala, mapa_color = 'gray'):\n",
    "    \"\"\"\n",
    "    mat  es una matriz compleja a plotear\n",
    "    indicador = I para intensidad, A para amplitud, P para fase\n",
    "    escala = 1 para nada, 0 para logarítmica\n",
    "    \"\"\"\n",
    "\n",
    "    if(indicador ==\"I\"):\n",
    "        mat = np.abs(mat)**2\n",
    "    elif(indicador == \"A\"):\n",
    "        mat = np.abs(mat)\n",
    "    elif(indicador == \"P\"):\n",
    "        mat = np.angle(mat)\n",
    "\n",
    "    if (escala == 1):\n",
    "        plt.figure()\n",
    "        plt.imshow(mat, cmap = mapa_color)\n",
    "        plt.colorbar()\n",
    "        plt.show()\n",
    "    else:    \n",
    "        plt.figure()\n",
    "        plt.imshow( np.log( mat + 0.000000001), cmap = mapa_color)\n",
    "        plt.colorbar()\n",
    "        plt.show()\n",
    "#----------------------------------------------------------------------------------------------------------------\n",
    "# Función para \"Pading\"\n",
    "def fun_pad(campo, tipo = 'c'):\n",
    "    '''\n",
    "    fun_pad es una función que \"padea\" un campo (imagen) 2D con ceros tal que duplica su longitud y altura\n",
    "\n",
    "    Solo recibe imágenes de 1 canal\n",
    "\n",
    "    Variables de entrada:\n",
    "     - campo: (numpy.ndarray) ; es el campo a padear de L_x y L_y dimensiones físicas reales\n",
    "     - tipo: (str) ; c = pad cuadrado, de lado y lado con la dimensión máxima de campo\n",
    "                     o = pad rectangualr teniendo en cuenta las dimensiones de campo\n",
    "\n",
    "    Variables de salida:\n",
    "     - campo_paded: (numpy.ndarray) ; es el campo padeado con ceros de dimensiones 2*L_x y 2*L_y \n",
    "    '''\n",
    "\n",
    "    \n",
    "    if tipo == 'c':\n",
    "        dim_max = max(np.shape(campo))\n",
    "        \n",
    "        dimension_pad = np.ceil(np.array( [ int(2*dim_max-np.shape(campo)[0]) , int(2*dim_max-np.shape(campo)[1]) ] ) / 2)\n",
    "        campo_paded = np.pad(campo, ( (int(dimension_pad[0]), int(dimension_pad[0])-1 ), (int(dimension_pad[1]), int(dimension_pad[1]) ) ), mode = 'constant', constant_values = (0,0) )\n",
    "    \n",
    "\n",
    "    else:\n",
    "        # extraer las dimensiones del pad\n",
    "        dimension_pad = np.array( [np.shape(campo)[0] , np.shape(campo)[1] ] ) / 2\n",
    "\n",
    "    # padear el campo con ceros\n",
    "        campo_paded = np.pad(campo, ( (int(dimension_pad[0]), int(dimension_pad[0]) ), (int(dimension_pad[1]), int(dimension_pad[1])) ), mode = 'constant', constant_values = (0,0) )\n",
    "\n",
    "    return (campo_paded)\n",
    "\n",
    "#----------------------------------------------------------------------------------------------------------------\n",
    "# Función calculadora del z crítico\n",
    "def fun_z_c(M, dx, w_length):\n",
    "    '''\n",
    "    fun_z_c es una función que calcula el la distancia de propagación crítica (z crítico) donde los métodos\n",
    "    de propagación AS y Fresnel funcionan, dados un campo, tamaño de discretización y longitu de onda\n",
    "    \n",
    "    Variables de entrada\n",
    "     - M: int ; número de muestreos\n",
    "     - dx: float ; tamaño de discretización (tamaño del pixel)\n",
    "     - w_length: float ; longitud de onda\n",
    "\n",
    "    Variables de salida\n",
    "     - z_c: float ; z crítico\n",
    "    '''\n",
    "    z_c = M*dx**2/w_length\n",
    "\n",
    "    return z_c\n",
    "\n",
    "#----------------------------------------------------------------------------------------------------------------\n",
    "# Función para crear máscaras cuadradas y circulares centradas en la imagen\n",
    "def fun_mask(dim, L_R, tipo = 1, forma ='circ'):\n",
    "    '''\n",
    "    fun_mask es una función que crea y grafica máscaras ciruclares o cuadradas centradas en la imagen\n",
    "    \n",
    "    Variables de entrada\n",
    "     - dim: int ; dimensión del campo\n",
    "     - L_R: int ; tamaño de la máscara (radio o longitud)\n",
    "     - tipo: int ; 0 para un obstaculo\n",
    "                 ; 1 para una apertura\n",
    "     - forma: str ; 'cir' para circulos\n",
    "                    'rect' para cuadrados\n",
    "\n",
    "    Variables de salida\n",
    "     - mascara: matriz de dimensiones  dim x dim con una mascara \n",
    "    '''\n",
    "\n",
    "    if tipo == 0:\n",
    "        mascara = np.ones(np.array([dim,dim]), dtype = \"uint8\") # uint8 tipo de la variable de la matriz (enteros de 8 bit)\n",
    "    else:\n",
    "        mascara = np.zeros(np.array([dim,dim]), dtype = \"uint8\") # uint8 tipo de la variable de la matriz (enteros de 8 bit)\n",
    "\n",
    "    # Como mi imagen no es cuadrada, entonces necesito dos coordenadas\n",
    "    # para el centro\n",
    "    centro1 = int(mascara.shape[0]/2)\n",
    "    centro2 = int(mascara.shape[1]/2)\n",
    "\n",
    "    if forma == 'circ':\n",
    "        #Graficar la máscara circular \n",
    "        cv2.circle(mascara, (centro1, centro2), L_R, tipo, -1)\n",
    "        plt.figure()\n",
    "        plt.imshow(mascara)\n",
    "        plt.colorbar() # Para mostrar barra de colores\n",
    "        plt.show()\n",
    "\n",
    "    elif forma == 'rect':\n",
    "        inicio = (int(centro1-L_R/2),int(centro2-L_R/2))\n",
    "        fin = (int(centro1+L_R/2),int(centro2+L_R/2))\n",
    "        cv2.rectangle(mascara, inicio, fin,  tipo, -1)\n",
    "        plt.figure()\n",
    "        plt.imshow(mascara)\n",
    "        plt.colorbar() # Para mostrar barra de colores\n",
    "        plt.show()\n",
    "    \n",
    "    return mascara\n",
    "\n",
    "def fft(campo):\n",
    "    fft_campo = np.fft.fftshift(np.fft.fftn(campo))\n",
    "\n",
    "    return fft_campo\n",
    "\n",
    "def ifft(campo):\n",
    "    fft_campo = np.fft.fftshift(np.fft.ifftn(campo))\n",
    "    return fft_campo\n"
   ]
  },
  {
   "cell_type": "markdown",
   "metadata": {},
   "source": [
    "# Lectura de imagen "
   ]
  },
  {
   "cell_type": "code",
   "execution_count": 5,
   "metadata": {},
   "outputs": [
    {
     "name": "stdout",
     "output_type": "stream",
     "text": [
      "dimensión de la imagen original es:  (2835, 2182, 3)\n"
     ]
    }
   ],
   "source": [
    "# Lectura de la fotografía\n",
    "gala = cv2.imread('gala.jpg')              # Lecutra del .csv como un objeto np.array\n",
    "# Pasar de 3 canales a 1 (monocromático)\n",
    "gala_gray = cv2.cvtColor(gala, cv2.COLOR_BGR2GRAY)\n",
    "\n",
    "# # Padear la figura de manera cuadrada\n",
    "# gala_paded = fun_pad(gala_gray)\n",
    "\n",
    "# # Imprimir imagen padeada\n",
    "# plt.imshow(gala_paded, cmap ='gray')\n",
    "\n",
    "print(\"dimensión de la imagen original es: \", np.shape(gala))\n",
    "# print(\"dimensión de la imagen padeada es:\", np.shape(gala_paded))\n",
    "\n",
    "ft_gala = fft(gala)\n",
    "# ft_gala = fft(gala_paded)\n",
    "\n",
    "plt.figure()\n",
    "plt.imshow(gala_gray, cmap = 'gray')\n",
    "plt.colorbar()\n",
    "plt.show()"
   ]
  },
  {
   "cell_type": "markdown",
   "metadata": {},
   "source": [
    "# Funciones para simulación"
   ]
  },
  {
   "cell_type": "code",
   "execution_count": 6,
   "metadata": {},
   "outputs": [],
   "source": [
    "#----------------------------------------------------------------------------------------------------------------\n",
    "# Función para crear los deltas a una distancia z\n",
    "def deltas(z_o, Lu, Lv, w_length = 600*nm ,z_i = 22*mm):\n",
    "    \"\"\"\n",
    "    Función que genera los deltas del espacio de frecuencias a una distancia zo de la lente, este objeto tendrá\n",
    "    dimensiones Lu, Lc, con espectro visible w_length,  a una distancia de la lente z_i\n",
    "\n",
    "    \"\"\"\n",
    "\n",
    "    dfu = z_o * w_length/ (z_i* Lu )\n",
    "    dfv = z_o * w_length/(z_i* Lv )\n",
    "\n",
    "    return np.array([dfu,dfv])\n",
    "#----------------------------------------------------------------------------------------------------------------\n",
    "# Función para calcular la frecuencia de corte obtenida por el análisis de sistemas generalizados\n",
    "def f_critico (z_o, w_length, r = 3*mm):\n",
    "    \"\"\"\n",
    "    Función que calcula la frecuencia de corte de un ojo humano, recibe la distancia del objeto z_o, la longitud\n",
    "    de onda del espectro visible w_length y el radio de la pupila r\n",
    "    \"\"\"\n",
    "    f_c = r/(w_length*z_o)\n",
    "\n",
    "    return f_c\n",
    "#----------------------------------------------------------------------------------------------------------------\n",
    "# Función para calcular la función de la pupila escalada\n",
    "def pupila(campo, z_o, Lu, Lv, w_length, r = 3*mm, z_i = 22*mm):\n",
    "    \"\"\"\n",
    "    Función que genera una máscara simulando el efecto de la pupila del ojo humano, las frecuencias permitidas\n",
    "    serán aquellas que sean menor al valor de frecuencia de corte.\n",
    "    Recibe el campo en el plano objeto ubicado a una distancia z_o, con dimensiones Lu, Lv, con longitud de onda\n",
    "    del espectro visible w_length, el radio de la pupila r y la distancia a la retina z_i\n",
    "    \"\"\"\n",
    "    N,M = np.shape(campo)\n",
    "\n",
    "    dfu, dfv = deltas(z_o, Lu, Lv, z_i)\n",
    "\n",
    "    p = np.arange(-int(np.floor(M/2) ), int(np.ceil(M/2) ), 1)\n",
    "    q = np.arange(-int(np.floor(N/2) ), int(np.ceil(N/2) ), 1)\n",
    "  \n",
    "    P, Q = np.meshgrid(p, q)\n",
    "\n",
    "    Fu = P*dfu\n",
    "    Fv = Q*dfv\n",
    "\n",
    "    f_c = f_critico(z_o, w_length, r)\n",
    "\n",
    "    # generar el filtro pasa-bajas debido a la pupila\n",
    "    circulo = np.array(Fu**2 + Fv**2 <= f_c**2, dtype = bool)\n",
    "\n",
    "\n",
    "    plt.figure()\n",
    "    plt.imshow(circulo)\n",
    "    plt.colorbar()\n",
    "    plt.show()\n",
    "\n",
    "    return circulo\n",
    "\n",
    "#----------------------------------------------------------------------------------------------------------------\n",
    "# Función que simula el efecto de la formación de una imagen en la retina del ojo humano\n",
    "def U_i(U_o, z_o, Lu, Lv, w_length = 600*nm, r = 3*mm,z_i =22*mm, ):\n",
    "    \"\"\"\n",
    "    Esta función simula el efecto de formación de imágenes del ojo humano de un objeto con campo U_o\n",
    "    a una distancia z_o, con dimensiones Lu,Lv, longitu de onda longitud de onda\n",
    "    del espectro visible w_length, el radio de la pupila r y la distancia a la retina z_i\n",
    "    \"\"\"\n",
    "    # Obener espectro del campo\n",
    "    fft_U_o = fft(U_o)\n",
    "    \n",
    "    # Crear la pupila del ojo específica a esa distancia para ese objeto\n",
    "    pupila_ojo = pupila(U_o, z_o, Lu, Lv, w_length, r , z_i)\n",
    "\n",
    "    # \"Convolucionar\"\n",
    "        # filtrar las frecuencias \n",
    "    fft_U_i = fft_U_o * pupila_ojo\n",
    "        # Obtener el campo real\n",
    "    U_i = np.fft.fftshift(ifft(fft_U_i))\n",
    "\n",
    "    # Graficar\n",
    "    fun_ploteo_complejo(U_i, \"I\", 1)\n",
    "\n",
    "    return U_i\n"
   ]
  },
  {
   "cell_type": "markdown",
   "metadata": {},
   "source": [
    "# Simulación "
   ]
  },
  {
   "cell_type": "code",
   "execution_count": 7,
   "metadata": {},
   "outputs": [],
   "source": [
    "# Simular el efecto de un objeto a una distancia z_o\n",
    "simulacion = U_i(gala_gray, 17, Lu, Lv)"
   ]
  },
  {
   "cell_type": "code",
   "execution_count": 46,
   "metadata": {},
   "outputs": [],
   "source": [
    "def deltas(z_o, Lu, Lv, w_length = 600*nm ,z_i = 22*mm):\n",
    "    dfu = z_o * w_length/ (z_i* Lu )\n",
    "    dfv = z_o * w_length/(z_i* Lv )\n",
    "\n",
    "    return np.array([dfu,dfv])\n",
    "\n",
    "def f_critico (z_o, w_length, r = 3*mm):\n",
    "    f_c = r/(w_length*z_o)\n",
    "\n",
    "    return f_c\n",
    "\n",
    "def pupila(campo, z_o, Lu, Lv, w_length, r = 3*mm, z_i = 22*mm):\n",
    "    # Esta es otra función de creación de máscaras \n",
    "    N,M = np.shape(campo)\n",
    "\n",
    "    dfu, dfv = deltas(z_o, Lu, Lv, z_i)\n",
    "\n",
    "    p = np.arange(-int(np.floor(M/2) ), int(np.ceil(M/2) ), 1)\n",
    "    q = np.arange(-int(np.floor(N/2) ), int(np.ceil(N/2) ), 1)\n",
    "  \n",
    "    P, Q = np.meshgrid(p, q)\n",
    "\n",
    "    Fu = P*dfu\n",
    "    Fv = Q*dfv\n",
    "\n",
    "    f_c = f_critico(z_o, w_length, r)\n",
    "\n",
    "    circulo = np.array(Fu**2 + Fv**2 <= f_c**2, dtype = bool)\n",
    "\n",
    "\n",
    "    plt.figure()\n",
    "    plt.imshow(circulo)\n",
    "    plt.colorbar()\n",
    "    plt.show()\n",
    "\n",
    "    return circulo\n",
    "    "
   ]
  },
  {
   "cell_type": "code",
   "execution_count": 51,
   "metadata": {},
   "outputs": [
    {
     "name": "stdout",
     "output_type": "stream",
     "text": [
      "f critico:  499.99999999999994\n",
      "deltas:  [6.49350649e-05 8.57632933e-05]\n",
      "dimensiones de la pupila:  (2835, 2182)\n"
     ]
    }
   ],
   "source": [
    "print(\"f critico: \", f_critico(10, w_length) )\n",
    "print(\"deltas: \", deltas(10, 4.2, 3.18))\n",
    "\n",
    "\n",
    "pupila_filtro = pupila(gala_gray, 45, 4.2, 3.18, w_length)\n",
    "\n",
    "print(\"dimensiones de la pupila: \",pupila_filtro.shape)"
   ]
  },
  {
   "cell_type": "code",
   "execution_count": 52,
   "metadata": {},
   "outputs": [],
   "source": [
    "fun_ploteo_complejo(np.fft.fftshift(ifft(fft(gala_gray)*pupila_filtro)), \"A\", 0)"
   ]
  },
  {
   "cell_type": "code",
   "execution_count": 12,
   "metadata": {},
   "outputs": [],
   "source": [
    "fun_ploteo_complejo(np.fft.fftshift(ifft(ft_gala*pupila_ojo)), \"I\", 1)"
   ]
  },
  {
   "cell_type": "code",
   "execution_count": null,
   "metadata": {},
   "outputs": [],
   "source": [
    " https://wa.me/573015882452"
   ]
  },
  {
   "cell_type": "code",
   "execution_count": null,
   "metadata": {},
   "outputs": [],
   "source": [
    " https://wa.me/573505077894"
   ]
  },
  {
   "cell_type": "code",
   "execution_count": 47,
   "metadata": {},
   "outputs": [
    {
     "data": {
      "text/plain": [
       "0.02908882599444451"
      ]
     },
     "execution_count": 47,
     "metadata": {},
     "output_type": "execute_result"
    }
   ],
   "source": [
    "2*20*np.tan(np.radians(2.5/60) )"
   ]
  },
  {
   "cell_type": "code",
   "execution_count": 62,
   "metadata": {},
   "outputs": [],
   "source": [
    "fft_gala = fft(gala_paded)"
   ]
  },
  {
   "cell_type": "code",
   "execution_count": 64,
   "metadata": {},
   "outputs": [],
   "source": [
    "fun_ploteo_complejo(fft_gala, \"I\",0)"
   ]
  }
 ],
 "metadata": {
  "interpreter": {
   "hash": "ac59ebe37160ed0dfa835113d9b8498d9f09ceb179beaac4002f036b9467c963"
  },
  "kernelspec": {
   "display_name": "Python 3.9.7 64-bit",
   "language": "python",
   "name": "python3"
  },
  "language_info": {
   "codemirror_mode": {
    "name": "ipython",
    "version": 3
   },
   "file_extension": ".py",
   "mimetype": "text/x-python",
   "name": "python",
   "nbconvert_exporter": "python",
   "pygments_lexer": "ipython3",
   "version": "3.9.7"
  },
  "orig_nbformat": 4
 },
 "nbformat": 4,
 "nbformat_minor": 2
}
